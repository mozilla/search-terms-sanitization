{
 "cells": [
  {
   "cell_type": "code",
   "execution_count": 1,
   "id": "724781ec-5c70-4345-b4d1-e2870db94642",
   "metadata": {},
   "outputs": [],
   "source": [
    "from data_validation import retrieve_data_validation_metrics, record_validation_results\n",
    "from datetime import date, timedelta\n",
    "import pandas as pd\n",
    "from collections import namedtuple"
   ]
  },
  {
   "cell_type": "code",
   "execution_count": 2,
   "id": "b442084d-104c-44cd-8ade-2d7deedb2edb",
   "metadata": {},
   "outputs": [],
   "source": [
    "class Args:\n",
    "    pass\n",
    "\n",
    "args = Args()\n",
    "args.data_validation_origin = 'mozdata.search_terms_unsanitized_analysis.prototype_data_validation_metrics'\n",
    "args.data_validation_reporting_destination = 'mozdata.search_terms_unsanitized_analysis.prototype_data_validation_reports_v1'"
   ]
  },
  {
   "cell_type": "code",
   "execution_count": 3,
   "id": "4e873fa8-8baa-41b3-8f8e-268568691759",
   "metadata": {},
   "outputs": [],
   "source": [
    "val_df = retrieve_data_validation_metrics(args.data_validation_origin)"
   ]
  },
  {
   "cell_type": "markdown",
   "id": "890a8c1a-6a23-478e-beef-f7fbd469e5b6",
   "metadata": {},
   "source": [
    "If, in this next cell containing `record_validation_results`, you receive an error about the range_low being NaN, the problem is probably that you have not populated the data in staging. This code operates on the last X days of data, and if it has been that long since any staging data was added, there's no data for it to operate on. The script assumes data is there and should not succeed if there is no data, because that hides a SUPER big issue, so please do not just default the NaNs to zero in the code. \n",
    "\n",
    "Instead, what you actually need to do here is go run the notebook in this folder called `mimic-production-tables-in-mozdata.ipynb`, which will populate the data that this script expects to be present when it runs."
   ]
  },
  {
   "cell_type": "code",
   "execution_count": 5,
   "id": "f0754f05-7900-4a1b-9d5f-e912c1fa0fd7",
   "metadata": {},
   "outputs": [
    {
     "name": "stdout",
     "output_type": "stream",
     "text": [
      "Data validation results recorded successfully!\n",
      "Data validation results recorded successfully!\n",
      "Data validation results recorded successfully!\n",
      "Data validation results recorded successfully!\n",
      "Data validation results recorded successfully!\n",
      "Data validation results recorded successfully!\n",
      "Data validation results recorded successfully!\n",
      "Data validation results recorded successfully!\n"
     ]
    }
   ],
   "source": [
    "result = record_validation_results(val_df, args.data_validation_reporting_destination)"
   ]
  },
  {
   "cell_type": "code",
   "execution_count": null,
   "id": "e453f9e2-1314-4631-9624-dcadfd361203",
   "metadata": {},
   "outputs": [],
   "source": []
  }
 ],
 "metadata": {
  "environment": {
   "kernel": "python3",
   "name": "common-cpu.m91",
   "type": "gcloud",
   "uri": "gcr.io/deeplearning-platform-release/base-cpu:m91"
  },
  "kernelspec": {
   "display_name": "Python 3",
   "language": "python",
   "name": "python3"
  },
  "language_info": {
   "codemirror_mode": {
    "name": "ipython",
    "version": 3
   },
   "file_extension": ".py",
   "mimetype": "text/x-python",
   "name": "python",
   "nbconvert_exporter": "python",
   "pygments_lexer": "ipython3",
   "version": "3.7.12"
  }
 },
 "nbformat": 4,
 "nbformat_minor": 5
}
