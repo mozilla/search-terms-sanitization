{
 "cells": [
  {
   "cell_type": "markdown",
   "id": "2fab7746-af4e-4aad-87ff-d98eddc2326f",
   "metadata": {},
   "source": [
    "# Download and prepare the AOL search dataset for testing"
   ]
  },
  {
   "cell_type": "markdown",
   "id": "02494cee-4f08-4213-846a-252b8656ffa8",
   "metadata": {},
   "source": [
    "The [AOL search dataset](http://www.cim.mcgill.ca/~dudek/206/Logs/AOL-user-ct-collection/) lists ~36M search queries issued to the AOL search engine in 2006 along with the clicked result URLs. It includes user IDs, timestamp, query text and clicked search result URL.\n",
    "\n",
    "Although outdated, it's one of the main sources of public search query data available. We download and extract a subset for testing sanitization methods."
   ]
  },
  {
   "cell_type": "code",
   "execution_count": 17,
   "id": "595f5381-55a2-4609-b5a3-29e9d0b252d3",
   "metadata": {},
   "outputs": [],
   "source": [
    "import pandas as pd\n",
    "# from tldextract import extract as tldextract\n",
    "\n",
    "pd.set_option(\"display.max_rows\", 500)\n",
    "pd.set_option(\"display.max_columns\", None)\n",
    "pd.set_option(\"display.max_colwidth\", None)\n",
    "pd.set_option(\"display.show_dimensions\", True)"
   ]
  },
  {
   "cell_type": "code",
   "execution_count": 18,
   "id": "b7a0707e-d0cc-4365-b05c-29dd271f0bd0",
   "metadata": {},
   "outputs": [],
   "source": [
    "# Download the first slice, ~200MB\n",
    "AOL_DATA_SOURCE = \"http://www.cim.mcgill.ca/~dudek/206/Logs/AOL-user-ct-collection/user-ct-test-collection-01.txt\"\n",
    "\n",
    "QUERY_CSV = \"../assets/aol_queries.csv.gz\""
   ]
  },
  {
   "cell_type": "markdown",
   "id": "10671652-316a-4717-8c68-b02b1ce02b9d",
   "metadata": {},
   "source": [
    "Load the dataset"
   ]
  },
  {
   "cell_type": "code",
   "execution_count": 19,
   "id": "0f160e06-5f64-46f6-8fda-c97eccdaed33",
   "metadata": {},
   "outputs": [],
   "source": [
    "df = pd.read_csv(AOL_DATA_SOURCE, sep=\"\\t\")"
   ]
  },
  {
   "cell_type": "code",
   "execution_count": 12,
   "id": "057af128-6f8a-45bb-8a19-fedbc84d43d9",
   "metadata": {},
   "outputs": [
    {
     "data": {
      "text/html": [
       "<div>\n",
       "<style scoped>\n",
       "    .dataframe tbody tr th:only-of-type {\n",
       "        vertical-align: middle;\n",
       "    }\n",
       "\n",
       "    .dataframe tbody tr th {\n",
       "        vertical-align: top;\n",
       "    }\n",
       "\n",
       "    .dataframe thead th {\n",
       "        text-align: right;\n",
       "    }\n",
       "</style>\n",
       "<table border=\"1\" class=\"dataframe\">\n",
       "  <thead>\n",
       "    <tr style=\"text-align: right;\">\n",
       "      <th></th>\n",
       "      <th>AnonID</th>\n",
       "      <th>Query</th>\n",
       "      <th>QueryTime</th>\n",
       "      <th>ItemRank</th>\n",
       "      <th>ClickURL</th>\n",
       "    </tr>\n",
       "  </thead>\n",
       "  <tbody>\n",
       "    <tr>\n",
       "      <th>0</th>\n",
       "      <td>142</td>\n",
       "      <td>rentdirect.com</td>\n",
       "      <td>2006-03-01 07:17:12</td>\n",
       "      <td>NaN</td>\n",
       "      <td>NaN</td>\n",
       "    </tr>\n",
       "    <tr>\n",
       "      <th>1</th>\n",
       "      <td>142</td>\n",
       "      <td>www.prescriptionfortime.com</td>\n",
       "      <td>2006-03-12 12:31:06</td>\n",
       "      <td>NaN</td>\n",
       "      <td>NaN</td>\n",
       "    </tr>\n",
       "    <tr>\n",
       "      <th>2</th>\n",
       "      <td>142</td>\n",
       "      <td>staple.com</td>\n",
       "      <td>2006-03-17 21:19:29</td>\n",
       "      <td>NaN</td>\n",
       "      <td>NaN</td>\n",
       "    </tr>\n",
       "    <tr>\n",
       "      <th>3</th>\n",
       "      <td>142</td>\n",
       "      <td>staple.com</td>\n",
       "      <td>2006-03-17 21:19:45</td>\n",
       "      <td>NaN</td>\n",
       "      <td>NaN</td>\n",
       "    </tr>\n",
       "    <tr>\n",
       "      <th>4</th>\n",
       "      <td>142</td>\n",
       "      <td>www.newyorklawyersite.com</td>\n",
       "      <td>2006-03-18 08:02:58</td>\n",
       "      <td>NaN</td>\n",
       "      <td>NaN</td>\n",
       "    </tr>\n",
       "    <tr>\n",
       "      <th>...</th>\n",
       "      <td>...</td>\n",
       "      <td>...</td>\n",
       "      <td>...</td>\n",
       "      <td>...</td>\n",
       "      <td>...</td>\n",
       "    </tr>\n",
       "    <tr>\n",
       "      <th>3558406</th>\n",
       "      <td>24968114</td>\n",
       "      <td>-</td>\n",
       "      <td>2006-05-31 01:04:20</td>\n",
       "      <td>NaN</td>\n",
       "      <td>NaN</td>\n",
       "    </tr>\n",
       "    <tr>\n",
       "      <th>3558407</th>\n",
       "      <td>24969251</td>\n",
       "      <td>sp.trafficmarketplace.com</td>\n",
       "      <td>2006-05-31 15:51:23</td>\n",
       "      <td>NaN</td>\n",
       "      <td>NaN</td>\n",
       "    </tr>\n",
       "    <tr>\n",
       "      <th>3558408</th>\n",
       "      <td>24969374</td>\n",
       "      <td>orioles tickets</td>\n",
       "      <td>2006-05-31 12:24:51</td>\n",
       "      <td>NaN</td>\n",
       "      <td>NaN</td>\n",
       "    </tr>\n",
       "    <tr>\n",
       "      <th>3558409</th>\n",
       "      <td>24969374</td>\n",
       "      <td>orioles tickets</td>\n",
       "      <td>2006-05-31 12:31:57</td>\n",
       "      <td>2.0</td>\n",
       "      <td>http://www.greatseats.com</td>\n",
       "    </tr>\n",
       "    <tr>\n",
       "      <th>3558410</th>\n",
       "      <td>24969374</td>\n",
       "      <td>baltimore marinas</td>\n",
       "      <td>2006-05-31 12:43:40</td>\n",
       "      <td>NaN</td>\n",
       "      <td>NaN</td>\n",
       "    </tr>\n",
       "  </tbody>\n",
       "</table>\n",
       "<p>3558411 rows × 5 columns</p>\n",
       "</div>"
      ],
      "text/plain": [
       "           AnonID                        Query            QueryTime  ItemRank  \\\n",
       "0             142               rentdirect.com  2006-03-01 07:17:12       NaN   \n",
       "1             142  www.prescriptionfortime.com  2006-03-12 12:31:06       NaN   \n",
       "2             142                   staple.com  2006-03-17 21:19:29       NaN   \n",
       "3             142                   staple.com  2006-03-17 21:19:45       NaN   \n",
       "4             142    www.newyorklawyersite.com  2006-03-18 08:02:58       NaN   \n",
       "...           ...                          ...                  ...       ...   \n",
       "3558406  24968114                            -  2006-05-31 01:04:20       NaN   \n",
       "3558407  24969251    sp.trafficmarketplace.com  2006-05-31 15:51:23       NaN   \n",
       "3558408  24969374              orioles tickets  2006-05-31 12:24:51       NaN   \n",
       "3558409  24969374              orioles tickets  2006-05-31 12:31:57       2.0   \n",
       "3558410  24969374            baltimore marinas  2006-05-31 12:43:40       NaN   \n",
       "\n",
       "                          ClickURL  \n",
       "0                              NaN  \n",
       "1                              NaN  \n",
       "2                              NaN  \n",
       "3                              NaN  \n",
       "4                              NaN  \n",
       "...                            ...  \n",
       "3558406                        NaN  \n",
       "3558407                        NaN  \n",
       "3558408                        NaN  \n",
       "3558409  http://www.greatseats.com  \n",
       "3558410                        NaN  \n",
       "\n",
       "[3558411 rows x 5 columns]"
      ]
     },
     "execution_count": 12,
     "metadata": {},
     "output_type": "execute_result"
    }
   ],
   "source": [
    "df"
   ]
  },
  {
   "cell_type": "markdown",
   "id": "619e3f41-e5a8-4603-b680-3f8ce1f0b420",
   "metadata": {},
   "source": [
    "Distribution of # queries per user:"
   ]
  },
  {
   "cell_type": "code",
   "execution_count": 35,
   "id": "91df8868-9992-4ee7-83b2-7cf3c9193ce0",
   "metadata": {},
   "outputs": [
    {
     "data": {
      "text/plain": [
       "count    65516.000000\n",
       "mean        54.313618\n",
       "std        123.377710\n",
       "min          1.000000\n",
       "25%          5.000000\n",
       "50%         17.000000\n",
       "75%         52.000000\n",
       "max       3755.000000\n",
       "Name: AnonID, Length: 8, dtype: float64"
      ]
     },
     "execution_count": 35,
     "metadata": {},
     "output_type": "execute_result"
    }
   ],
   "source": [
    "df[\"AnonID\"].value_counts().describe()"
   ]
  },
  {
   "cell_type": "markdown",
   "id": "8013ce36-1cee-4859-8aad-3778af98d363",
   "metadata": {},
   "source": [
    "For sanitization, it is enough to work with the unique queries."
   ]
  },
  {
   "cell_type": "code",
   "execution_count": 65,
   "id": "9f25084d-08f2-4ad2-a62c-0a7db168e0af",
   "metadata": {},
   "outputs": [],
   "source": [
    "queries = (\n",
    "    df[\"Query\"]\n",
    "    .str.strip()\n",
    "    .sort_values(ignore_index=True)\n",
    "    .drop_duplicates()\n",
    "    .dropna()\n",
    "    .rename(\"query\")\n",
    ")"
   ]
  },
  {
   "cell_type": "code",
   "execution_count": 46,
   "id": "5ce51e7a-56ac-418f-9b61-cf0dcd3bc6f4",
   "metadata": {},
   "outputs": [
    {
     "name": "stdout",
     "output_type": "stream",
     "text": [
      "Num unique queries: 1,216,652\n"
     ]
    }
   ],
   "source": [
    "print(f\"Num unique queries: {len(queries):,}\")"
   ]
  },
  {
   "cell_type": "markdown",
   "id": "ee435aff-f5ee-4fe4-8f6e-ff4f45593113",
   "metadata": {},
   "source": [
    "Exclude queries that don't have any alphanumeric characters:"
   ]
  },
  {
   "cell_type": "code",
   "execution_count": 68,
   "id": "526d08b5-9000-4f59-8f85-e542bb6af79f",
   "metadata": {},
   "outputs": [
    {
     "data": {
      "text/plain": [
       "68"
      ]
     },
     "execution_count": 68,
     "metadata": {},
     "output_type": "execute_result"
    }
   ],
   "source": [
    "no_alphanum = queries.str.fullmatch(\"\\W+\")\n",
    "no_alphanum.sum()"
   ]
  },
  {
   "cell_type": "code",
   "execution_count": 69,
   "id": "427e2c98-2193-489e-96bc-d397bd1ea173",
   "metadata": {},
   "outputs": [],
   "source": [
    "queries = queries[~no_alphanum]"
   ]
  },
  {
   "cell_type": "markdown",
   "id": "53a40d03-44cd-480f-9bad-0a0ee6ea08ec",
   "metadata": {},
   "source": [
    "Queries that look like URIs:\n",
    "\n",
    "- None that look like full URLS (`http://www.example.com/...`)\n",
    "- There are some that look like domains/netlocs (`www.example.com`), but we leave these as is for now"
   ]
  },
  {
   "cell_type": "code",
   "execution_count": 90,
   "id": "f1751b7f-6e29-4772-9cc5-62bbff184a14",
   "metadata": {},
   "outputs": [
    {
     "data": {
      "text/plain": [
       "0"
      ]
     },
     "execution_count": 90,
     "metadata": {},
     "output_type": "execute_result"
    }
   ],
   "source": [
    "has_uri = queries.str.contains(\":/\")\n",
    "has_uri.sum()"
   ]
  },
  {
   "cell_type": "markdown",
   "id": "f14c9b2d-22e6-48a9-85d0-d8a380d536eb",
   "metadata": {},
   "source": [
    "Queries that include `@`:\n",
    "\n",
    "- None"
   ]
  },
  {
   "cell_type": "code",
   "execution_count": 100,
   "id": "d7571516-7c7e-4dcd-bace-23503b6f7b51",
   "metadata": {},
   "outputs": [
    {
     "data": {
      "text/plain": [
       "0"
      ]
     },
     "execution_count": 100,
     "metadata": {},
     "output_type": "execute_result"
    }
   ],
   "source": [
    "has_at = queries.str.contains(\"@\")\n",
    "has_at.sum()"
   ]
  },
  {
   "cell_type": "markdown",
   "id": "4f843990-5aad-4e40-a4c7-ca905f823ee4",
   "metadata": {},
   "source": [
    "Queries that include numeric characters:"
   ]
  },
  {
   "cell_type": "code",
   "execution_count": 109,
   "id": "fd00f142-2ccf-40e3-8cef-c2158699a732",
   "metadata": {},
   "outputs": [],
   "source": [
    "has_num = queries.str.contains(\"\\d\")"
   ]
  },
  {
   "cell_type": "code",
   "execution_count": 105,
   "id": "0d60e30a-b0a0-4e49-944a-8ed63999c8b7",
   "metadata": {},
   "outputs": [
    {
     "name": "stdout",
     "output_type": "stream",
     "text": [
      "93,857  (7.71%)\n"
     ]
    }
   ],
   "source": [
    "print(f\"{has_num.sum():,}  ({has_num.mean():.2%})\")"
   ]
  },
  {
   "cell_type": "markdown",
   "id": "30186568-a5bc-4e8c-b8fc-fa76f3ce081b",
   "metadata": {},
   "source": [
    "Queries that don't include numeric:"
   ]
  },
  {
   "cell_type": "code",
   "execution_count": 115,
   "id": "caa214fc-6dbd-429a-8705-c54b2434b2de",
   "metadata": {},
   "outputs": [
    {
     "name": "stdout",
     "output_type": "stream",
     "text": [
      "1,122,727  (92.29%)\n"
     ]
    }
   ],
   "source": [
    "print(f\"{(~has_num).sum():,}  ({(~has_num).mean():.2%})\")"
   ]
  },
  {
   "cell_type": "code",
   "execution_count": 116,
   "id": "060b2ca1-4728-49ec-99b5-da9d1a84780c",
   "metadata": {},
   "outputs": [
    {
     "data": {
      "text/html": [
       "<div>\n",
       "<style scoped>\n",
       "    .dataframe tbody tr th:only-of-type {\n",
       "        vertical-align: middle;\n",
       "    }\n",
       "\n",
       "    .dataframe tbody tr th {\n",
       "        vertical-align: top;\n",
       "    }\n",
       "\n",
       "    .dataframe thead th {\n",
       "        text-align: right;\n",
       "    }\n",
       "</style>\n",
       "<table border=\"1\" class=\"dataframe\">\n",
       "  <thead>\n",
       "    <tr style=\"text-align: right;\">\n",
       "      <th></th>\n",
       "      <th>query</th>\n",
       "    </tr>\n",
       "  </thead>\n",
       "  <tbody>\n",
       "    <tr>\n",
       "      <th>127920</th>\n",
       "      <td>2006 eclipse</td>\n",
       "    </tr>\n",
       "    <tr>\n",
       "      <th>128162</th>\n",
       "      <td>2006 hairstyles</td>\n",
       "    </tr>\n",
       "    <tr>\n",
       "      <th>508199</th>\n",
       "      <td>bt4 combat</td>\n",
       "    </tr>\n",
       "    <tr>\n",
       "      <th>678808</th>\n",
       "      <td>clients-01.eprize.net</td>\n",
       "    </tr>\n",
       "    <tr>\n",
       "      <th>813743</th>\n",
       "      <td>deaths 1927 cleveland ohio</td>\n",
       "    </tr>\n",
       "    <tr>\n",
       "      <th>949806</th>\n",
       "      <td>ebay sent this message to ronald dunham 4638ronaldd .your registered name is included to show this message originated from ebay. learn more. complete your ebay registration dear 4638ronaldd to complete your ebay registration click the activate yo</td>\n",
       "    </tr>\n",
       "    <tr>\n",
       "      <th>1391771</th>\n",
       "      <td>hometown.aol.comgolfwidow55</td>\n",
       "    </tr>\n",
       "    <tr>\n",
       "      <th>1483106</th>\n",
       "      <td>hydrocone 10 650</td>\n",
       "    </tr>\n",
       "    <tr>\n",
       "      <th>1921767</th>\n",
       "      <td>misdemeanors go away after 7 years</td>\n",
       "    </tr>\n",
       "    <tr>\n",
       "      <th>2348285</th>\n",
       "      <td>president 1736</td>\n",
       "    </tr>\n",
       "    <tr>\n",
       "      <th>2401265</th>\n",
       "      <td>raleighnewsand 20observer</td>\n",
       "    </tr>\n",
       "    <tr>\n",
       "      <th>2485621</th>\n",
       "      <td>route66.com</td>\n",
       "    </tr>\n",
       "    <tr>\n",
       "      <th>2489112</th>\n",
       "      <td>rubberbandman220 10 36 pm hahha. thats cool aquarius9062 10 37 pm sure</td>\n",
       "    </tr>\n",
       "    <tr>\n",
       "      <th>2580952</th>\n",
       "      <td>shaved en8mwgpj http</td>\n",
       "    </tr>\n",
       "    <tr>\n",
       "      <th>2655882</th>\n",
       "      <td>spanish harlem in the 1600's</td>\n",
       "    </tr>\n",
       "    <tr>\n",
       "      <th>2747089</th>\n",
       "      <td>tad056jbe</td>\n",
       "    </tr>\n",
       "    <tr>\n",
       "      <th>2754034</th>\n",
       "      <td>tapco 6306</td>\n",
       "    </tr>\n",
       "    <tr>\n",
       "      <th>2907325</th>\n",
       "      <td>u 20of 20hospital</td>\n",
       "    </tr>\n",
       "    <tr>\n",
       "      <th>3150897</th>\n",
       "      <td>www.4ever yahoo.com</td>\n",
       "    </tr>\n",
       "    <tr>\n",
       "      <th>3410611</th>\n",
       "      <td>www.smithtown.k12</td>\n",
       "    </tr>\n",
       "  </tbody>\n",
       "</table>\n",
       "<p>20 rows × 1 columns</p>\n",
       "</div>"
      ],
      "text/plain": [
       "                                                                                                                                                                                                                                                          query\n",
       "127920                                                                                                                                                                                                                                             2006 eclipse\n",
       "128162                                                                                                                                                                                                                                          2006 hairstyles\n",
       "508199                                                                                                                                                                                                                                               bt4 combat\n",
       "678808                                                                                                                                                                                                                                    clients-01.eprize.net\n",
       "813743                                                                                                                                                                                                                               deaths 1927 cleveland ohio\n",
       "949806   ebay sent this message to ronald dunham 4638ronaldd .your registered name is included to show this message originated from ebay. learn more. complete your ebay registration dear 4638ronaldd to complete your ebay registration click the activate yo\n",
       "1391771                                                                                                                                                                                                                             hometown.aol.comgolfwidow55\n",
       "1483106                                                                                                                                                                                                                                        hydrocone 10 650\n",
       "1921767                                                                                                                                                                                                                      misdemeanors go away after 7 years\n",
       "2348285                                                                                                                                                                                                                                          president 1736\n",
       "2401265                                                                                                                                                                                                                               raleighnewsand 20observer\n",
       "2485621                                                                                                                                                                                                                                             route66.com\n",
       "2489112                                                                                                                                                                                  rubberbandman220 10 36 pm hahha. thats cool aquarius9062 10 37 pm sure\n",
       "2580952                                                                                                                                                                                                                                    shaved en8mwgpj http\n",
       "2655882                                                                                                                                                                                                                            spanish harlem in the 1600's\n",
       "2747089                                                                                                                                                                                                                                               tad056jbe\n",
       "2754034                                                                                                                                                                                                                                              tapco 6306\n",
       "2907325                                                                                                                                                                                                                                       u 20of 20hospital\n",
       "3150897                                                                                                                                                                                                                                     www.4ever yahoo.com\n",
       "3410611                                                                                                                                                                                                                                       www.smithtown.k12\n",
       "\n",
       "[20 rows x 1 columns]"
      ]
     },
     "execution_count": 116,
     "metadata": {},
     "output_type": "execute_result"
    }
   ],
   "source": [
    "queries[has_num].sample(20).sort_values().to_frame()"
   ]
  },
  {
   "cell_type": "code",
   "execution_count": 117,
   "id": "39563dd2-f904-4979-a69d-ae9cc38e04e9",
   "metadata": {},
   "outputs": [
    {
     "data": {
      "text/html": [
       "<div>\n",
       "<style scoped>\n",
       "    .dataframe tbody tr th:only-of-type {\n",
       "        vertical-align: middle;\n",
       "    }\n",
       "\n",
       "    .dataframe tbody tr th {\n",
       "        vertical-align: top;\n",
       "    }\n",
       "\n",
       "    .dataframe thead th {\n",
       "        text-align: right;\n",
       "    }\n",
       "</style>\n",
       "<table border=\"1\" class=\"dataframe\">\n",
       "  <thead>\n",
       "    <tr style=\"text-align: right;\">\n",
       "      <th></th>\n",
       "      <th>query</th>\n",
       "    </tr>\n",
       "  </thead>\n",
       "  <tbody>\n",
       "    <tr>\n",
       "      <th>351843</th>\n",
       "      <td>background images</td>\n",
       "    </tr>\n",
       "    <tr>\n",
       "      <th>405869</th>\n",
       "      <td>bennettpottery.com</td>\n",
       "    </tr>\n",
       "    <tr>\n",
       "      <th>650766</th>\n",
       "      <td>christus schumpert shreveport employment</td>\n",
       "    </tr>\n",
       "    <tr>\n",
       "      <th>719071</th>\n",
       "      <td>concert tickets on sale</td>\n",
       "    </tr>\n",
       "    <tr>\n",
       "      <th>762986</th>\n",
       "      <td>creditor herassment</td>\n",
       "    </tr>\n",
       "    <tr>\n",
       "      <th>1025471</th>\n",
       "      <td>fairplay firemans carnival</td>\n",
       "    </tr>\n",
       "    <tr>\n",
       "      <th>1354686</th>\n",
       "      <td>hepatomegaly meaning</td>\n",
       "    </tr>\n",
       "    <tr>\n",
       "      <th>1674637</th>\n",
       "      <td>labrador retrievers</td>\n",
       "    </tr>\n",
       "    <tr>\n",
       "      <th>1766240</th>\n",
       "      <td>low price tires car</td>\n",
       "    </tr>\n",
       "    <tr>\n",
       "      <th>1879011</th>\n",
       "      <td>memorialhermann</td>\n",
       "    </tr>\n",
       "    <tr>\n",
       "      <th>2059720</th>\n",
       "      <td>ncaasports.com mmo</td>\n",
       "    </tr>\n",
       "    <tr>\n",
       "      <th>2681600</th>\n",
       "      <td>st.lukes hospital</td>\n",
       "    </tr>\n",
       "    <tr>\n",
       "      <th>2802539</th>\n",
       "      <td>the jewelry exchange woodbridge nj</td>\n",
       "    </tr>\n",
       "    <tr>\n",
       "      <th>3000867</th>\n",
       "      <td>waiver forms</td>\n",
       "    </tr>\n",
       "    <tr>\n",
       "      <th>3016506</th>\n",
       "      <td>water country usa</td>\n",
       "    </tr>\n",
       "    <tr>\n",
       "      <th>3135523</th>\n",
       "      <td>www cowboylyrics.com</td>\n",
       "    </tr>\n",
       "    <tr>\n",
       "      <th>3192681</th>\n",
       "      <td>www.cabinascolima.com</td>\n",
       "    </tr>\n",
       "    <tr>\n",
       "      <th>3379224</th>\n",
       "      <td>www.playagranderesort.com.mx</td>\n",
       "    </tr>\n",
       "    <tr>\n",
       "      <th>3396192</th>\n",
       "      <td>www.rosehillfineart.com</td>\n",
       "    </tr>\n",
       "    <tr>\n",
       "      <th>3414508</th>\n",
       "      <td>www.spokaneredcross.org</td>\n",
       "    </tr>\n",
       "  </tbody>\n",
       "</table>\n",
       "<p>20 rows × 1 columns</p>\n",
       "</div>"
      ],
      "text/plain": [
       "                                            query\n",
       "351843                          background images\n",
       "405869                         bennettpottery.com\n",
       "650766   christus schumpert shreveport employment\n",
       "719071                    concert tickets on sale\n",
       "762986                        creditor herassment\n",
       "1025471                fairplay firemans carnival\n",
       "1354686                      hepatomegaly meaning\n",
       "1674637                       labrador retrievers\n",
       "1766240                       low price tires car\n",
       "1879011                           memorialhermann\n",
       "2059720                        ncaasports.com mmo\n",
       "2681600                         st.lukes hospital\n",
       "2802539        the jewelry exchange woodbridge nj\n",
       "3000867                              waiver forms\n",
       "3016506                         water country usa\n",
       "3135523                      www cowboylyrics.com\n",
       "3192681                     www.cabinascolima.com\n",
       "3379224              www.playagranderesort.com.mx\n",
       "3396192                   www.rosehillfineart.com\n",
       "3414508                   www.spokaneredcross.org\n",
       "\n",
       "[20 rows x 1 columns]"
      ]
     },
     "execution_count": 117,
     "metadata": {},
     "output_type": "execute_result"
    }
   ],
   "source": [
    "queries[~has_num].sample(20).sort_values().to_frame()"
   ]
  },
  {
   "cell_type": "markdown",
   "id": "5d6ec3d6-603c-44e7-ab65-caf1d2e28efd",
   "metadata": {},
   "source": [
    "Write the set of queries together with the indicator of those containing numerals for further analysis."
   ]
  },
  {
   "cell_type": "code",
   "execution_count": 150,
   "id": "e76bfd17-b38f-48c5-8eb6-600b3536fa49",
   "metadata": {},
   "outputs": [],
   "source": [
    "query_df = pd.DataFrame({\"query\": queries, \"has_num\": has_num})"
   ]
  },
  {
   "cell_type": "code",
   "execution_count": 15,
   "id": "3bb1ddad-08ec-42f3-af20-e5aee1433a11",
   "metadata": {},
   "outputs": [],
   "source": [
    "query_df.to_csv(QUERY_CSV, index=False)"
   ]
  },
  {
   "cell_type": "markdown",
   "id": "ceadb5dd-9d23-4f2a-b216-581a4a2fa1c7",
   "metadata": {},
   "source": [
    "Does the separator character show up in the query text?\n",
    "\n",
    "- No."
   ]
  },
  {
   "cell_type": "code",
   "execution_count": 157,
   "id": "1d803548-ac68-4d0f-b456-9e5c66c9c268",
   "metadata": {},
   "outputs": [
    {
     "data": {
      "text/plain": [
       "0"
      ]
     },
     "execution_count": 157,
     "metadata": {},
     "output_type": "execute_result"
    }
   ],
   "source": [
    "queries.str.contains(\",\").sum()"
   ]
  }
 ],
 "metadata": {
  "kernelspec": {
   "display_name": "Python [conda env:suggest]",
   "language": "python",
   "name": "conda-env-suggest-py"
  },
  "language_info": {
   "codemirror_mode": {
    "name": "ipython",
    "version": 3
   },
   "file_extension": ".py",
   "mimetype": "text/x-python",
   "name": "python",
   "nbconvert_exporter": "python",
   "pygments_lexer": "ipython3",
   "version": "3.9.10"
  }
 },
 "nbformat": 4,
 "nbformat_minor": 5
}
