{
 "cells": [
  {
   "cell_type": "markdown",
   "id": "bb016180-0169-498f-8ada-1ac449162ada",
   "metadata": {},
   "source": [
    "# Build the Wikipedia category index for processing\n",
    "\n",
    "Fetch the latest English Wikipedia category RDF index file and convert to a pandas DataFrame.\n",
    "We will use this to explore the categories and build the blocklist."
   ]
  },
  {
   "cell_type": "code",
   "execution_count": 1,
   "id": "0de02ca5-f375-4bbf-8772-74c9a5925cad",
   "metadata": {},
   "outputs": [],
   "source": [
    "from pathlib import Path\n",
    "\n",
    "from wikipedia_utils import category"
   ]
  },
  {
   "cell_type": "markdown",
   "id": "b1993b99-749d-4383-a8b3-053a62c74422",
   "metadata": {},
   "source": [
    "Data files will be written to the following subdir using predefined filenames."
   ]
  },
  {
   "cell_type": "code",
   "execution_count": 2,
   "id": "8442710c-0912-405f-8153-31aa19d0cf91",
   "metadata": {},
   "outputs": [],
   "source": [
    "DATA_DIR = Path(\"category_data\")\n",
    "DATA_DIR.mkdir(parents=True, exist_ok=True)"
   ]
  },
  {
   "cell_type": "markdown",
   "id": "9f0f3d68-ca3c-4c8d-b631-b0681b04f794",
   "metadata": {},
   "source": [
    "## Download the index file\n",
    "\n",
    "Wikipedia dumps include an RDF-formatted list of all categories. This includes counts of pages and subcategories, an indicator for hidden categories, and a listing of categories containing each one as a subcategory (ie a list of parents).\n",
    "\n",
    "Download the latest version of this file. It is usually around 80-85 MB."
   ]
  },
  {
   "cell_type": "code",
   "execution_count": 3,
   "id": "fa9458ac-31a0-4590-adf3-37e3d28ea70d",
   "metadata": {},
   "outputs": [
    {
     "name": "stdout",
     "output_type": "stream",
     "text": [
      "Latest dump date: 20230325\n"
     ]
    }
   ],
   "source": [
    "latest_dump = category.get_latest_category_dump_date()\n",
    "print(f\"Latest dump date: {latest_dump}\")"
   ]
  },
  {
   "cell_type": "code",
   "execution_count": 4,
   "id": "66d542b0-f123-4724-9614-167000c82fff",
   "metadata": {},
   "outputs": [
    {
     "name": "stdout",
     "output_type": "stream",
     "text": [
      "CPU times: user 308 ms, sys: 402 ms, total: 710 ms\n",
      "Wall time: 19.6 s\n"
     ]
    }
   ],
   "source": [
    "%%time\n",
    "\n",
    "category.fetch_category_index(latest_dump, data_dir=DATA_DIR)"
   ]
  },
  {
   "cell_type": "code",
   "execution_count": 5,
   "id": "0bcd362e-85bd-4899-9aa2-c3d2353e125a",
   "metadata": {},
   "outputs": [],
   "source": [
    "rdf_file = DATA_DIR / category.CATEGORY_RDF_FILE"
   ]
  },
  {
   "cell_type": "code",
   "execution_count": 6,
   "id": "7fa2ec0d-cfec-456c-a76b-7139f8446cdb",
   "metadata": {},
   "outputs": [
    {
     "name": "stdout",
     "output_type": "stream",
     "text": [
      "Index file size: 81.8 MB\n"
     ]
    }
   ],
   "source": [
    "print(f\"Index file size: {rdf_file.stat().st_size / (1024*1024):.1f} MB\")"
   ]
  },
  {
   "cell_type": "code",
   "execution_count": 7,
   "id": "813ef01c-ddee-4826-897a-f29e7ca74e9a",
   "metadata": {},
   "outputs": [
    {
     "name": "stdout",
     "output_type": "stream",
     "text": [
      "Num lines: 21,592,188\n"
     ]
    }
   ],
   "source": [
    "nl = ! zgrep -c '^' $rdf_file\n",
    "nl = int(nl[0])\n",
    "print(f\"Num lines: {nl:,}\")"
   ]
  },
  {
   "cell_type": "markdown",
   "id": "dce059d6-9cc2-4c54-a610-5b94f59b35ee",
   "metadata": {},
   "source": [
    "## Convert to JSON\n",
    "\n",
    "The index file lists categories and their linkages in RDF (Turtle) format.\n",
    "It contains two types of records, with the properties defined in [this ontology](https://www.mediawiki.org/ontology/ontology.owl) (need to view source):\n",
    "- category definitions with label (human-readable name) and counts of pages & subcategories\n",
    "\n",
    "```\n",
    "<https://en.wikipedia.org/wiki/Category:Coffee_preparation> a mediawiki:Category ;\n",
    "    rdfs:label \"Coffee preparation\" ;\n",
    "    mediawiki:pages \"54\"^^xsd:integer ;\n",
    "    mediawiki:subcategories \"3\"^^xsd:integer .\n",
    "```\n",
    "\n",
    "- category linkages with a list of parents\n",
    "\n",
    "```\n",
    "<https://en.wikipedia.org/wiki/Category:Coffee_preparation> mediawiki:isInCategory <https://en.wikipedia.org/wiki/Category:Coffee>,\n",
    "    <https://en.wikipedia.org/wiki/Category:Commons_category_link_is_on_Wikidata>,\n",
    "    <https://en.wikipedia.org/wiki/Category:Food_and_drink_preparation> .\n",
    "```\n",
    "\n",
    "We use some light parsing to convert the dump to a more manageable pandas-friendly format. Because of the large size, this is easier than parsing as a graph using RDF libraries. Records are written to separate JSON files:\n",
    "- category info with page URI (canonical form), name (plain text), # pages, # subcategories, whether it is hidden\n",
    "- linkage list with page URI, list of page URIs for parent categories"
   ]
  },
  {
   "cell_type": "code",
   "execution_count": 8,
   "id": "1610d7ed-4f5b-44cf-b3ed-3577882838f6",
   "metadata": {
    "tags": []
   },
   "outputs": [
    {
     "name": "stdout",
     "output_type": "stream",
     "text": [
      "CPU times: user 45.4 s, sys: 517 ms, total: 45.9 s\n",
      "Wall time: 46.4 s\n"
     ]
    }
   ],
   "source": [
    "%%time\n",
    "\n",
    "category.parse_category_index(data_dir=DATA_DIR)"
   ]
  },
  {
   "cell_type": "markdown",
   "id": "665e6802-6883-4f10-b9b8-cb6fc1dec908",
   "metadata": {},
   "source": [
    "## Convert to DataFrame\n",
    "\n",
    "We can now read these JSON files into pandas DataFrames and recombine into the desired format. The resulting DF is written to a pickle file, usually around 500 MB."
   ]
  },
  {
   "cell_type": "code",
   "execution_count": 9,
   "id": "1a20284a-b5a3-43d2-a3fc-c424af3870ef",
   "metadata": {},
   "outputs": [
    {
     "name": "stdout",
     "output_type": "stream",
     "text": [
      "Unknown parents: 4\n",
      "CPU times: user 1min 4s, sys: 4.79 s, total: 1min 9s\n",
      "Wall time: 1min 11s\n"
     ]
    }
   ],
   "source": [
    "%%time\n",
    "\n",
    "category.create_combined_df(data_dir=DATA_DIR)"
   ]
  },
  {
   "cell_type": "code",
   "execution_count": 10,
   "id": "b3de6067-1ff8-4b8c-a45a-73e070295b75",
   "metadata": {},
   "outputs": [
    {
     "name": "stdout",
     "output_type": "stream",
     "text": [
      "total 701M\n",
      "-rw-r--r-- 1 dzeber staff 525M Mar 31 20:08 category_df.pkl\n",
      "-rw-r--r-- 1 dzeber staff  82M Mar 31 20:06 category_index.ttl.gz\n",
      "-rw-r--r-- 1 dzeber staff  30M Mar 31 20:06 category_info.json.gz\n",
      "-rw-r--r-- 1 dzeber staff  40M Mar 31 20:06 category_linkage.json.gz\n"
     ]
    }
   ],
   "source": [
    "! ls -lh $DATA_DIR"
   ]
  }
 ],
 "metadata": {
  "kernelspec": {
   "display_name": "Python [conda env:wikipedia]",
   "language": "python",
   "name": "conda-env-wikipedia-py"
  },
  "language_info": {
   "codemirror_mode": {
    "name": "ipython",
    "version": 3
   },
   "file_extension": ".py",
   "mimetype": "text/x-python",
   "name": "python",
   "nbconvert_exporter": "python",
   "pygments_lexer": "ipython3",
   "version": "3.10.8"
  }
 },
 "nbformat": 4,
 "nbformat_minor": 5
}
