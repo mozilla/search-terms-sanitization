{
 "cells": [
  {
   "cell_type": "markdown",
   "id": "f16cd015-4432-4799-abba-1e0436775c92",
   "metadata": {},
   "source": [
    "# Exploring Wikipedia content moderation\n",
    "\n",
    "The goal is to develop a blocklist of NSFW articles on English Wikipedia that we can apply to the Dynamic Wikipedia search index.\n",
    "This notebook explores some of the Wikipedia resources available that we can use to accomplish this."
   ]
  },
  {
   "cell_type": "code",
   "execution_count": 1,
   "id": "cb7a6201-5b6e-4132-a1a4-5d1dca0d644b",
   "metadata": {},
   "outputs": [],
   "source": [
    "import json\n",
    "from pprint import pprint\n",
    "import random\n",
    "import gzip\n",
    "import codecs\n",
    "import re\n",
    "from time import sleep\n",
    "from collections import defaultdict\n",
    "from io import StringIO\n",
    "import warnings\n",
    "from pathlib import Path\n",
    "\n",
    "import pandas as pd\n",
    "import numpy as np\n",
    "import requests\n",
    "# import plotnine as gg\n",
    "from tqdm import tqdm\n",
    "\n",
    "pd.set_option(\"display.max_columns\", None)\n",
    "pd.set_option(\"display.show_dimensions\", True)\n",
    "\n",
    "tqdm.pandas()\n",
    "\n",
    "_ = gg.theme_set(gg.theme_light())\n",
    "# Better quality plots\n",
    "from matplotlib_inline.backend_inline import set_matplotlib_formats\n",
    "set_matplotlib_formats(\"svg\")\n",
    "\n",
    "\n",
    "def display_pd(x, rows=None, cols=None, colwidth=None, seqitems=None, full=True):\n",
    "    \"\"\"Display pandas object with different display settings.\"\"\"\n",
    "    opts = []\n",
    "    if full:\n",
    "        rows = rows or -1\n",
    "        cols = cols or -1\n",
    "        colwidth = colwidth or -1\n",
    "        seqitems = seqitems or -1\n",
    "    if rows:\n",
    "        rows = None if rows < 0 else rows\n",
    "        opts.append(\"display.max_rows\")\n",
    "        opts.append(rows)\n",
    "    if cols:\n",
    "        cols = None if cols < 0 else cols\n",
    "        opts.append(\"display.max_columns\")\n",
    "        opts.append(cols)\n",
    "    if colwidth:\n",
    "        colwidth = None if colwidth < 0 else colwidth\n",
    "        if colwidth is None:\n",
    "            # Adjust max seq items as well to make display unlimited\n",
    "            seqitems = -1\n",
    "        opts.append(\"display.max_colwidth\")\n",
    "        opts.append(colwidth)\n",
    "    if seqitems:\n",
    "        seqitems = None if seqitems < 0 else seqitems\n",
    "        opts.append(\"display.max_seq_items\")\n",
    "        opts.append(seqitems)\n",
    "    if opts:\n",
    "        with pd.option_context(*opts):\n",
    "            display(x)\n",
    "    else:\n",
    "        display(x)"
   ]
  },
  {
   "cell_type": "markdown",
   "id": "b308d30d-bd2f-4d76-ac66-1932a7df33b4",
   "metadata": {},
   "source": [
    "We will make use of some assets availabe in the Wikimedia dumps. These should be downloaded ahead of time.\n",
    "\n",
    "- The full ElasticSearch index for English Wikipedia:\n",
    "    * <https://dumps.wikimedia.org/other/cirrussearch/20230123/enwiki-20230130-cirrussearch-content.json.gz>\n",
    "    * __Note: this is a huge file, 35GB compressed__\n",
    "- The list of English Wikipedia categories and their linkages in RDF (Turtle) format:\n",
    "    * <https://dumps.wikimedia.org/other/categoriesrdf/20230128/enwiki-20230128-categories.ttl.gz>\n",
    "    * 82 MB\n",
    "    * Uses ontology defined at <https://www.mediawiki.org/ontology/ontology.owl>"
   ]
  },
  {
   "cell_type": "code",
   "execution_count": 2,
   "id": "2027741b-1ece-4cbe-9acf-8eb38f17723b",
   "metadata": {},
   "outputs": [],
   "source": [
    "ASSETS_DIR = Path(\"/Users/dzeber/data\")\n",
    "OUTPUT_DIR = Path(\"data\")\n",
    "\n",
    "FULL_INDEX = ASSETS_DIR / \"enwiki-20230130-cirrussearch-content.json.gz\"\n",
    "CAT_FILE = ASSETS_DIR / \"enwiki-20230128-categories.ttl.gz\""
   ]
  },
  {
   "cell_type": "markdown",
   "id": "9e227293-615f-48e6-a785-8771d19909f9",
   "metadata": {},
   "source": [
    "## Reading through the full index\n",
    "\n",
    "The full index file is gzipped 35 GB.\n",
    "In the ElasticSearch index format, entries are composed of two lines\n",
    "```\n",
    "{\"index\": {...}}\n",
    "{field1: val1, ...}\n",
    "```\n",
    "The page information we are interested in is on the second line of each entry.\n",
    "\n",
    "\n",
    "First try reading through it to get an idea of timing.\n",
    "- It took 7 min 30 sec to run through the full file, with 13.2 M lines.\n",
    "- There are 6.6 M articles in this index."
   ]
  },
  {
   "cell_type": "code",
   "execution_count": 795,
   "id": "c6a8a6f5-490e-44fb-8913-1333c6c8dca4",
   "metadata": {},
   "outputs": [
    {
     "name": "stdout",
     "output_type": "stream",
     "text": [
      "{\"index\":{\"_type\":\"_doc\",\"_id\":\"1000\"}}\n",
      "\n",
      "{\"template\":[\"Template:Short description\",\"Template:Pagetype\",\"Template:Main other\",\"Template:Short \n",
      "{\"index\":{\"_type\":\"_doc\",\"_id\":\"10000\"}}\n",
      "\n",
      "{\"template\":[\"Template:Wiktionary\",\"Template:Sister project\",\"Template:Side box\",\"Template:Plainlist\n"
     ]
    }
   ],
   "source": [
    "with gzip.open(FULL_INDEX, \"rt\") as f:\n",
    "    for _ in range(4):\n",
    "        print(f.readline()[:100])"
   ]
  },
  {
   "cell_type": "code",
   "execution_count": null,
   "id": "c061b1fe-3fbc-42e0-98eb-0bbaa0dc6477",
   "metadata": {},
   "outputs": [],
   "source": [
    "%%time\n",
    "\n",
    "nl = 0\n",
    "with gzip.open(FULL_INDEX, \"rt\") as f:\n",
    "    for line in f:\n",
    "        nl += 1"
   ]
  },
  {
   "cell_type": "code",
   "execution_count": null,
   "id": "0c3f9cdb-bdef-442e-8ff0-5e59bfe7d979",
   "metadata": {},
   "outputs": [],
   "source": [
    "nl"
   ]
  },
  {
   "cell_type": "code",
   "execution_count": 585,
   "id": "2342ca04-2790-4895-b27c-1923570e8161",
   "metadata": {},
   "outputs": [],
   "source": [
    "class IndexStream:\n",
    "    \"\"\"Stream the full ElasticSearch index and process each record.\"\"\"\n",
    "    def _apply_full_index(self, max_records=None):\n",
    "        \"\"\"Read through the full index line by line and apply processing to each article listing.\n",
    "    \n",
    "        Index lines are skipped. Optionally stop after `max_records` article records.\n",
    "        \"\"\"\n",
    "        # If processing the whole file, use a ballpark for total lines\n",
    "        # so as to get reasonable progress monitoring.\n",
    "        progress_total = 2 * max_records if max_records else 13_250_000\n",
    "        with gzip.open(FULL_INDEX, \"rt\") as fr:\n",
    "            for i, line in tqdm(enumerate(fr), total=progress_total):\n",
    "                if max_records and i >= max_records * 2:\n",
    "                    break\n",
    "                # Skip index lines\n",
    "                if i % 2 == 0:\n",
    "                    continue\n",
    "                self._process_record(line, i)\n",
    "    \n",
    "    def _process_record(self, line, i):\n",
    "        # What to do for each line (JSON record)\n",
    "        # Call self._write_to_output(line) here if using output file\n",
    "        raise NotImplementedError\n",
    "    \n",
    "    def _write_to_output(self, line):\n",
    "        self.n_kept += 1\n",
    "        self.fw.write(line)\n",
    "    \n",
    "    def run_with_output_file(self, output_file, max_records=None):\n",
    "        self.n_kept = 0\n",
    "        self.fw = gzip.open(output_file, \"wt\")\n",
    "        try:\n",
    "            self._apply_full_index(max_records=max_records)\n",
    "        finally:\n",
    "            self.fw.close()"
   ]
  },
  {
   "cell_type": "code",
   "execution_count": 581,
   "id": "121fdfcb-669e-4ce6-af29-4d5372a896d6",
   "metadata": {},
   "outputs": [
    {
     "name": "stderr",
     "output_type": "stream",
     "text": [
      "100%|████████████████████████████████████████████████████████████████████████████████████████████████████████████████| 200/200 [00:00<00:00, 2858.12it/s]\n"
     ]
    }
   ],
   "source": [
    "# class TestIndexStream(IndexStream):\n",
    "#     def _process_record(self, line, i):\n",
    "#         self._write_to_output(line)\n",
    "\n",
    "# tis = TestIndexStream()\n",
    "# tis.run_with_output_file(OUTPUT_DIR / \"test.json.gz\", max_records=100)"
   ]
  },
  {
   "cell_type": "markdown",
   "id": "52fb504f-4406-42e4-bd6b-61495ed17045",
   "metadata": {},
   "source": [
    "## Category listing"
   ]
  },
  {
   "cell_type": "markdown",
   "id": "8b1892a5-e34d-4493-ac7d-be6bcf6e20a8",
   "metadata": {},
   "source": [
    "The majority of Wikipedia pages belong to 1 or more categories. Wikipedia categories are a complex taxonomy of labels used to organize content by topic and also to flag page characteristcs, eg. those in need of maintenance.\n",
    "\n",
    "- Pages are assigned categories by editors adding the category labels in the page source.\n",
    "- Each category may contain pages or other subcategories. These can be viewed on the category's page, eg. <https://en.wikipedia.org/wiki/Category:Coffee>.\n",
    "- Parent/child category relationships define a directed graph. As categories are assigned to pages by manual labeling, this graph can't be assumed to be acyclic.\n",
    "- Some categories are defined to be \"hidden\" - these are generally related to maintenance (eg. \"pages with missing information\") rather than topic. Visible categories that a page belongs to are listed at the bottom of the page. Both hidden and visible categories are included in the search index (and are not distinguished).\n",
    "\n",
    "Among the Wikipedia dumps is an RDF-formatted list of all categories. This includes counts of pages and subcategories, an indicator for hidden categories, and a listing of categories containing each one as a subcategory (ie a list of parents)."
   ]
  },
  {
   "cell_type": "code",
   "execution_count": 30,
   "id": "aa920628-e30d-478b-bf1a-6de25cca15b2",
   "metadata": {},
   "outputs": [],
   "source": [
    "ALL_CAT_JSON = OUTPUT_DIR / \"categories.json.gz\"\n",
    "CAT_LINKS_JSON = OUTPUT_DIR / \"category_links.json.gz\"\n",
    "\n",
    "CAT_DF_PKL = OUTPUT_DIR / \"category_data.pkl\""
   ]
  },
  {
   "cell_type": "markdown",
   "id": "166cdb18-08b7-4ce8-8c1c-f7688c7c53c3",
   "metadata": {},
   "source": [
    "The RDF file is 82 MB compressed and contains 21.5M lines."
   ]
  },
  {
   "cell_type": "code",
   "execution_count": 811,
   "id": "559fa2f4-efcb-4a32-9ec9-58aee859acc8",
   "metadata": {},
   "outputs": [
    {
     "name": "stdout",
     "output_type": "stream",
     "text": [
      "21,451,551\n"
     ]
    }
   ],
   "source": [
    "num_cat_lines = ! zgrep -c '^' $CAT_FILE\n",
    "num_cat_lines = int(num_cat_lines[0])\n",
    "print(f\"{num_cat_lines:,}\")"
   ]
  },
  {
   "cell_type": "markdown",
   "id": "a66b9e2f-c2c6-4c1c-a7b5-951535bd9a25",
   "metadata": {},
   "source": [
    "It contains two types of records with the properties defined in [this ontology](view-source:https://www.mediawiki.org/ontology/ontology.owl):\n",
    "- category definitions with label (human-readable name) and counts of pages & subcategories\n",
    "\n",
    "```\n",
    "<https://en.wikipedia.org/wiki/Category:Coffee_preparation> a mediawiki:Category ;\n",
    "    rdfs:label \"Coffee preparation\" ;\n",
    "    mediawiki:pages \"54\"^^xsd:integer ;\n",
    "    mediawiki:subcategories \"3\"^^xsd:integer .\n",
    "```\n",
    "\n",
    "- category linkages with a list of parents\n",
    "\n",
    "```\n",
    "<https://en.wikipedia.org/wiki/Category:Coffee_preparation> mediawiki:isInCategory <https://en.wikipedia.org/wiki/Category:Coffee>,\n",
    "    <https://en.wikipedia.org/wiki/Category:Commons_category_link_is_on_Wikidata>,\n",
    "    <https://en.wikipedia.org/wiki/Category:Food_and_drink_preparation> .\n",
    "```\n",
    "\n",
    "We use some light parsing to convert the dump to a more manageable pandas-friendly format. Because of the large size, this is more manageable than parsing as a graph using RDF libraries. Records are written to separate DFs:\n",
    "- category list with page URI (canonical form), name (plain text), # pages, # subcategories, whether it is hidden\n",
    "- linkage list with page URI, list of page URIs for parent categories"
   ]
  },
  {
   "cell_type": "code",
   "execution_count": 7,
   "id": "a97f2f8c-3f8c-4070-8492-ba2330c751f9",
   "metadata": {},
   "outputs": [],
   "source": [
    "def parse_cat_index(cat_index_rdf, cat_list_json, cat_link_json):\n",
    "    def parse_key(k):\n",
    "        # Pull out canonical page URIs from full URLs\n",
    "        # eg. '<https://en.wikipedia.org/wiki/Category:Songs>' -> 'Songs'\n",
    "        return k.strip(\"<>\").split(\"/Category:\")[-1]\n",
    "\n",
    "    def handle_entry(x):\n",
    "        row = {}\n",
    "        x = x.rstrip(\" .\")\n",
    "        key, info = x.split(maxsplit=1)\n",
    "        row[\"key\"] = parse_key(key)\n",
    "        if info.startswith(\"a mediawiki:Category\"):\n",
    "            # category property listing\n",
    "            row[\"hidden\"] = \"HiddenCategory\" in info\n",
    "            props = info.split(\" ;\")\n",
    "            for p in props:\n",
    "                if p.startswith(\"rdfs:label\"):\n",
    "                    row[\"name\"] = p[12:-1]\n",
    "                elif p.startswith(\"mediawiki:pages\"):\n",
    "                    row[\"num_pages\"] = int(p[17:-14])\n",
    "                elif p.startswith(\"mediawiki:subcategories\"):\n",
    "                    row[\"num_subcats\"] = int(p[25:-14])\n",
    "        elif info.startswith(\"mediawiki:isInCategory\"):\n",
    "            # category membership listing\n",
    "            info = info.split(maxsplit=1)[-1]\n",
    "            links = info.split(\">,<\")\n",
    "            row[\"memberof\"] = [parse_key(x) for x in links]\n",
    "        else:\n",
    "            row = None\n",
    "\n",
    "        return row\n",
    "\n",
    "    with (\n",
    "        gzip.open(cat_list_json, \"wt\") as fwc,\n",
    "        gzip.open(cat_link_json, \"wt\") as fwcl,\n",
    "        gzip.open(cat_index_rdf, \"rt\") as fr\n",
    "    ):\n",
    "        entry = StringIO()\n",
    "        for line in tqdm(fr, total=21_500_000):\n",
    "            entry.write(line.strip())\n",
    "            # RDF entries span multiple lines and terminate with '.'\n",
    "            if entry.getvalue().endswith(\".\"):\n",
    "                row = handle_entry(entry.getvalue())\n",
    "                if row:\n",
    "                    rowstr = json.dumps(row) + \"\\n\"\n",
    "                    if \"memberof\" in row:\n",
    "                        fwcl.write(rowstr)\n",
    "                    else:\n",
    "                        fwc.write(rowstr)\n",
    "                entry.close()\n",
    "                entry = StringIO()\n",
    "        entry.close()  "
   ]
  },
  {
   "cell_type": "markdown",
   "id": "62f608d7-e97a-4eb7-b5d5-f65604e7e6b0",
   "metadata": {},
   "source": [
    "Takes ~1 min."
   ]
  },
  {
   "cell_type": "code",
   "execution_count": 8,
   "id": "b734ec6b-426a-458a-ad69-b427cedd3e59",
   "metadata": {
    "tags": []
   },
   "outputs": [
    {
     "name": "stderr",
     "output_type": "stream",
     "text": [
      "100%|███████████████████████████████████████████████████████████████████████████████████████████████████▊| 21451551/21500000 [00:49<00:00, 431383.02it/s]"
     ]
    },
    {
     "name": "stdout",
     "output_type": "stream",
     "text": [
      "CPU times: user 48.7 s, sys: 646 ms, total: 49.4 s\n",
      "Wall time: 49.7 s\n"
     ]
    },
    {
     "name": "stderr",
     "output_type": "stream",
     "text": [
      "\n"
     ]
    }
   ],
   "source": [
    "%%time\n",
    "\n",
    "parse_cat_index(cat_index_rdf=CAT_FILE, cat_list_json=ALL_CAT_JSON, cat_link_json=CAT_LINKS_JSON)"
   ]
  },
  {
   "cell_type": "markdown",
   "id": "87d9f0de-feec-4bd4-8626-d97bd7c2efc1",
   "metadata": {},
   "source": [
    "### Category list"
   ]
  },
  {
   "cell_type": "code",
   "execution_count": 9,
   "id": "ae32fa84-6f42-463e-9293-719d983be3d4",
   "metadata": {},
   "outputs": [],
   "source": [
    "df_cat_info = pd.read_json(ALL_CAT_JSON, lines=True).set_index(\"key\")"
   ]
  },
  {
   "cell_type": "code",
   "execution_count": 10,
   "id": "46ed7ce9-728f-4fbc-8fad-057b6b13e593",
   "metadata": {},
   "outputs": [
    {
     "data": {
      "text/html": [
       "<div>\n",
       "<style scoped>\n",
       "    .dataframe tbody tr th:only-of-type {\n",
       "        vertical-align: middle;\n",
       "    }\n",
       "\n",
       "    .dataframe tbody tr th {\n",
       "        vertical-align: top;\n",
       "    }\n",
       "\n",
       "    .dataframe thead th {\n",
       "        text-align: right;\n",
       "    }\n",
       "</style>\n",
       "<table border=\"1\" class=\"dataframe\">\n",
       "  <thead>\n",
       "    <tr style=\"text-align: right;\">\n",
       "      <th></th>\n",
       "      <th>hidden</th>\n",
       "      <th>name</th>\n",
       "      <th>num_pages</th>\n",
       "      <th>num_subcats</th>\n",
       "    </tr>\n",
       "    <tr>\n",
       "      <th>key</th>\n",
       "      <th></th>\n",
       "      <th></th>\n",
       "      <th></th>\n",
       "      <th></th>\n",
       "    </tr>\n",
       "  </thead>\n",
       "  <tbody>\n",
       "    <tr>\n",
       "      <th>Vanuatu_sidebar_templates</th>\n",
       "      <td>False</td>\n",
       "      <td>Vanuatu sidebar templates</td>\n",
       "      <td>2</td>\n",
       "      <td>0</td>\n",
       "    </tr>\n",
       "    <tr>\n",
       "      <th>Military_of_Baoding</th>\n",
       "      <td>False</td>\n",
       "      <td>Military of Baoding</td>\n",
       "      <td>1</td>\n",
       "      <td>0</td>\n",
       "    </tr>\n",
       "    <tr>\n",
       "      <th>1796_by_continent</th>\n",
       "      <td>False</td>\n",
       "      <td>1796 by continent</td>\n",
       "      <td>0</td>\n",
       "      <td>9</td>\n",
       "    </tr>\n",
       "    <tr>\n",
       "      <th>1979_establishments_in_the_Balearic_Islands</th>\n",
       "      <td>False</td>\n",
       "      <td>1979 establishments in the Balearic Islands</td>\n",
       "      <td>1</td>\n",
       "      <td>0</td>\n",
       "    </tr>\n",
       "    <tr>\n",
       "      <th>MacRobertson_Miller_Airlines</th>\n",
       "      <td>False</td>\n",
       "      <td>MacRobertson Miller Airlines</td>\n",
       "      <td>1</td>\n",
       "      <td>1</td>\n",
       "    </tr>\n",
       "  </tbody>\n",
       "</table>\n",
       "<p>5 rows × 4 columns</p>\n",
       "</div>"
      ],
      "text/plain": [
       "                                             hidden  \\\n",
       "key                                                   \n",
       "Vanuatu_sidebar_templates                     False   \n",
       "Military_of_Baoding                           False   \n",
       "1796_by_continent                             False   \n",
       "1979_establishments_in_the_Balearic_Islands   False   \n",
       "MacRobertson_Miller_Airlines                  False   \n",
       "\n",
       "                                                                                    name  \\\n",
       "key                                                                                        \n",
       "Vanuatu_sidebar_templates                                      Vanuatu sidebar templates   \n",
       "Military_of_Baoding                                                  Military of Baoding   \n",
       "1796_by_continent                                                      1796 by continent   \n",
       "1979_establishments_in_the_Balearic_Islands  1979 establishments in the Balearic Islands   \n",
       "MacRobertson_Miller_Airlines                                MacRobertson Miller Airlines   \n",
       "\n",
       "                                             num_pages  num_subcats  \n",
       "key                                                                  \n",
       "Vanuatu_sidebar_templates                            2            0  \n",
       "Military_of_Baoding                                  1            0  \n",
       "1796_by_continent                                    0            9  \n",
       "1979_establishments_in_the_Balearic_Islands          1            0  \n",
       "MacRobertson_Miller_Airlines                         1            1  \n",
       "\n",
       "[5 rows x 4 columns]"
      ]
     },
     "execution_count": 10,
     "metadata": {},
     "output_type": "execute_result"
    }
   ],
   "source": [
    "df_cat_info.sample(5)"
   ]
  },
  {
   "cell_type": "markdown",
   "id": "85936650-98cf-4131-b5c4-39125910515e",
   "metadata": {},
   "source": [
    "Listed categories should be unique."
   ]
  },
  {
   "cell_type": "code",
   "execution_count": 11,
   "id": "68ec00b3-4b96-4219-b02b-7f89f4224e65",
   "metadata": {},
   "outputs": [],
   "source": [
    "assert df_cat_info.index.value_counts().unique() == 1\n",
    "assert df_cat_info[\"name\"].value_counts().unique() == 1"
   ]
  },
  {
   "cell_type": "markdown",
   "id": "4b4d53b2-0c67-4c9d-a43f-d1b9cfe41fd8",
   "metadata": {},
   "source": [
    "Total number of categories:"
   ]
  },
  {
   "cell_type": "code",
   "execution_count": 12,
   "id": "78827428-b28f-4a77-8c72-134f9068f57a",
   "metadata": {},
   "outputs": [
    {
     "name": "stdout",
     "output_type": "stream",
     "text": [
      "2,229,569\n"
     ]
    }
   ],
   "source": [
    "print(f\"{len(df_cat_info):,}\")"
   ]
  },
  {
   "cell_type": "markdown",
   "id": "37d505c5-87dc-4bf1-8ba8-5d03c1777e29",
   "metadata": {},
   "source": [
    "Hidden categories:"
   ]
  },
  {
   "cell_type": "code",
   "execution_count": 13,
   "id": "2447d371-6e03-4a03-8855-69b665b344e9",
   "metadata": {},
   "outputs": [
    {
     "data": {
      "text/plain": [
       "False    2196512\n",
       "True       33057\n",
       "Name: hidden, Length: 2, dtype: int64"
      ]
     },
     "execution_count": 13,
     "metadata": {},
     "output_type": "execute_result"
    }
   ],
   "source": [
    "df_cat_info[\"hidden\"].value_counts()"
   ]
  },
  {
   "cell_type": "markdown",
   "id": "c5e99ad8-3d8f-4791-ac13-2376405e1db1",
   "metadata": {},
   "source": [
    "Top visible & hidden categories:"
   ]
  },
  {
   "cell_type": "code",
   "execution_count": 14,
   "id": "052fd30e-01af-4ad7-9a1e-4c818ce85aa8",
   "metadata": {},
   "outputs": [
    {
     "data": {
      "text/html": [
       "<div>\n",
       "<style scoped>\n",
       "    .dataframe tbody tr th:only-of-type {\n",
       "        vertical-align: middle;\n",
       "    }\n",
       "\n",
       "    .dataframe tbody tr th {\n",
       "        vertical-align: top;\n",
       "    }\n",
       "\n",
       "    .dataframe thead th {\n",
       "        text-align: right;\n",
       "    }\n",
       "</style>\n",
       "<table border=\"1\" class=\"dataframe\">\n",
       "  <thead>\n",
       "    <tr style=\"text-align: right;\">\n",
       "      <th></th>\n",
       "      <th>hidden</th>\n",
       "      <th>name</th>\n",
       "      <th>num_pages</th>\n",
       "      <th>num_subcats</th>\n",
       "    </tr>\n",
       "    <tr>\n",
       "      <th>key</th>\n",
       "      <th></th>\n",
       "      <th></th>\n",
       "      <th></th>\n",
       "      <th></th>\n",
       "    </tr>\n",
       "  </thead>\n",
       "  <tbody>\n",
       "    <tr>\n",
       "      <th>WikiProject_Biography_articles</th>\n",
       "      <td>False</td>\n",
       "      <td>WikiProject Biography articles</td>\n",
       "      <td>1931437</td>\n",
       "      <td>9</td>\n",
       "    </tr>\n",
       "    <tr>\n",
       "      <th>Biography_articles_of_living_people</th>\n",
       "      <td>False</td>\n",
       "      <td>Biography articles of living people</td>\n",
       "      <td>1105332</td>\n",
       "      <td>1</td>\n",
       "    </tr>\n",
       "    <tr>\n",
       "      <th>Living_people</th>\n",
       "      <td>False</td>\n",
       "      <td>Living people</td>\n",
       "      <td>1056003</td>\n",
       "      <td>2</td>\n",
       "    </tr>\n",
       "    <tr>\n",
       "      <th>Stub-Class_biography_articles</th>\n",
       "      <td>False</td>\n",
       "      <td>Stub-Class biography articles</td>\n",
       "      <td>1035629</td>\n",
       "      <td>10</td>\n",
       "    </tr>\n",
       "    <tr>\n",
       "      <th>Start-Class_biography_articles</th>\n",
       "      <td>False</td>\n",
       "      <td>Start-Class biography articles</td>\n",
       "      <td>681653</td>\n",
       "      <td>10</td>\n",
       "    </tr>\n",
       "  </tbody>\n",
       "</table>\n",
       "<p>5 rows × 4 columns</p>\n",
       "</div>"
      ],
      "text/plain": [
       "                                     hidden  \\\n",
       "key                                           \n",
       "WikiProject_Biography_articles        False   \n",
       "Biography_articles_of_living_people   False   \n",
       "Living_people                         False   \n",
       "Stub-Class_biography_articles         False   \n",
       "Start-Class_biography_articles        False   \n",
       "\n",
       "                                                                    name  \\\n",
       "key                                                                        \n",
       "WikiProject_Biography_articles            WikiProject Biography articles   \n",
       "Biography_articles_of_living_people  Biography articles of living people   \n",
       "Living_people                                              Living people   \n",
       "Stub-Class_biography_articles              Stub-Class biography articles   \n",
       "Start-Class_biography_articles            Start-Class biography articles   \n",
       "\n",
       "                                     num_pages  num_subcats  \n",
       "key                                                          \n",
       "WikiProject_Biography_articles         1931437            9  \n",
       "Biography_articles_of_living_people    1105332            1  \n",
       "Living_people                          1056003            2  \n",
       "Stub-Class_biography_articles          1035629           10  \n",
       "Start-Class_biography_articles          681653           10  \n",
       "\n",
       "[5 rows x 4 columns]"
      ]
     },
     "execution_count": 14,
     "metadata": {},
     "output_type": "execute_result"
    }
   ],
   "source": [
    "df_cat_info.query(\"~hidden\").sort_values(\"num_pages\", ascending=False).head()"
   ]
  },
  {
   "cell_type": "code",
   "execution_count": 15,
   "id": "c62ce67d-71e9-4ae8-b58b-20c7d997062c",
   "metadata": {},
   "outputs": [
    {
     "data": {
      "text/html": [
       "<div>\n",
       "<style scoped>\n",
       "    .dataframe tbody tr th:only-of-type {\n",
       "        vertical-align: middle;\n",
       "    }\n",
       "\n",
       "    .dataframe tbody tr th {\n",
       "        vertical-align: top;\n",
       "    }\n",
       "\n",
       "    .dataframe thead th {\n",
       "        text-align: right;\n",
       "    }\n",
       "</style>\n",
       "<table border=\"1\" class=\"dataframe\">\n",
       "  <thead>\n",
       "    <tr style=\"text-align: right;\">\n",
       "      <th></th>\n",
       "      <th>hidden</th>\n",
       "      <th>name</th>\n",
       "      <th>num_pages</th>\n",
       "      <th>num_subcats</th>\n",
       "    </tr>\n",
       "    <tr>\n",
       "      <th>key</th>\n",
       "      <th></th>\n",
       "      <th></th>\n",
       "      <th></th>\n",
       "      <th></th>\n",
       "    </tr>\n",
       "  </thead>\n",
       "  <tbody>\n",
       "    <tr>\n",
       "      <th>Articles_with_short_description</th>\n",
       "      <td>True</td>\n",
       "      <td>Articles with short description</td>\n",
       "      <td>4788961</td>\n",
       "      <td>4</td>\n",
       "    </tr>\n",
       "    <tr>\n",
       "      <th>Short_description_is_different_from_Wikidata</th>\n",
       "      <td>True</td>\n",
       "      <td>Short description is different from Wikidata</td>\n",
       "      <td>3386770</td>\n",
       "      <td>0</td>\n",
       "    </tr>\n",
       "    <tr>\n",
       "      <th>All_stub_articles</th>\n",
       "      <td>True</td>\n",
       "      <td>All stub articles</td>\n",
       "      <td>2340146</td>\n",
       "      <td>0</td>\n",
       "    </tr>\n",
       "    <tr>\n",
       "      <th>Noindexed_pages</th>\n",
       "      <td>True</td>\n",
       "      <td>Noindexed pages</td>\n",
       "      <td>2291847</td>\n",
       "      <td>51390</td>\n",
       "    </tr>\n",
       "    <tr>\n",
       "      <th>Redirects_from_moves</th>\n",
       "      <td>True</td>\n",
       "      <td>Redirects from moves</td>\n",
       "      <td>2137842</td>\n",
       "      <td>2</td>\n",
       "    </tr>\n",
       "  </tbody>\n",
       "</table>\n",
       "<p>5 rows × 4 columns</p>\n",
       "</div>"
      ],
      "text/plain": [
       "                                              hidden  \\\n",
       "key                                                    \n",
       "Articles_with_short_description                 True   \n",
       "Short_description_is_different_from_Wikidata    True   \n",
       "All_stub_articles                               True   \n",
       "Noindexed_pages                                 True   \n",
       "Redirects_from_moves                            True   \n",
       "\n",
       "                                                                                      name  \\\n",
       "key                                                                                          \n",
       "Articles_with_short_description                            Articles with short description   \n",
       "Short_description_is_different_from_Wikidata  Short description is different from Wikidata   \n",
       "All_stub_articles                                                        All stub articles   \n",
       "Noindexed_pages                                                            Noindexed pages   \n",
       "Redirects_from_moves                                                  Redirects from moves   \n",
       "\n",
       "                                              num_pages  num_subcats  \n",
       "key                                                                   \n",
       "Articles_with_short_description                 4788961            4  \n",
       "Short_description_is_different_from_Wikidata    3386770            0  \n",
       "All_stub_articles                               2340146            0  \n",
       "Noindexed_pages                                 2291847        51390  \n",
       "Redirects_from_moves                            2137842            2  \n",
       "\n",
       "[5 rows x 4 columns]"
      ]
     },
     "execution_count": 15,
     "metadata": {},
     "output_type": "execute_result"
    }
   ],
   "source": [
    "df_cat_info.query(\"hidden\").sort_values(\"num_pages\", ascending=False).head()"
   ]
  },
  {
   "cell_type": "markdown",
   "id": "d2ee5ab9-e46f-45fe-914e-d371cbc1f2c3",
   "metadata": {},
   "source": [
    "There are some empty categories included in the list."
   ]
  },
  {
   "cell_type": "code",
   "execution_count": 16,
   "id": "189372b4-f26d-4d2c-b208-ec005ba98ab7",
   "metadata": {},
   "outputs": [
    {
     "data": {
      "text/plain": [
       "False    122586\n",
       "True       3095\n",
       "Name: hidden, Length: 2, dtype: int64"
      ]
     },
     "execution_count": 16,
     "metadata": {},
     "output_type": "execute_result"
    }
   ],
   "source": [
    "df_cat_info.query(\"num_pages + num_subcats == 0\")[\"hidden\"].value_counts()"
   ]
  },
  {
   "cell_type": "markdown",
   "id": "2629df37-5d9b-4a1c-860a-777b2be430ee",
   "metadata": {},
   "source": [
    "### Category linkage\n",
    "\n",
    "This gives a list of parent keys for each category."
   ]
  },
  {
   "cell_type": "code",
   "execution_count": 17,
   "id": "ffec03db-1dd5-45c0-b18c-8b86db730714",
   "metadata": {},
   "outputs": [],
   "source": [
    "df_cat_links = pd.read_json(CAT_LINKS_JSON, lines=True).set_index(\"key\")"
   ]
  },
  {
   "cell_type": "code",
   "execution_count": 18,
   "id": "390e5a9b-1599-427d-87fa-3b0c822bffed",
   "metadata": {},
   "outputs": [
    {
     "data": {
      "text/html": [
       "<div>\n",
       "<style scoped>\n",
       "    .dataframe tbody tr th:only-of-type {\n",
       "        vertical-align: middle;\n",
       "    }\n",
       "\n",
       "    .dataframe tbody tr th {\n",
       "        vertical-align: top;\n",
       "    }\n",
       "\n",
       "    .dataframe thead th {\n",
       "        text-align: right;\n",
       "    }\n",
       "</style>\n",
       "<table border=\"1\" class=\"dataframe\">\n",
       "  <thead>\n",
       "    <tr style=\"text-align: right;\">\n",
       "      <th></th>\n",
       "      <th>memberof</th>\n",
       "    </tr>\n",
       "    <tr>\n",
       "      <th>key</th>\n",
       "      <th></th>\n",
       "    </tr>\n",
       "  </thead>\n",
       "  <tbody>\n",
       "    <tr>\n",
       "      <th>Heinrich_C._Berann_National_Park_Service_panoramas_(featured_picture_set)</th>\n",
       "      <td>[Featured_picture_sets, Featured_picture_sets_of_the_United_States, Featured_pictures_of_Austria]</td>\n",
       "    </tr>\n",
       "    <tr>\n",
       "      <th>Railway_tunnels_in_Europe_by_country</th>\n",
       "      <td>[Container_categories, Rail_infrastructure_in_Europe_by_country, Railway_tunnels_in_Europe, Tunnels_in_Europe_by_country]</td>\n",
       "    </tr>\n",
       "    <tr>\n",
       "      <th>Macedonian_female_canoeists</th>\n",
       "      <td>[Female_canoeists, Macedonian_canoeists, Macedonian_sportswomen]</td>\n",
       "    </tr>\n",
       "    <tr>\n",
       "      <th>FM-Class_Washington_articles</th>\n",
       "      <td>[CatAutoTOC_generates_no_TOC, FM-Class_articles, Template_Category_class_with_class_parameter_matching_title, Washington_articles_by_quality]</td>\n",
       "    </tr>\n",
       "    <tr>\n",
       "      <th>WikiProject_Tonga_templates</th>\n",
       "      <td>[Template:Template_category_with_no_topic_or_description, Tonga_templates, WikiProject_Tonga, WikiProject_templates, Wikipedia_template_categories]</td>\n",
       "    </tr>\n",
       "  </tbody>\n",
       "</table>\n",
       "<p>5 rows × 1 columns</p>\n",
       "</div>"
      ],
      "text/plain": [
       "                                                                                                                                                                                                                      memberof\n",
       "key                                                                                                                                                                                                                           \n",
       "Heinrich_C._Berann_National_Park_Service_panoramas_(featured_picture_set)                                                    [Featured_picture_sets, Featured_picture_sets_of_the_United_States, Featured_pictures_of_Austria]\n",
       "Railway_tunnels_in_Europe_by_country                                                                 [Container_categories, Rail_infrastructure_in_Europe_by_country, Railway_tunnels_in_Europe, Tunnels_in_Europe_by_country]\n",
       "Macedonian_female_canoeists                                                                                                                                   [Female_canoeists, Macedonian_canoeists, Macedonian_sportswomen]\n",
       "FM-Class_Washington_articles                                                     [CatAutoTOC_generates_no_TOC, FM-Class_articles, Template_Category_class_with_class_parameter_matching_title, Washington_articles_by_quality]\n",
       "WikiProject_Tonga_templates                                                [Template:Template_category_with_no_topic_or_description, Tonga_templates, WikiProject_Tonga, WikiProject_templates, Wikipedia_template_categories]\n",
       "\n",
       "[5 rows x 1 columns]"
      ]
     },
     "metadata": {},
     "output_type": "display_data"
    }
   ],
   "source": [
    "display_pd(df_cat_links.sample(5))"
   ]
  },
  {
   "cell_type": "markdown",
   "id": "63d8eb49-3290-494f-8c00-4a4691b903e0",
   "metadata": {},
   "source": [
    "A few categories are missing here. We assume these not have parents (ie. they are roots)."
   ]
  },
  {
   "cell_type": "code",
   "execution_count": 19,
   "id": "30df0a6a-e9ad-480b-bb24-887f4c929f2b",
   "metadata": {},
   "outputs": [
    {
     "name": "stdout",
     "output_type": "stream",
     "text": [
      "2,229,448\n"
     ]
    }
   ],
   "source": [
    "print(f\"{len(df_cat_links):,}\")"
   ]
  },
  {
   "cell_type": "markdown",
   "id": "0f783467-36a2-4e93-85a1-06e1a08bb431",
   "metadata": {},
   "source": [
    "### Combined dataset"
   ]
  },
  {
   "cell_type": "markdown",
   "id": "ce1f0cf5-3d58-4ff4-b3f3-dd0d7a98b2c5",
   "metadata": {},
   "source": [
    "Join together the two datasets, and add in lists of visible parents and subcategories. In the process a few unknown parent categories are found. These are ignored."
   ]
  },
  {
   "cell_type": "code",
   "execution_count": 20,
   "id": "a9921880-2dbd-44ce-8d21-6534748e7bcf",
   "metadata": {},
   "outputs": [],
   "source": [
    "def _fill_missing_list(x):\n",
    "    if not isinstance(x, list):\n",
    "        return []\n",
    "    return x\n",
    "\n",
    "\n",
    "def get_combined_cat_df(df_info, df_links):\n",
    "    df_combined = pd.merge(df_info, df_links, left_index=True, right_index=True, how=\"outer\")\n",
    "    df_combined = df_combined.rename(columns={\"memberof\": \"parents\"})\n",
    "    # `parents` column should contain lists. Fill missing values.\n",
    "    df_combined[\"parents\"] = df_combined[\"parents\"].map(_fill_missing_list)\n",
    "    \n",
    "    # For each category, find the subsets of parents and children which are visible.\n",
    "    # These are appended to df_combined.\n",
    "    parents_flat = pd.merge(\n",
    "        df_combined[[\"name\", \"hidden\"]],\n",
    "        df_combined[\"parents\"].explode(),\n",
    "        left_index=True,\n",
    "        right_index=True\n",
    "    )\n",
    "\n",
    "    # Ignore categories with no parents\n",
    "    parents_flat = parents_flat.query(\"parents.notna()\")\n",
    "\n",
    "    # Look up display name & hidden indicator for parents\n",
    "    n_parents_before = len(parents_flat)\n",
    "    parents_flat = pd.merge(\n",
    "        parents_flat,\n",
    "        df_combined[[\"hidden\", \"name\"]],\n",
    "        left_on=\"parents\",\n",
    "        right_index=True,\n",
    "        suffixes=(\"_cat\", \"_parent\"),\n",
    "        how=\"inner\"\n",
    "    )\n",
    "    n_parents_after = len(parents_flat)\n",
    "    # There are a few parents not found in the main category listing.\n",
    "    # These are dropped silently by the use of the inner join.\n",
    "    print(f\"Unknown parents: {n_parents_before - n_parents_after:,}\")\n",
    "\n",
    "    # Pull out lists of visible parents.\n",
    "    # These lists contain display names, not keys.\n",
    "    visible_parents = (\n",
    "        parents_flat\n",
    "        .query(\"~hidden_parent\")\n",
    "        .groupby(\"key\")\n",
    "        .agg({\"name_parent\": lambda s: s.to_list()})\n",
    "    )\n",
    "    # Pull out lists of visible subcategories.\n",
    "    # These lists contain display names, not keys.\n",
    "    visible_subcats = (\n",
    "        parents_flat\n",
    "        .query(\"~hidden_cat\")\n",
    "        # `parents` contains keys\n",
    "        .groupby(\"parents\")\n",
    "        .agg({\"name_cat\": lambda s: s.to_list()})\n",
    "    )\n",
    "\n",
    "    df_combined[\"parents_visible\"] = visible_parents[\"name_parent\"]\n",
    "    df_combined[\"subcats_visible\"] = visible_subcats[\"name_cat\"]\n",
    "    # After left-joining in these columns, there may be some missing values introduced.\n",
    "    # Replace with empty lists.\n",
    "    df_combined[\"parents_visible\"] = df_combined[\"parents_visible\"].map(_fill_missing_list)\n",
    "    df_combined[\"subcats_visible\"] = df_combined[\"subcats_visible\"].map(_fill_missing_list)\n",
    "\n",
    "    return df_combined"
   ]
  },
  {
   "cell_type": "markdown",
   "id": "a62a2529-c150-4b50-a932-9e3c5a55bb33",
   "metadata": {},
   "source": [
    "Takes ~1 min."
   ]
  },
  {
   "cell_type": "code",
   "execution_count": 21,
   "id": "609b84ec-7d37-46a7-887f-48f75a9d591d",
   "metadata": {},
   "outputs": [
    {
     "name": "stdout",
     "output_type": "stream",
     "text": [
      "Unknown parents: 30\n",
      "CPU times: user 44.2 s, sys: 2.3 s, total: 46.5 s\n",
      "Wall time: 47.3 s\n"
     ]
    }
   ],
   "source": [
    "%%time\n",
    "\n",
    "df_cats = get_combined_cat_df(df_cat_info, df_cat_links)"
   ]
  },
  {
   "cell_type": "markdown",
   "id": "4056a25c-78f6-41cb-8397-5af20bcaacee",
   "metadata": {},
   "source": [
    "The combined dataset should contain exactly the categories in the flat listing."
   ]
  },
  {
   "cell_type": "code",
   "execution_count": 22,
   "id": "f911f8a2-5058-4b40-b864-c755c695caff",
   "metadata": {},
   "outputs": [],
   "source": [
    "assert len(df_cats) == len(df_cat_info)\n",
    "assert df_cats.isna().sum().sum() == 0"
   ]
  },
  {
   "cell_type": "code",
   "execution_count": 25,
   "id": "47a7dcd6-f9ca-473c-8700-8be68da70fb4",
   "metadata": {},
   "outputs": [
    {
     "data": {
      "text/html": [
       "<div>\n",
       "<style scoped>\n",
       "    .dataframe tbody tr th:only-of-type {\n",
       "        vertical-align: middle;\n",
       "    }\n",
       "\n",
       "    .dataframe tbody tr th {\n",
       "        vertical-align: top;\n",
       "    }\n",
       "\n",
       "    .dataframe thead th {\n",
       "        text-align: right;\n",
       "    }\n",
       "</style>\n",
       "<table border=\"1\" class=\"dataframe\">\n",
       "  <thead>\n",
       "    <tr style=\"text-align: right;\">\n",
       "      <th></th>\n",
       "      <th>hidden</th>\n",
       "      <th>name</th>\n",
       "      <th>num_pages</th>\n",
       "      <th>num_subcats</th>\n",
       "      <th>parents</th>\n",
       "      <th>parents_visible</th>\n",
       "      <th>subcats_visible</th>\n",
       "    </tr>\n",
       "    <tr>\n",
       "      <th>key</th>\n",
       "      <th></th>\n",
       "      <th></th>\n",
       "      <th></th>\n",
       "      <th></th>\n",
       "      <th></th>\n",
       "      <th></th>\n",
       "      <th></th>\n",
       "    </tr>\n",
       "  </thead>\n",
       "  <tbody>\n",
       "    <tr>\n",
       "      <th>Roman_legionary_fortresses_in_Spain</th>\n",
       "      <td>False</td>\n",
       "      <td>Roman legionary fortresses in Spain</td>\n",
       "      <td>3</td>\n",
       "      <td>0</td>\n",
       "      <td>[Roman_fortifications_in_Spain, Roman_legionary_fortresses_by_country]</td>\n",
       "      <td>[Roman legionary fortresses by country, Roman fortifications in Spain]</td>\n",
       "      <td>[]</td>\n",
       "    </tr>\n",
       "    <tr>\n",
       "      <th>1985_NCAA_Missouri_Valley_Conference_football_season</th>\n",
       "      <td>False</td>\n",
       "      <td>1985 NCAA Missouri Valley Conference football season</td>\n",
       "      <td>0</td>\n",
       "      <td>0</td>\n",
       "      <td>[Wikipedia_soft_redirected_categories]</td>\n",
       "      <td>[]</td>\n",
       "      <td>[]</td>\n",
       "    </tr>\n",
       "    <tr>\n",
       "      <th>1973_disestablishments_in_North_Carolina</th>\n",
       "      <td>False</td>\n",
       "      <td>1973 disestablishments in North Carolina</td>\n",
       "      <td>5</td>\n",
       "      <td>0</td>\n",
       "      <td>[1970s_disestablishments_in_North_Carolina, 1973_disestablishments_in_the_United_States, 1973_in_North_Carolina, CatAutoTOC_generates_no_TOC, Disestablishments_in_North_Carolina_by_year, Navseasoncats_year_and_decade]</td>\n",
       "      <td>[Disestablishments in North Carolina by year, 1970s disestablishments in North Carolina, 1973 disestablishments in the United States, 1973 in North Carolina]</td>\n",
       "      <td>[]</td>\n",
       "    </tr>\n",
       "    <tr>\n",
       "      <th>2007%E2%80%9308_in_Oceanian_basketball</th>\n",
       "      <td>False</td>\n",
       "      <td>2007–08 in Oceanian basketball</td>\n",
       "      <td>2</td>\n",
       "      <td>3</td>\n",
       "      <td>[2007_in_Oceanian_sport, 2007_in_basketball, 2008_in_Oceanian_sport, 2008_in_basketball, Seasons_in_Oceanian_basketball]</td>\n",
       "      <td>[Seasons in Oceanian basketball, 2007 in basketball, 2007 in Oceanian sport, 2008 in basketball, 2008 in Oceanian sport]</td>\n",
       "      <td>[2007–08 in Australian basketball, 2007 in New Zealand basketball, 2008 in New Zealand basketball]</td>\n",
       "    </tr>\n",
       "    <tr>\n",
       "      <th>1985_in_Sudan</th>\n",
       "      <td>False</td>\n",
       "      <td>1985 in Sudan</td>\n",
       "      <td>3</td>\n",
       "      <td>1</td>\n",
       "      <td>[1980s_in_Sudan, 1985_by_country, 1985_in_Africa, CatAutoTOC_generates_no_TOC, Navseasoncats_year_and_decade, Years_of_the_20th_century_in_Sudan]</td>\n",
       "      <td>[Years of the 20th century in Sudan, 1980s in Sudan, 1985 by country, 1985 in Africa]</td>\n",
       "      <td>[1985 establishments in Sudan]</td>\n",
       "    </tr>\n",
       "  </tbody>\n",
       "</table>\n",
       "<p>5 rows × 7 columns</p>\n",
       "</div>"
      ],
      "text/plain": [
       "                                                      hidden  \\\n",
       "key                                                            \n",
       "Roman_legionary_fortresses_in_Spain                    False   \n",
       "1985_NCAA_Missouri_Valley_Conference_football_season   False   \n",
       "1973_disestablishments_in_North_Carolina               False   \n",
       "2007%E2%80%9308_in_Oceanian_basketball                 False   \n",
       "1985_in_Sudan                                          False   \n",
       "\n",
       "                                                                                                      name  \\\n",
       "key                                                                                                          \n",
       "Roman_legionary_fortresses_in_Spain                                    Roman legionary fortresses in Spain   \n",
       "1985_NCAA_Missouri_Valley_Conference_football_season  1985 NCAA Missouri Valley Conference football season   \n",
       "1973_disestablishments_in_North_Carolina                          1973 disestablishments in North Carolina   \n",
       "2007%E2%80%9308_in_Oceanian_basketball                                      2007–08 in Oceanian basketball   \n",
       "1985_in_Sudan                                                                                1985 in Sudan   \n",
       "\n",
       "                                                      num_pages  num_subcats  \\\n",
       "key                                                                            \n",
       "Roman_legionary_fortresses_in_Spain                           3            0   \n",
       "1985_NCAA_Missouri_Valley_Conference_football_season          0            0   \n",
       "1973_disestablishments_in_North_Carolina                      5            0   \n",
       "2007%E2%80%9308_in_Oceanian_basketball                        2            3   \n",
       "1985_in_Sudan                                                 3            1   \n",
       "\n",
       "                                                                                                                                                                                                                                                                        parents  \\\n",
       "key                                                                                                                                                                                                                                                                               \n",
       "Roman_legionary_fortresses_in_Spain                                                                                                                                                                      [Roman_fortifications_in_Spain, Roman_legionary_fortresses_by_country]   \n",
       "1985_NCAA_Missouri_Valley_Conference_football_season                                                                                                                                                                                     [Wikipedia_soft_redirected_categories]   \n",
       "1973_disestablishments_in_North_Carolina              [1970s_disestablishments_in_North_Carolina, 1973_disestablishments_in_the_United_States, 1973_in_North_Carolina, CatAutoTOC_generates_no_TOC, Disestablishments_in_North_Carolina_by_year, Navseasoncats_year_and_decade]   \n",
       "2007%E2%80%9308_in_Oceanian_basketball                                                                                                                 [2007_in_Oceanian_sport, 2007_in_basketball, 2008_in_Oceanian_sport, 2008_in_basketball, Seasons_in_Oceanian_basketball]   \n",
       "1985_in_Sudan                                                                                                                 [1980s_in_Sudan, 1985_by_country, 1985_in_Africa, CatAutoTOC_generates_no_TOC, Navseasoncats_year_and_decade, Years_of_the_20th_century_in_Sudan]   \n",
       "\n",
       "                                                                                                                                                                                                    parents_visible  \\\n",
       "key                                                                                                                                                                                                                   \n",
       "Roman_legionary_fortresses_in_Spain                                                                                                          [Roman legionary fortresses by country, Roman fortifications in Spain]   \n",
       "1985_NCAA_Missouri_Valley_Conference_football_season                                                                                                                                                             []   \n",
       "1973_disestablishments_in_North_Carolina              [Disestablishments in North Carolina by year, 1970s disestablishments in North Carolina, 1973 disestablishments in the United States, 1973 in North Carolina]   \n",
       "2007%E2%80%9308_in_Oceanian_basketball                                                     [Seasons in Oceanian basketball, 2007 in basketball, 2007 in Oceanian sport, 2008 in basketball, 2008 in Oceanian sport]   \n",
       "1985_in_Sudan                                                                                                                 [Years of the 20th century in Sudan, 1980s in Sudan, 1985 by country, 1985 in Africa]   \n",
       "\n",
       "                                                                                                                                         subcats_visible  \n",
       "key                                                                                                                                                       \n",
       "Roman_legionary_fortresses_in_Spain                                                                                                                   []  \n",
       "1985_NCAA_Missouri_Valley_Conference_football_season                                                                                                  []  \n",
       "1973_disestablishments_in_North_Carolina                                                                                                              []  \n",
       "2007%E2%80%9308_in_Oceanian_basketball                [2007–08 in Australian basketball, 2007 in New Zealand basketball, 2008 in New Zealand basketball]  \n",
       "1985_in_Sudan                                                                                                             [1985 establishments in Sudan]  \n",
       "\n",
       "[5 rows x 7 columns]"
      ]
     },
     "metadata": {},
     "output_type": "display_data"
    }
   ],
   "source": [
    "display_pd(df_cats.sample(5))"
   ]
  },
  {
   "cell_type": "markdown",
   "id": "0ca95643-6740-460b-9a9f-428efe0fa9d1",
   "metadata": {},
   "source": [
    "The number of subcategories listed in the main dataset matches the linked subcategories almost always for visible categories."
   ]
  },
  {
   "cell_type": "code",
   "execution_count": 26,
   "id": "6c6ef4d3-91b7-4fba-8bf2-5b1710476049",
   "metadata": {},
   "outputs": [
    {
     "data": {
      "text/plain": [
       "4268"
      ]
     },
     "execution_count": 26,
     "metadata": {},
     "output_type": "execute_result"
    }
   ],
   "source": [
    "len(df_cats[df_cats[\"subcats_visible\"].map(len) != df_cats[\"num_subcats\"]].query(\"~hidden\"))"
   ]
  },
  {
   "cell_type": "markdown",
   "id": "7e2a5adb-ad57-40ae-96a3-12b44f43c70c",
   "metadata": {},
   "source": [
    "How many visible categories have no visible parents or subcategories?"
   ]
  },
  {
   "cell_type": "code",
   "execution_count": 27,
   "id": "dd0117fb-3997-4c55-8acb-134cb290639f",
   "metadata": {},
   "outputs": [
    {
     "name": "stdout",
     "output_type": "stream",
     "text": [
      "No visible parents: 109,118\n",
      "No visible subcategories: 1,196,459\n"
     ]
    }
   ],
   "source": [
    "print(f\"No visible parents: {(df_cats.query('~hidden')['parents_visible'].map(len) == 0).sum():,}\")\n",
    "print(f\"No visible subcategories: {(df_cats.query('~hidden')['subcats_visible'].map(len) == 0).sum():,}\")"
   ]
  },
  {
   "cell_type": "markdown",
   "id": "aaa7999a-0a3f-4841-b155-3a6dad48cc13",
   "metadata": {},
   "source": [
    "There are some singleton categories with no nonhidden linkage.\n",
    "Looking at their (hidden) parents suggests the majority of these are redirects."
   ]
  },
  {
   "cell_type": "code",
   "execution_count": 29,
   "id": "8b84c5ed-9345-4c54-a302-9198f7921bb4",
   "metadata": {},
   "outputs": [
    {
     "data": {
      "text/plain": [
       "Wikipedia_soft_redirected_categories                                103577\n",
       "Disambiguation_categories                                             2299\n",
       "CatAutoTOC_generates_no_TOC                                            252\n",
       "Commons_category_link_is_on_Wikidata                                   209\n",
       "All_redirect_categories                                                130\n",
       "                                                                     ...  \n",
       "Wikipedia_categories_named_after_American_artists                        1\n",
       "Wikipedia_categories_named_after_political_parties_in_Bangladesh         1\n",
       "Wikipedia_categories_named_after_Swiss_people                            1\n",
       "Wikipedia_categories_named_after_American_football_people                1\n",
       "Wikipedia_categories_named_after_translators                             1\n",
       "Name: parents, Length: 327, dtype: int64"
      ]
     },
     "execution_count": 29,
     "metadata": {},
     "output_type": "execute_result"
    }
   ],
   "source": [
    "(\n",
    "    df_cats[\n",
    "        (df_cats[\"parents_visible\"].map(len) == 0)\n",
    "        & (df_cats[\"subcats_visible\"].map(len) == 0)\n",
    "    ]\n",
    "    .query(\"~hidden\")\n",
    "    [\"parents\"].explode()\n",
    "    .value_counts()\n",
    ")"
   ]
  },
  {
   "cell_type": "markdown",
   "id": "e8091fcf-9f4d-4e60-a0a7-1f781cc15d23",
   "metadata": {},
   "source": [
    "Save to pickle (~350 MB)."
   ]
  },
  {
   "cell_type": "code",
   "execution_count": 31,
   "id": "3d71dd7f-548d-44e5-9054-3bfa8b66fa91",
   "metadata": {},
   "outputs": [],
   "source": [
    "df_cats.to_pickle(CAT_DF_PKL)"
   ]
  },
  {
   "cell_type": "markdown",
   "id": "23500435-396a-4045-97c7-03ec8dab42a4",
   "metadata": {},
   "source": [
    "### Searching categories\n",
    "\n",
    "We build tools for searching the full list of categories that will be used later on for building lists of related categories and subcategories.\n",
    "\n",
    "This will search through the full list of categories for specific entries or those matching a regex.\n",
    "It will also indicate which results are themselves subcategories of another result, for summarization purposes.\n",
    "Results which are _not_ subcategories of another result are the highest-level categories on the topic of interest."
   ]
  },
  {
   "cell_type": "code",
   "execution_count": 471,
   "id": "b6c3fb02-e9cb-4c38-9b5d-c6220dab032c",
   "metadata": {},
   "outputs": [],
   "source": [
    "def find_matching_categories(regex=None, catlist=None, nonempty=False, cat_df=df_cats, return_parents=False):\n",
    "    \"\"\"Find a list of visible categories matching a list or regex.\n",
    "    \n",
    "    regex: a regex to match category names\n",
    "    catlist: a list of exact category names\n",
    "    nonempty: should empty categories (no pages or subcategories) be removed?\n",
    "    cat_df: the combined category table\n",
    "    return_parents: should the exploded table of parents also be returned?\n",
    "    \n",
    "    Returns a subset of the combined category table corresponding to the search terms\n",
    "    with additional columns `parent_matches` indicating whether each category has a parent\n",
    "    that is also in the result, and `seed` giving the portion of the category name that was matched.\n",
    "    \n",
    "    If `return_parents` is `True`, returns that and the exploded table of parents that was joined in.\n",
    "    \"\"\"\n",
    "    # First find the matching rows in the category info table\n",
    "    cat_df_visible = cat_df.query(\"~hidden\")\n",
    "    search_results = []\n",
    "    if catlist is not None:\n",
    "        search_results.append(\n",
    "            cat_df_visible[cat_df_visible[\"name\"].isin(catlist)]\n",
    "            .assign(seed=lambda d: d[\"name\"])\n",
    "        )\n",
    "    if regex is not None:\n",
    "        re_matches = cat_df_visible[\"name\"].str.extract(f\"({regex})\", flags=re.IGNORECASE)[0]\n",
    "        search_results.append(cat_df_visible[re_matches.notna()].assign(seed=re_matches))\n",
    "    matching_cats = pd.concat(search_results, ignore_index=False)\n",
    "    matching_cats = matching_cats[~matching_cats.index.duplicated()]\n",
    "    \n",
    "    # A number of category labels have no member pages or subcategories\n",
    "    # Prune empty categories if requested\n",
    "    if nonempty:\n",
    "        matching_cats = matching_cats.query(\"num_pages + num_subcats > 0\")\n",
    "    \n",
    "    # For each category in the list, check whether one of its parents is also in the list\n",
    "    matching_cats_parents = (\n",
    "        matching_cats[\"parents_visible\"].explode().reset_index()\n",
    "        .merge(matching_cats[[\"name\"]], left_on=\"parents_visible\", right_on=\"name\", how=\"left\")\n",
    "        .assign(parent_matches=lambda d: d[\"name\"].notna())\n",
    "    )\n",
    "    has_matching_parent = (\n",
    "        matching_cats_parents\n",
    "        .groupby(\"key\")\n",
    "        .agg({\"parent_matches\": \"any\"})\n",
    "    )\n",
    "    matching_cats = matching_cats.join(has_matching_parent)\n",
    "    \n",
    "    if return_parents:\n",
    "        return matching_cats, matching_cats_parents\n",
    "    return matching_cats"
   ]
  },
  {
   "cell_type": "code",
   "execution_count": null,
   "id": "a6e26d0c-c1d8-4fc4-822b-285afa15fd90",
   "metadata": {},
   "outputs": [],
   "source": [
    "find_matching_categories(\"^coffee\\\\b\", [\"Alcoholic coffee drinks\"]).query(\"~parent_matches\")"
   ]
  },
  {
   "cell_type": "markdown",
   "id": "65c30c66-cb31-441c-8976-0f3bd8f15b76",
   "metadata": {},
   "source": [
    "This starts from a set of seed categories and searches through all successive levels of subcategories."
   ]
  },
  {
   "cell_type": "code",
   "execution_count": 534,
   "id": "fe0f0ed2-67d2-48cc-88b7-04a15de27a99",
   "metadata": {},
   "outputs": [],
   "source": [
    "def category_bfs(seed_cats=None, seed_re=None, exclude_cats=None, exclude_re=None, max_level=None, cat_df=df_cats, top_level_seeds=True):\n",
    "    \"\"\"Build a category list from seeds and walk the graph of category->subcategory links.\n",
    "    \n",
    "    seed_cats: a list of exact category names\n",
    "    seed_re: a regex to match category names\n",
    "    exclude_cats: a list of exact category names to exclude\n",
    "    exclude_re: a regex to exclude\n",
    "    max_level: if supplied, stop after this level\n",
    "    cat_df: the combined category table\n",
    "    top_level_seeds: if `True`, do not include seed categories which are subcategories of\n",
    "        another seed category.\n",
    "    \n",
    "    Returns a DF with columns:\n",
    "    - name: the category name discovered\n",
    "    - seed: the original seed which generated the top-level category containing this one\n",
    "    - parent: the immediate parent that led to this category\n",
    "    - level: the number of steps from the seed category to this one\n",
    "    \"\"\"\n",
    "    seed_results = find_matching_categories(regex=seed_re, catlist=seed_cats, cat_df=cat_df)\n",
    "    if top_level_seeds:\n",
    "        seed_results = seed_results.query(\"~parent_matches\")\n",
    "    curr_cat_links = seed_results\n",
    "\n",
    "    # Apply exclusions\n",
    "    if exclude_cats:\n",
    "        curr_cat_links = curr_cat_links[~curr_cat_links[\"name\"].isin(exclude_cats)]\n",
    "    if exclude_re:\n",
    "        with warnings.catch_warnings():\n",
    "            # Ignore warning about matching groups.\n",
    "            warnings.simplefilter(\"ignore\", UserWarning)\n",
    "            curr_cat_links = curr_cat_links[~curr_cat_links[\"name\"].str.contains(exclude_re, case=False)]\n",
    "    bl_rows = curr_cat_links[[\"name\", \"seed\"]].assign(parent=None, level=0).reset_index(drop=True)\n",
    "    i = 0\n",
    "\n",
    "    while len(curr_cat_links) > 0:\n",
    "        i += 1\n",
    "        # display(bl_rows)\n",
    "        if max_level and i > max_level:\n",
    "            break\n",
    "        print(f\"Level: {i}\", end=\"\\r\")\n",
    "        # Next level of categories are visible subcategories of current list\n",
    "        new_cats = (\n",
    "            curr_cat_links[\"subcats_visible\"].explode().to_frame()\n",
    "            .join(curr_cat_links[[\"name\", \"seed\"]])\n",
    "            .reset_index(drop=True)\n",
    "            .query(\"subcats_visible.notna()\")\n",
    "        )\n",
    "        # Apply exclusions\n",
    "        if exclude_cats:\n",
    "            new_cats = new_cats[~new_cats[\"subcats_visible\"].isin(exclude_cats)]\n",
    "        if exclude_re:\n",
    "            with warnings.catch_warnings():\n",
    "                warnings.simplefilter(\"ignore\", UserWarning)\n",
    "                new_cats = new_cats[~new_cats[\"subcats_visible\"].str.contains(exclude_re, case=False)]\n",
    "        \n",
    "        # Drop previously seen categories.\n",
    "        bl_new = new_cats.rename(columns={\"subcats_visible\": \"name\", \"name\": \"parent\"}).assign(level=i)\n",
    "        bl_rows = pd.concat([bl_rows, bl_new], ignore_index=True).drop_duplicates(subset=\"name\")\n",
    "        curr_cat_list = bl_rows.query(f\"level == {i}\")[[\"name\", \"seed\"]]\n",
    "        curr_cat_links = curr_cat_list.merge(cat_df, on=\"name\", how=\"left\")\n",
    "    \n",
    "    return bl_rows"
   ]
  },
  {
   "cell_type": "code",
   "execution_count": null,
   "id": "1b5ef4c0-9aa4-480c-b356-9fae23038275",
   "metadata": {},
   "outputs": [],
   "source": [
    "category_bfs(\n",
    "    [\"Coffee with milk politics\"],\n",
    "    \"^coffee\\\\b\",\n",
    "    exclude_re=\"county|house press|stain studio|templates\",\n",
    ")"
   ]
  },
  {
   "cell_type": "markdown",
   "id": "1ab9f1e1-de25-47e9-a2d4-23ae3807af3b",
   "metadata": {},
   "source": [
    "## Download Wikipedia pages to build filters from"
   ]
  },
  {
   "cell_type": "markdown",
   "id": "2daac66f-d3e0-4740-a9b5-96616c0eb2f9",
   "metadata": {},
   "source": [
    "Wikipedia offers a REST API which can be used to programmatically query various types of page content, such as all subcategories and pages belonging to a category, or the content of a page.\n",
    "Set up some tooling to query the API."
   ]
  },
  {
   "cell_type": "code",
   "execution_count": 132,
   "id": "d0811d3e-5d29-49e3-8605-9b5a26c5c8b9",
   "metadata": {},
   "outputs": [],
   "source": [
    "class WikiQuery:\n",
    "    \"\"\"Query Wikipedia's API.\"\"\"\n",
    "    # Documentation: https://www.mediawiki.org/wiki/API:Main_page\n",
    "    WIKIPEDIA_API_URL = \"https://en.wikipedia.org/w/api.php\"\n",
    "    should_continue = True\n",
    "    \n",
    "    def _query(self, params):\n",
    "        \"\"\"Issue a query specified by the parameters to the API.\n",
    "        \n",
    "        `self._handle_response_page()` is called on the JSON result.\n",
    "        If the result set spans multiple pages, this iterates through the pages\n",
    "        and calls `self._handle_response_page()` on each page.\n",
    "        \"\"\"\n",
    "        while True:\n",
    "            rj = requests.get(self.WIKIPEDIA_API_URL, params=params).json()\n",
    "            self._handle_response_page(rj, params)\n",
    "            \n",
    "            if self.should_continue and (\"continue\" in rj):\n",
    "                params.update(rj[\"continue\"])\n",
    "                # Simple rate limiting\n",
    "                sleep(0.5)\n",
    "            else:\n",
    "                break\n",
    "    \n",
    "    def _handle_response_page(self, response_json, params):\n",
    "        \"\"\"Action to take for each page of JSON results.\n",
    "        \n",
    "        Eg. accumulate results into a collection member variable.\n",
    "        \"\"\"\n",
    "        pass\n",
    "    \n",
    "\n",
    "class CatQuery(WikiQuery):\n",
    "    \"\"\"Query Wikipedia's API for category members, including subcategories.\"\"\"\n",
    "    # Documentation: https://www.mediawiki.org/wiki/API:Categorymembers\n",
    "    BASE_PARAMS = {\n",
    "        \"action\": \"query\",\n",
    "        \"list\": \"categorymembers\",\n",
    "        \"cmlimit\": 500,\n",
    "        \"format\": \"json\",\n",
    "        \"cmprop\": \"title|ids|type\",\n",
    "    }\n",
    "    \n",
    "    def __init__(self):\n",
    "        # Mapping of pageid to page info dict\n",
    "        self.pages = {}\n",
    "        self.categories = {}\n",
    "        # List of remaining category names to query\n",
    "        self.subcat_queue = []\n",
    "        \n",
    "    def _handle_response_page(self, response_json, params):\n",
    "        for x in response_json[\"query\"][\"categorymembers\"]:\n",
    "            i = x[\"pageid\"]\n",
    "            if (x[\"type\"] == \"subcat\") and (i not in self.categories):\n",
    "                # New subcategory. Add to list of known cats and query queue\n",
    "                self.categories[i] = x\n",
    "                self.subcat_queue.append(x[\"title\"])\n",
    "            elif i in self.pages:\n",
    "                # Previously seen page, also belongs to subcategory.\n",
    "                # Record subcategory.\n",
    "                self.pages[i][\"categories\"].append(params[\"cmtitle\"])\n",
    "            else:\n",
    "                # New page\n",
    "                x[\"categories\"] = [params[\"cmtitle\"]]\n",
    "                self.pages[i] = x\n",
    "    \n",
    "    def get_members(self, category):\n",
    "        \"\"\"Get a list of pages included in a category and its subcategories.\"\"\"\n",
    "        self.categories[-1] = {\"title\": category}\n",
    "        self.subcat_queue.append(category)\n",
    "        \n",
    "        while len(self.subcat_queue) > 0:\n",
    "            cat = self.subcat_queue.pop(0)\n",
    "            params = dict(self.BASE_PARAMS)\n",
    "            params[\"cmtitle\"] = cat\n",
    "            \n",
    "            # print(\"cat\", params)\n",
    "            self._query(params)\n",
    "\n",
    "\n",
    "class TemplateQuery(WikiQuery):\n",
    "    \"\"\"Query Wikipedia's API for pages containing a template.\"\"\"\n",
    "    # Documentation: https://www.mediawiki.org/wiki/API:Transcludedin\n",
    "    BASE_PARAMS = {\n",
    "        \"action\": \"query\",\n",
    "        \"prop\": \"transcludedin\",\n",
    "        \"tilimit\": 500,\n",
    "        \"format\": \"json\"\n",
    "    }\n",
    "    \n",
    "    def __init__(self):\n",
    "        # Mapping of pageid to page info dict\n",
    "        self.pages = []\n",
    "\n",
    "    def _handle_response_page(self, response_json, params):\n",
    "        _, results = response_json[\"query\"][\"pages\"].popitem()\n",
    "        self.pages.extend(results[\"transcludedin\"])\n",
    "    \n",
    "    def get_pages(self, template_title):\n",
    "        \"\"\"Get a list of pages using the given template.\"\"\"\n",
    "        params = dict(self.BASE_PARAMS)\n",
    "        params[\"titles\"] = template_title\n",
    "\n",
    "        self._query(params)\n",
    "\n",
    "\n",
    "class LinksParse(WikiQuery):\n",
    "    \"\"\"Query Wikipedia's API for links on a page.\"\"\"\n",
    "    # Documentation: https://www.mediawiki.org/wiki/API:Parsing_wikitext#parse\n",
    "    BASE_PARAMS = {\n",
    "        \"action\": \"parse\",\n",
    "        \"prop\": \"links\",\n",
    "        \"format\": \"json\"\n",
    "    }\n",
    "    \n",
    "    def __init__(self):\n",
    "        # List of {\"page\": ..., \"ns\": ...}\n",
    "        self.links = []\n",
    "    \n",
    "    def _handle_response_page(self, response_json, params):\n",
    "        r = response_json[\"parse\"][\"links\"]\n",
    "        self.links = [{\"page\": x[\"*\"], \"ns\": x[\"ns\"]} for x in r]\n",
    "    \n",
    "    def get_page(self, page):\n",
    "        params = dict(self.BASE_PARAMS)\n",
    "        params[\"page\"] = page\n",
    "\n",
    "        self._query(params)\n",
    "\n",
    "\n",
    "class Namespaces(WikiQuery):\n",
    "    \"\"\"Query Wikipedia's API for namespace names & IDs.\"\"\"\n",
    "    # Documentation: https://www.mediawiki.org/wiki/API:Siteinfo\n",
    "    BASE_PARAMS = {\n",
    "        \"action\": \"query\",\n",
    "        \"meta\": \"siteinfo\",\n",
    "        \"siprop\": \"namespaces\",\n",
    "        \"format\": \"json\",\n",
    "        \"formatversion\": \"2\",\n",
    "    }\n",
    "    \n",
    "    def __init__(self):\n",
    "        # Mapping of <id>: <name>\n",
    "        self.ns = {}\n",
    "    \n",
    "    def _handle_response_page(self, response_json, params):\n",
    "        r = response_json[\"query\"][\"namespaces\"]\n",
    "        self.ns = {int(k): v[\"name\"] for k, v in r.items()}\n",
    "    \n",
    "    def get_ns(self):\n",
    "        params = dict(self.BASE_PARAMS)\n",
    "        self._query(params)\n",
    "        # Add label for main pages.\n",
    "        self.ns[0] = \"Article\""
   ]
  },
  {
   "cell_type": "markdown",
   "id": "71c368d7-f0fd-451b-b2d6-1c265279e4af",
   "metadata": {},
   "source": [
    "### Namespaces\n",
    "\n",
    "Pull the mapping of [namespace](https://en.wikipedia.org/wiki/Wikipedia:Namespace) ID to namespace name."
   ]
  },
  {
   "cell_type": "code",
   "execution_count": 121,
   "id": "0964dfad-7037-4993-a1a0-d2c62a7aac4d",
   "metadata": {},
   "outputs": [],
   "source": [
    "nslist = Namespaces()\n",
    "nslist.get_ns()"
   ]
  },
  {
   "cell_type": "code",
   "execution_count": 123,
   "id": "469997e4-c01c-43fe-bbf4-527d61ffe25b",
   "metadata": {},
   "outputs": [],
   "source": [
    "NAMESPACES = nslist.ns"
   ]
  },
  {
   "cell_type": "markdown",
   "id": "7b09e59b-241e-4503-874d-c793fc7724dc",
   "metadata": {},
   "source": [
    "### Pull the list of bad images\n",
    "\n",
    "MediaWiki hosts a [list of offensive images](https://en.wikipedia.org/wiki/MediaWiki:Bad_image_list) that are used across the project. We will use them for filtering Wikipedia pages.\n",
    "\n",
    "Download the list of image links using the API.\n",
    "This gives a list of filenames of the form `\"File:<filename>\"`, which we store as a JSON list."
   ]
  },
  {
   "cell_type": "code",
   "execution_count": 62,
   "id": "6680a06d-6504-40c5-9a65-abb65cb9f169",
   "metadata": {},
   "outputs": [],
   "source": [
    "BAD_IMG_JSON = OUTPUT_DIR / \"bad_image_list.json\""
   ]
  },
  {
   "cell_type": "code",
   "execution_count": 35,
   "id": "bc18f45a-dc0b-40e7-8301-05e1ad9a96a4",
   "metadata": {},
   "outputs": [
    {
     "name": "stdout",
     "output_type": "stream",
     "text": [
      "CPU times: user 30.1 ms, sys: 12.3 ms, total: 42.3 ms\n",
      "Wall time: 263 ms\n"
     ]
    }
   ],
   "source": [
    "%%time\n",
    "\n",
    "lp = LinksParse()\n",
    "lp.get_page(\"MediaWiki:Bad_image_list\")"
   ]
  },
  {
   "cell_type": "code",
   "execution_count": 38,
   "id": "9c03aae4-27c7-415b-b52d-5c792082bd94",
   "metadata": {},
   "outputs": [],
   "source": [
    "badimg = [x[\"page\"] for x in lp.links if x[\"ns\"] == 6]"
   ]
  },
  {
   "cell_type": "code",
   "execution_count": 63,
   "id": "d552d9c3-5481-4b85-900a-b7dd54150d86",
   "metadata": {},
   "outputs": [
    {
     "data": {
      "text/plain": [
       "936"
      ]
     },
     "execution_count": 63,
     "metadata": {},
     "output_type": "execute_result"
    }
   ],
   "source": [
    "len(badimg)"
   ]
  },
  {
   "cell_type": "code",
   "execution_count": 64,
   "id": "cbc4c652-19fa-4b1a-949d-bef90754d224",
   "metadata": {},
   "outputs": [],
   "source": [
    "with open(BAD_IMG_JSON, \"w\") as f:\n",
    "    json.dump(badimg, f)"
   ]
  },
  {
   "cell_type": "code",
   "execution_count": null,
   "id": "e08fc2ed-1a02-4ee9-bfb1-30b19f9a4811",
   "metadata": {},
   "outputs": [],
   "source": [
    "# with open(BAD_IMG_JSON) as f:\n",
    "#     badimg = json.load(f)"
   ]
  },
  {
   "cell_type": "markdown",
   "id": "7c842ba7-9fe6-430a-8657-a28c200973ce",
   "metadata": {},
   "source": [
    "### List of pages & subcategories related to controversial topics\n",
    "\n",
    "The Wikipedia category\n",
    "[Wikipedia controversial topics](https://en.wikipedia.org/wiki/Category:Wikipedia_controversial_topics)\n",
    "contains a categorization of pages that are controversial.\n",
    "These include:\n",
    "\n",
    "- [__Controversial topics__](https://en.wikipedia.org/wiki/Wikipedia:List_of_controversial_issues): topics which are disputed, see a lot of circular editing, or are subject to bias.\n",
    "    * identified by templates like [Template:Controversial](https://en.wikipedia.org/wiki/Template:Controversial) on their Talk page\n",
    "    * listed in [Category:Wikipedia controversial topics](https://en.wikipedia.org/wiki/Category:Wikipedia_controversial_topics).\n",
    "- [__Contentious topics__](https://en.wikipedia.org/wiki/Wikipedia:Contentious_topics): specially-designated topics that have attracted persistent disruptive editing. Administrators are allowed to impose additional editing restrictions on these pages.\n",
    "    * identified by templates or editnotices such as those belonging to [Category:Standardised Wikipedia arbitration enforcement templates](https://en.wikipedia.org/wiki/Category:Standardised_Wikipedia_arbitration_enforcement_templates)\n",
    "    * listed in [Category:Wikipedia pages about contentious topics](https://en.wikipedia.org/wiki/Category:Wikipedia_pages_about_contentious_topics), a subcategory of Controversial topics.\n",
    "- __Objectionable content__: content that may be graphically sexual or otherwise objectionable.\n",
    "    * identified by the use of templates like [Template:Censor](https://en.wikipedia.org/wiki/Template:Censor) on their Talk page\n",
    "    * listed in [Category:Wikipedia objectionable content](https://en.wikipedia.org/wiki/Category:Wikipedia_objectionable_content), a subcategory of Controversial topics.\n",
    "\n",
    "These pages contain examples of content that we may wish to block or downweight.\n",
    "\n",
    "We use the API to pull a full list of pages included in here or any subcategory. For many of these pages, it is the Talk page that belongs to the category rather than the article page, so searching the category list in the ES index will not surface these."
   ]
  },
  {
   "cell_type": "code",
   "execution_count": 66,
   "id": "fc449097-0e99-4ac1-9722-60aa0880e7dc",
   "metadata": {},
   "outputs": [],
   "source": [
    "CONTROVERSIAL_SUBCATS_PKL = OUTPUT_DIR / \"controversial_subcats.pkl\"\n",
    "CONTROVERSIAL_PAGES_PKL = OUTPUT_DIR / \"controversial_pages.pkl\""
   ]
  },
  {
   "cell_type": "markdown",
   "id": "12e8b940-4a97-4a7d-bd9f-061396b36a02",
   "metadata": {},
   "source": [
    "Took 7 min."
   ]
  },
  {
   "cell_type": "code",
   "execution_count": 133,
   "id": "2149e474-ac45-4d9b-9788-770b6416d975",
   "metadata": {},
   "outputs": [
    {
     "name": "stdout",
     "output_type": "stream",
     "text": [
      "CPU times: user 1min 14s, sys: 5.48 s, total: 1min 19s\n",
      "Wall time: 6min 47s\n"
     ]
    }
   ],
   "source": [
    "%%time\n",
    "\n",
    "cq = CatQuery()\n",
    "cq.get_members(\"Category:Wikipedia controversial topics\")"
   ]
  },
  {
   "cell_type": "markdown",
   "id": "5e30d4cc-54e6-4aff-a874-14474d95d920",
   "metadata": {},
   "source": [
    "#### Subcategories\n",
    "\n",
    "Pull the list of subcategories that were discovered nested under the top-level category."
   ]
  },
  {
   "cell_type": "code",
   "execution_count": 134,
   "id": "ace2f2dd-7ffb-4ceb-872d-604dc9fa503a",
   "metadata": {},
   "outputs": [],
   "source": [
    "cont_subcats = pd.DataFrame(cq.categories.values())"
   ]
  },
  {
   "cell_type": "code",
   "execution_count": 135,
   "id": "9bc97980-be69-44dd-a16a-e7f15a114dc0",
   "metadata": {},
   "outputs": [
    {
     "data": {
      "text/plain": [
       "1375"
      ]
     },
     "execution_count": 135,
     "metadata": {},
     "output_type": "execute_result"
    }
   ],
   "source": [
    "len(cont_subcats)"
   ]
  },
  {
   "cell_type": "code",
   "execution_count": 136,
   "id": "5c723931-ba53-4d6d-ba64-d824e58869e3",
   "metadata": {},
   "outputs": [
    {
     "data": {
      "text/html": [
       "<div>\n",
       "<style scoped>\n",
       "    .dataframe tbody tr th:only-of-type {\n",
       "        vertical-align: middle;\n",
       "    }\n",
       "\n",
       "    .dataframe tbody tr th {\n",
       "        vertical-align: top;\n",
       "    }\n",
       "\n",
       "    .dataframe thead th {\n",
       "        text-align: right;\n",
       "    }\n",
       "</style>\n",
       "<table border=\"1\" class=\"dataframe\">\n",
       "  <thead>\n",
       "    <tr style=\"text-align: right;\">\n",
       "      <th></th>\n",
       "      <th>title</th>\n",
       "      <th>pageid</th>\n",
       "      <th>ns</th>\n",
       "      <th>type</th>\n",
       "    </tr>\n",
       "  </thead>\n",
       "  <tbody>\n",
       "    <tr>\n",
       "      <th>527</th>\n",
       "      <td>Category:Autobiographical articles from April 2013</td>\n",
       "      <td>38968382.0</td>\n",
       "      <td>14.0</td>\n",
       "      <td>subcat</td>\n",
       "    </tr>\n",
       "    <tr>\n",
       "      <th>393</th>\n",
       "      <td>Category:Articles with minor POV problems from October 2015</td>\n",
       "      <td>47971935.0</td>\n",
       "      <td>14.0</td>\n",
       "      <td>subcat</td>\n",
       "    </tr>\n",
       "    <tr>\n",
       "      <th>765</th>\n",
       "      <td>Category:Wikipedia articles with possible conflicts of interest from July 2019</td>\n",
       "      <td>61175827.0</td>\n",
       "      <td>14.0</td>\n",
       "      <td>subcat</td>\n",
       "    </tr>\n",
       "    <tr>\n",
       "      <th>290</th>\n",
       "      <td>Category:Articles with a promotional tone from May 2019</td>\n",
       "      <td>60621791.0</td>\n",
       "      <td>14.0</td>\n",
       "      <td>subcat</td>\n",
       "    </tr>\n",
       "    <tr>\n",
       "      <th>1087</th>\n",
       "      <td>Category:Articles with weasel words from June 2018</td>\n",
       "      <td>57552494.0</td>\n",
       "      <td>14.0</td>\n",
       "      <td>subcat</td>\n",
       "    </tr>\n",
       "  </tbody>\n",
       "</table>\n",
       "<p>5 rows × 4 columns</p>\n",
       "</div>"
      ],
      "text/plain": [
       "                                                                               title  \\\n",
       "527                               Category:Autobiographical articles from April 2013   \n",
       "393                      Category:Articles with minor POV problems from October 2015   \n",
       "765   Category:Wikipedia articles with possible conflicts of interest from July 2019   \n",
       "290                          Category:Articles with a promotional tone from May 2019   \n",
       "1087                              Category:Articles with weasel words from June 2018   \n",
       "\n",
       "          pageid    ns    type  \n",
       "527   38968382.0  14.0  subcat  \n",
       "393   47971935.0  14.0  subcat  \n",
       "765   61175827.0  14.0  subcat  \n",
       "290   60621791.0  14.0  subcat  \n",
       "1087  57552494.0  14.0  subcat  \n",
       "\n",
       "[5 rows x 4 columns]"
      ]
     },
     "metadata": {},
     "output_type": "display_data"
    }
   ],
   "source": [
    "display_pd(cont_subcats.sample(5))"
   ]
  },
  {
   "cell_type": "code",
   "execution_count": 137,
   "id": "4b5df989-3f8f-4677-8233-6d8c3411be0f",
   "metadata": {},
   "outputs": [],
   "source": [
    "# All are categories\n",
    "assert cont_subcats[\"ns\"].dropna().unique() == 14\n",
    "assert cont_subcats[\"type\"].dropna().unique() == \"subcat\""
   ]
  },
  {
   "cell_type": "markdown",
   "id": "cf89a2e4-80ea-4f01-8d8f-62f857498c7e",
   "metadata": {},
   "source": [
    "Many of the subcategories relate to specific dates. What are the general category areas?"
   ]
  },
  {
   "cell_type": "code",
   "execution_count": 138,
   "id": "63d0ae22-109e-452a-bdbf-1dd1ba9a61b5",
   "metadata": {},
   "outputs": [
    {
     "name": "stderr",
     "output_type": "stream",
     "text": [
      "/var/folders/pc/0579g5jj3n196m1p9n2tv7h80000gp/T/ipykernel_14173/4080162309.py:1: FutureWarning: The default value of regex will change from True to False in a future version.\n"
     ]
    },
    {
     "data": {
      "text/plain": [
       "5                      Category:All Wikipedia neutral point of view disputes\n",
       "336                            Category:All articles with a promotional tone\n",
       "470                            Category:All articles with minor POV problems\n",
       "968                                 Category:All articles with peacock terms\n",
       "1306    Category:All articles with specifically marked weasel-worded phrases\n",
       "163                                Category:Articles with a promotional tone\n",
       "164                                Category:Articles with minor POV problems\n",
       "471                                     Category:Articles with peacock terms\n",
       "1143        Category:Articles with specifically marked weasel-worded phrases\n",
       "472                                      Category:Articles with weasel words\n",
       "473                                       Category:Articles with wikipuffery\n",
       "165                                       Category:Autobiographical articles\n",
       "167       Category:Pseudoscience articles under contentious topics procedure\n",
       "1                        Category:Wikipedia articles under general sanctions\n",
       "809                            Category:Wikipedia articles with paid content\n",
       "166          Category:Wikipedia articles with possible conflicts of interest\n",
       "1144               Category:Wikipedia articles with undisclosed paid content\n",
       "0                                    Category:Wikipedia controversial topics\n",
       "2                          Category:Wikipedia neutral point of view disputes\n",
       "3                                   Category:Wikipedia objectionable content\n",
       "4                          Category:Wikipedia pages about contentious topics\n",
       "Name: title, Length: 21, dtype: object"
      ]
     },
     "metadata": {},
     "output_type": "display_data"
    }
   ],
   "source": [
    "display_pd(cont_subcats[\"title\"].str.replace(\" from \\w+ \\d{4}\", \"\").drop_duplicates().sort_values())"
   ]
  },
  {
   "cell_type": "markdown",
   "id": "83f8c881-0e91-4308-8913-c030e7a0dda4",
   "metadata": {},
   "source": [
    "Map page titles to canonical URI form (eg. spaces converted to `_`)."
   ]
  },
  {
   "cell_type": "code",
   "execution_count": null,
   "id": "cec5b018-89be-4ffe-9b15-e20110052d04",
   "metadata": {},
   "outputs": [],
   "source": [
    "# cont_subcats[\"name\"] = cont_subcats[\"title\"].str.replace(\"^Category:\", \"\", regex=True).str.replace(\"_\", \" \")\n",
    "\n",
    "# cont_subcats = pd.merge(cont_subcats, all_category_info[[\"name\", \"key\"]], how=\"left\", on=\"name\")\n",
    "\n",
    "# # Handle the root category explicitly (different format)\n",
    "# cont_subcats.iloc[0, -1] = cont_subcats.iloc[0][\"title\"]"
   ]
  },
  {
   "cell_type": "code",
   "execution_count": 139,
   "id": "1dac4d8e-64e0-449a-8bb6-701e1e9fa60f",
   "metadata": {},
   "outputs": [],
   "source": [
    "cont_subcats.to_pickle(CONTROVERSIAL_SUBCATS_PKL)"
   ]
  },
  {
   "cell_type": "markdown",
   "id": "26b9556a-c87d-4899-a992-6124f12e4a85",
   "metadata": {},
   "source": [
    "#### Pages\n",
    "\n",
    "Pull the list of pages belonging to any subcategory under the root."
   ]
  },
  {
   "cell_type": "code",
   "execution_count": 140,
   "id": "0b1daa36-3c08-4e21-afe9-8d245cd27c3f",
   "metadata": {},
   "outputs": [],
   "source": [
    "cont_pages = pd.DataFrame(cq.pages.values())"
   ]
  },
  {
   "cell_type": "code",
   "execution_count": 141,
   "id": "ac69342c-437e-4be3-9928-9f6441f82941",
   "metadata": {},
   "outputs": [
    {
     "data": {
      "text/plain": [
       "87694"
      ]
     },
     "execution_count": 141,
     "metadata": {},
     "output_type": "execute_result"
    }
   ],
   "source": [
    "len(cont_pages)"
   ]
  },
  {
   "cell_type": "code",
   "execution_count": 142,
   "id": "1b7d7725-1ddf-42d7-adca-90d1a7a473aa",
   "metadata": {},
   "outputs": [
    {
     "data": {
      "text/html": [
       "<div>\n",
       "<style scoped>\n",
       "    .dataframe tbody tr th:only-of-type {\n",
       "        vertical-align: middle;\n",
       "    }\n",
       "\n",
       "    .dataframe tbody tr th {\n",
       "        vertical-align: top;\n",
       "    }\n",
       "\n",
       "    .dataframe thead th {\n",
       "        text-align: right;\n",
       "    }\n",
       "</style>\n",
       "<table border=\"1\" class=\"dataframe\">\n",
       "  <thead>\n",
       "    <tr style=\"text-align: right;\">\n",
       "      <th></th>\n",
       "      <th>pageid</th>\n",
       "      <th>ns</th>\n",
       "      <th>title</th>\n",
       "      <th>type</th>\n",
       "      <th>categories</th>\n",
       "    </tr>\n",
       "  </thead>\n",
       "  <tbody>\n",
       "    <tr>\n",
       "      <th>4256</th>\n",
       "      <td>5243787</td>\n",
       "      <td>11</td>\n",
       "      <td>Template talk:Politics of Syria</td>\n",
       "      <td>page</td>\n",
       "      <td>[Category:Wikipedia articles under general sanctions]</td>\n",
       "    </tr>\n",
       "    <tr>\n",
       "      <th>24161</th>\n",
       "      <td>38742369</td>\n",
       "      <td>0</td>\n",
       "      <td>Lisa Giobbi</td>\n",
       "      <td>page</td>\n",
       "      <td>[Category:Articles with a promotional tone from March 2013, Category:All articles with a promotional tone]</td>\n",
       "    </tr>\n",
       "    <tr>\n",
       "      <th>58071</th>\n",
       "      <td>53747273</td>\n",
       "      <td>0</td>\n",
       "      <td>Shrirang Godbole</td>\n",
       "      <td>page</td>\n",
       "      <td>[Category:Wikipedia articles with possible conflicts of interest from September 2021]</td>\n",
       "    </tr>\n",
       "    <tr>\n",
       "      <th>39421</th>\n",
       "      <td>32049685</td>\n",
       "      <td>0</td>\n",
       "      <td>Cold Rock Ice Creamery</td>\n",
       "      <td>page</td>\n",
       "      <td>[Category:Articles with a promotional tone from April 2021, Category:All articles with a promotional tone]</td>\n",
       "    </tr>\n",
       "    <tr>\n",
       "      <th>10259</th>\n",
       "      <td>68563686</td>\n",
       "      <td>1</td>\n",
       "      <td>Talk:List of anti-vaccination groups</td>\n",
       "      <td>page</td>\n",
       "      <td>[Category:Wikipedia pages about contentious topics]</td>\n",
       "    </tr>\n",
       "  </tbody>\n",
       "</table>\n",
       "<p>5 rows × 5 columns</p>\n",
       "</div>"
      ],
      "text/plain": [
       "         pageid  ns                                 title  type  \\\n",
       "4256    5243787  11       Template talk:Politics of Syria  page   \n",
       "24161  38742369   0                           Lisa Giobbi  page   \n",
       "58071  53747273   0                      Shrirang Godbole  page   \n",
       "39421  32049685   0                Cold Rock Ice Creamery  page   \n",
       "10259  68563686   1  Talk:List of anti-vaccination groups  page   \n",
       "\n",
       "                                                                                                       categories  \n",
       "4256                                                        [Category:Wikipedia articles under general sanctions]  \n",
       "24161  [Category:Articles with a promotional tone from March 2013, Category:All articles with a promotional tone]  \n",
       "58071                       [Category:Wikipedia articles with possible conflicts of interest from September 2021]  \n",
       "39421  [Category:Articles with a promotional tone from April 2021, Category:All articles with a promotional tone]  \n",
       "10259                                                         [Category:Wikipedia pages about contentious topics]  \n",
       "\n",
       "[5 rows x 5 columns]"
      ]
     },
     "metadata": {},
     "output_type": "display_data"
    }
   ],
   "source": [
    "display_pd(cont_pages.sample(5))"
   ]
  },
  {
   "cell_type": "markdown",
   "id": "32035160-1c1c-45cf-a85b-90fca73f654e",
   "metadata": {},
   "source": [
    "The pages belong to multiple [namespaces](https://en.wikipedia.org/wiki/Wikipedia:Namespace).\n",
    "In many cases, the category is applied to the Talk page (odd numbered namespace) rather than the main article page (even numbered namespace).\n",
    "\n",
    "- The majority of these are articles or article Talk pages.\n",
    "- There are some templates & categories that are also included."
   ]
  },
  {
   "cell_type": "code",
   "execution_count": 143,
   "id": "67fd769e-f31f-4387-b540-993fbfb117de",
   "metadata": {},
   "outputs": [],
   "source": [
    "cont_pages[\"namespace\"] = cont_pages[\"ns\"].map(NAMESPACES)"
   ]
  },
  {
   "cell_type": "code",
   "execution_count": 170,
   "id": "b424f6d8-8012-4815-8b75-2a1384f68e04",
   "metadata": {},
   "outputs": [
    {
     "data": {
      "text/plain": [
       "Article           74086\n",
       "Talk              13138\n",
       "Template            128\n",
       "Template talk       104\n",
       "Category talk        76\n",
       "Wikipedia talk       36\n",
       "User talk            36\n",
       "Wikipedia            24\n",
       "Draft talk           17\n",
       "Module               16\n",
       "User                 14\n",
       "Module talk           8\n",
       "File talk             6\n",
       "Portal talk           4\n",
       "Help talk             1\n",
       "Name: namespace, Length: 15, dtype: int64"
      ]
     },
     "execution_count": 170,
     "metadata": {},
     "output_type": "execute_result"
    }
   ],
   "source": [
    "cont_pages[\"namespace\"].value_counts()"
   ]
  },
  {
   "cell_type": "markdown",
   "id": "188f7fb5-24d6-4829-9d14-332d981692fc",
   "metadata": {},
   "source": [
    "Deduce the main page title from the corresponding Talk page title."
   ]
  },
  {
   "cell_type": "code",
   "execution_count": 163,
   "id": "5502eb49-7823-4c71-8562-55619766189f",
   "metadata": {},
   "outputs": [],
   "source": [
    "cont_pages[\"main_title\"] = (\n",
    "    cont_pages[\"title\"]\n",
    "    .str.replace(\"^([^:]+) talk:\", \"\\\\1:\", n=1, regex=True)\n",
    "    .str.removeprefix(\"Talk:\")\n",
    ")"
   ]
  },
  {
   "cell_type": "code",
   "execution_count": 171,
   "id": "f63612ab-6a4a-45a3-91cb-1c3f3c1de945",
   "metadata": {},
   "outputs": [],
   "source": [
    "cont_pages.to_pickle(CONTROVERSIAL_PAGES_PKL)"
   ]
  },
  {
   "cell_type": "code",
   "execution_count": null,
   "id": "df3e746a-987c-425c-968a-e0d66cea6cd9",
   "metadata": {},
   "outputs": [],
   "source": [
    "# cont_pages = pd.read_pickle(CONT_PAGES_PKL)"
   ]
  },
  {
   "cell_type": "code",
   "execution_count": 173,
   "id": "a3c60573-efc3-43e8-aa2d-4f7edd1c8c0d",
   "metadata": {},
   "outputs": [],
   "source": [
    "cont_page_catcounts = cont_pages[\"categories\"].explode().value_counts()"
   ]
  },
  {
   "cell_type": "code",
   "execution_count": 174,
   "id": "6f9bef0f-12e6-489e-9207-441db2c8a9f5",
   "metadata": {},
   "outputs": [
    {
     "data": {
      "text/plain": [
       "Category:All articles with a promotional tone                                         25206\n",
       "Category:All articles with specifically marked weasel-worded phrases                  17770\n",
       "Category:Wikipedia pages about contentious topics                                      9326\n",
       "Category:All Wikipedia neutral point of view disputes                                  7656\n",
       "Category:All articles with peacock terms                                               3575\n",
       "Category:Wikipedia controversial topics                                                3561\n",
       "Category:All articles with minor POV problems                                          1022\n",
       "Category:Wikipedia articles under general sanctions                                    1010\n",
       "Category:Wikipedia objectionable content                                                615\n",
       "Category:Articles with specifically marked weasel-worded phrases from January 2023      465\n",
       "Name: categories, Length: 10, dtype: int64"
      ]
     },
     "execution_count": 174,
     "metadata": {},
     "output_type": "execute_result"
    }
   ],
   "source": [
    "cont_page_catcounts.head(10)"
   ]
  },
  {
   "cell_type": "code",
   "execution_count": 175,
   "id": "d119f695-1b85-4275-9963-667597aed5f0",
   "metadata": {},
   "outputs": [
    {
     "data": {
      "text/plain": [
       "Category:Wikipedia objectionable content              615\n",
       "Category:Wikipedia pages about contentious topics    9326\n",
       "Name: categories, Length: 2, dtype: int64"
      ]
     },
     "execution_count": 175,
     "metadata": {},
     "output_type": "execute_result"
    }
   ],
   "source": [
    "cont_page_catcounts.loc[[\"Category:Wikipedia objectionable content\", \"Category:Wikipedia pages about contentious topics\"]]"
   ]
  },
  {
   "cell_type": "markdown",
   "id": "ac2512b5-0971-49f6-85a8-dbef751213de",
   "metadata": {},
   "source": [
    "## Pull records for potentially controversial pages from search index\n",
    "\n",
    "We run through the full index and pull out records for pages:\n",
    "\n",
    "- belonging to one of the controversial categories\n",
    "- containing a bad image"
   ]
  },
  {
   "cell_type": "code",
   "execution_count": 176,
   "id": "1b1ecc2c-0fcb-413e-be5b-03f74fce3c00",
   "metadata": {},
   "outputs": [],
   "source": [
    "# ES index listing for potentially controversial pages\n",
    "CONTROVERSIAL_INDEX = OUTPUT_DIR / \"cirrussearch-controversial-content.json.gz\""
   ]
  },
  {
   "cell_type": "code",
   "execution_count": 183,
   "id": "cca72c83-83b1-4818-8d0b-5711257d87b3",
   "metadata": {},
   "outputs": [],
   "source": [
    "CONTROVERSIAL_TITLES = set(cont_pages.query(\"namespace in ('Article', 'Talk')\")[\"main_title\"])\n",
    "BAD_IMAGES = set([x.removeprefix(\"File:\") for x in badimg])"
   ]
  },
  {
   "cell_type": "code",
   "execution_count": 184,
   "id": "e55efc68-046d-47a9-88ee-41c77a86f468",
   "metadata": {},
   "outputs": [
    {
     "data": {
      "text/plain": [
       "(86252, 936)"
      ]
     },
     "execution_count": 184,
     "metadata": {},
     "output_type": "execute_result"
    }
   ],
   "source": [
    "len(CONTROVERSIAL_TITLES), len(BAD_IMAGES)"
   ]
  },
  {
   "cell_type": "code",
   "execution_count": 303,
   "id": "2408769d-3f01-41dc-b6aa-5e90f02b94ac",
   "metadata": {},
   "outputs": [],
   "source": [
    "class ControversialIndexing(IndexStream):\n",
    "    def _is_controversial_record(self, r):\n",
    "        j = json.loads(r)\n",
    "        if j[\"title\"] in CONTROVERSIAL_TITLES:\n",
    "            return True\n",
    "        for img in BAD_IMAGES:\n",
    "            if img in j[\"source_text\"]:\n",
    "                return True\n",
    "        return False\n",
    "\n",
    "    def _process_record(self, line, i):\n",
    "        if self._is_controversial_record(line):\n",
    "            self._write_to_output(line)"
   ]
  },
  {
   "cell_type": "code",
   "execution_count": 186,
   "id": "88132576-ad09-4300-a48c-6472381feb25",
   "metadata": {},
   "outputs": [],
   "source": [
    "contind = ControversialIndexing()"
   ]
  },
  {
   "cell_type": "markdown",
   "id": "1e805c48-f2ce-482e-96a4-b7fd6bab9514",
   "metadata": {},
   "source": [
    "Took 4 hours 30 min. Wrote a gzipped JSON file of 1.3 GB."
   ]
  },
  {
   "cell_type": "code",
   "execution_count": 187,
   "id": "0fde2ce4-a771-4082-9d96-428b2e392504",
   "metadata": {},
   "outputs": [
    {
     "name": "stderr",
     "output_type": "stream",
     "text": [
      "13220896it [4:19:10, 850.16it/s]                                                                                                                         "
     ]
    },
    {
     "name": "stdout",
     "output_type": "stream",
     "text": [
      "CPU times: user 4h 15min 50s, sys: 1min 41s, total: 4h 17min 31s\n",
      "Wall time: 4h 19min 11s\n"
     ]
    },
    {
     "name": "stderr",
     "output_type": "stream",
     "text": [
      "\n"
     ]
    }
   ],
   "source": [
    "%%time\n",
    "\n",
    "contind.run_with_output_file(CONTROVERSIAL_INDEX)"
   ]
  },
  {
   "cell_type": "code",
   "execution_count": 188,
   "id": "3578282d-ed05-409a-b65f-452a07408d13",
   "metadata": {},
   "outputs": [
    {
     "name": "stdout",
     "output_type": "stream",
     "text": [
      "Records kept: 85,740\n"
     ]
    }
   ],
   "source": [
    "print(f\"Records kept: {contind.n_kept:,}\")"
   ]
  },
  {
   "cell_type": "markdown",
   "id": "4d327507-ac79-4057-a51d-3735c2e58ce4",
   "metadata": {
    "tags": []
   },
   "source": [
    "## Explore potentially controversial pages\n",
    "\n",
    "Our goal is to develop a strategy for recognizing pages we may want to block or downweight.\n",
    "We look into options for accomplishing this by exploring the record for the subset of potentially controversial pages pulled above.\n",
    "\n",
    "First, trim down the records by removing long or irrelevant fields to facilitate loading into memory."
   ]
  },
  {
   "cell_type": "code",
   "execution_count": 189,
   "id": "f0eb3da4-6d4a-4beb-b338-ee5ecf720a54",
   "metadata": {},
   "outputs": [],
   "source": [
    "CONTROVERSIAL_INDEX_SHORT = OUTPUT_DIR / \"cirrussearch-controversial-content_reduced.json.gz\"\n",
    "CONTROVERSIAL_DF_PKL = OUTPUT_DIR / \"controversial_records.pkl\""
   ]
  },
  {
   "cell_type": "code",
   "execution_count": 209,
   "id": "5bce5c0e-187e-469e-bc5e-c01bd34db43c",
   "metadata": {},
   "outputs": [],
   "source": [
    "OBJECTIONABLE_TITLES = (\n",
    "    cont_pages[\n",
    "        cont_pages[\"categories\"].map(lambda x: \"Category:Wikipedia objectionable content\" in x)\n",
    "    ][\"main_title\"].to_list()\n",
    ")\n",
    "CONTENTIOUS_TITLES = (\n",
    "    cont_pages[\n",
    "        cont_pages[\"categories\"].map(lambda x: \"Category:Wikipedia pages about contentious topics\" in x)\n",
    "    ][\"main_title\"].to_list()\n",
    ")\n",
    "SANCTIONS_TITLES = (\n",
    "    cont_pages[\n",
    "        cont_pages[\"categories\"].map(lambda x: \"Category:Wikipedia articles under general sanctions\" in x)\n",
    "    ][\"main_title\"].to_list()\n",
    ")"
   ]
  },
  {
   "cell_type": "code",
   "execution_count": 210,
   "id": "60226bb7-5ce3-4d32-9c5b-9a7a681d2c24",
   "metadata": {},
   "outputs": [
    {
     "data": {
      "text/plain": [
       "(615, 9326, 1010)"
      ]
     },
     "execution_count": 210,
     "metadata": {},
     "output_type": "execute_result"
    }
   ],
   "source": [
    "len(OBJECTIONABLE_TITLES), len(CONTENTIOUS_TITLES), len(SANCTIONS_TITLES)"
   ]
  },
  {
   "cell_type": "code",
   "execution_count": 211,
   "id": "e6af11e5-8e16-497f-a8e6-49919b4be300",
   "metadata": {},
   "outputs": [],
   "source": [
    "def reduce_record(r):\n",
    "    FIELDS_KEPT = [\"title\", \"opening_text\", \"auxiliary_text\", \"category\", \"page_id\"]\n",
    "\n",
    "    j = json.loads(r)\n",
    "    result = {k: j.get(k, \"\") for k in FIELDS_KEPT}\n",
    "    # Remove modules (Lua snippets)\n",
    "    result[\"template\"] = [x for x in j[\"template\"] if x.startswith(\"Template:\")]\n",
    "    result[\"bad_img\"] = False\n",
    "    for img in BAD_IMAGES:\n",
    "        if img in j[\"source_text\"]:\n",
    "            result[\"bad_img\"] = True\n",
    "            break\n",
    "    result[\"controversial\"] = j[\"title\"] in CONTROVERSIAL_TITLES\n",
    "    result[\"contentious\"] = j[\"title\"] in CONTENTIOUS_TITLES\n",
    "    result[\"sanctions\"] = j[\"title\"] in SANCTIONS_TITLES\n",
    "    result[\"objectionable\"] = j[\"title\"] in OBJECTIONABLE_TITLES\n",
    "    \n",
    "    return json.dumps(result)\n",
    "\n",
    "\n",
    "def process_controversial_records(full_index, short_index):\n",
    "    with gzip.open(short_index, \"wt\") as fw:\n",
    "        with gzip.open(full_index, \"rt\") as fr:\n",
    "            for i, line in tqdm(enumerate(fr), total=86_000):\n",
    "                fw.write(reduce_record(line) + \"\\n\")"
   ]
  },
  {
   "cell_type": "markdown",
   "id": "de63da95-1952-46d9-88da-8958dcf0786f",
   "metadata": {},
   "source": [
    "Took 10 min. Wrote a gzipped JSON file of 125 MB."
   ]
  },
  {
   "cell_type": "code",
   "execution_count": 212,
   "id": "5def1df2-98ca-4fc2-a099-414198aeb5be",
   "metadata": {},
   "outputs": [
    {
     "name": "stderr",
     "output_type": "stream",
     "text": [
      "100%|████████████████████████████████████████████████████████████████████████████████████████████████████████████▋| 85740/86000 [10:02<00:01, 142.29it/s]"
     ]
    },
    {
     "name": "stdout",
     "output_type": "stream",
     "text": [
      "CPU times: user 9min 48s, sys: 7.7 s, total: 9min 56s\n",
      "Wall time: 10min 2s\n"
     ]
    },
    {
     "name": "stderr",
     "output_type": "stream",
     "text": [
      "\n"
     ]
    }
   ],
   "source": [
    "%%time\n",
    "\n",
    "process_controversial_records(CONTROVERSIAL_INDEX, CONTROVERSIAL_INDEX_SHORT)"
   ]
  },
  {
   "cell_type": "code",
   "execution_count": 213,
   "id": "42833cc6-1515-41a0-bb70-5af28e6caac3",
   "metadata": {},
   "outputs": [],
   "source": [
    "df_cont = pd.read_json(CONTROVERSIAL_INDEX_SHORT, lines=True)"
   ]
  },
  {
   "cell_type": "code",
   "execution_count": 217,
   "id": "67806cff-b58f-4283-a5bd-657d536e6d2f",
   "metadata": {},
   "outputs": [
    {
     "data": {
      "text/html": [
       "<div>\n",
       "<style scoped>\n",
       "    .dataframe tbody tr th:only-of-type {\n",
       "        vertical-align: middle;\n",
       "    }\n",
       "\n",
       "    .dataframe tbody tr th {\n",
       "        vertical-align: top;\n",
       "    }\n",
       "\n",
       "    .dataframe thead th {\n",
       "        text-align: right;\n",
       "    }\n",
       "</style>\n",
       "<table border=\"1\" class=\"dataframe\">\n",
       "  <thead>\n",
       "    <tr style=\"text-align: right;\">\n",
       "      <th></th>\n",
       "      <th>title</th>\n",
       "      <th>opening_text</th>\n",
       "      <th>auxiliary_text</th>\n",
       "      <th>category</th>\n",
       "      <th>page_id</th>\n",
       "      <th>template</th>\n",
       "      <th>bad_img</th>\n",
       "      <th>controversial</th>\n",
       "      <th>contentious</th>\n",
       "      <th>sanctions</th>\n",
       "      <th>objectionable</th>\n",
       "    </tr>\n",
       "  </thead>\n",
       "  <tbody>\n",
       "    <tr>\n",
       "      <th>65671</th>\n",
       "      <td>Barkan Industrial Park</td>\n",
       "      <td>The Barkan Industrial Park (Hebrew: איזור התעש...</td>\n",
       "      <td>[This article may be unbalanced towards certai...</td>\n",
       "      <td>[All articles with bare URLs for citations, Ar...</td>\n",
       "      <td>5604590</td>\n",
       "      <td>[Template:Short description, Template:Pagetype...</td>\n",
       "      <td>False</td>\n",
       "      <td>True</td>\n",
       "      <td>True</td>\n",
       "      <td>False</td>\n",
       "      <td>False</td>\n",
       "    </tr>\n",
       "    <tr>\n",
       "      <th>5028</th>\n",
       "      <td>Trans Misja</td>\n",
       "      <td>Trans Misja is the fourth studio album by Poli...</td>\n",
       "      <td>[This article does not cite any sources. Pleas...</td>\n",
       "      <td>[Articles lacking sources from August 2010, Al...</td>\n",
       "      <td>12795102</td>\n",
       "      <td>[Template:Unreferenced, Template:Ambox, Templa...</td>\n",
       "      <td>False</td>\n",
       "      <td>True</td>\n",
       "      <td>False</td>\n",
       "      <td>False</td>\n",
       "      <td>False</td>\n",
       "    </tr>\n",
       "    <tr>\n",
       "      <th>62669</th>\n",
       "      <td>East West (band)</td>\n",
       "      <td>East West was an American Christian rock band ...</td>\n",
       "      <td>[This article includes a list of general refer...</td>\n",
       "      <td>[Articles with short description, Short descri...</td>\n",
       "      <td>5336083</td>\n",
       "      <td>[Template:Short description, Template:Pagetype...</td>\n",
       "      <td>False</td>\n",
       "      <td>True</td>\n",
       "      <td>False</td>\n",
       "      <td>False</td>\n",
       "      <td>False</td>\n",
       "    </tr>\n",
       "    <tr>\n",
       "      <th>34627</th>\n",
       "      <td>Sokikom</td>\n",
       "      <td>Sokikom (so-kee-kom) is a math program where e...</td>\n",
       "      <td>[This article has multiple issues. Please help...</td>\n",
       "      <td>[Articles with a promotional tone from June 20...</td>\n",
       "      <td>31626507</td>\n",
       "      <td>[Template:Multiple issues, Template:Ambox, Tem...</td>\n",
       "      <td>False</td>\n",
       "      <td>True</td>\n",
       "      <td>False</td>\n",
       "      <td>False</td>\n",
       "      <td>False</td>\n",
       "    </tr>\n",
       "    <tr>\n",
       "      <th>71253</th>\n",
       "      <td>Ray Grainger</td>\n",
       "      <td>Raymond \"Ray\" Grainger is the co-founder and C...</td>\n",
       "      <td>[This article may contain wording that promote...</td>\n",
       "      <td>[CS1 maint: url-status, Articles with wikipuff...</td>\n",
       "      <td>61814373</td>\n",
       "      <td>[Template:Puffery, Template:Ambox, Template:In...</td>\n",
       "      <td>False</td>\n",
       "      <td>True</td>\n",
       "      <td>False</td>\n",
       "      <td>False</td>\n",
       "      <td>False</td>\n",
       "    </tr>\n",
       "  </tbody>\n",
       "</table>\n",
       "<p>5 rows × 11 columns</p>\n",
       "</div>"
      ],
      "text/plain": [
       "                        title  \\\n",
       "65671  Barkan Industrial Park   \n",
       "5028              Trans Misja   \n",
       "62669        East West (band)   \n",
       "34627                 Sokikom   \n",
       "71253            Ray Grainger   \n",
       "\n",
       "                                            opening_text  \\\n",
       "65671  The Barkan Industrial Park (Hebrew: איזור התעש...   \n",
       "5028   Trans Misja is the fourth studio album by Poli...   \n",
       "62669  East West was an American Christian rock band ...   \n",
       "34627  Sokikom (so-kee-kom) is a math program where e...   \n",
       "71253  Raymond \"Ray\" Grainger is the co-founder and C...   \n",
       "\n",
       "                                          auxiliary_text  \\\n",
       "65671  [This article may be unbalanced towards certai...   \n",
       "5028   [This article does not cite any sources. Pleas...   \n",
       "62669  [This article includes a list of general refer...   \n",
       "34627  [This article has multiple issues. Please help...   \n",
       "71253  [This article may contain wording that promote...   \n",
       "\n",
       "                                                category   page_id  \\\n",
       "65671  [All articles with bare URLs for citations, Ar...   5604590   \n",
       "5028   [Articles lacking sources from August 2010, Al...  12795102   \n",
       "62669  [Articles with short description, Short descri...   5336083   \n",
       "34627  [Articles with a promotional tone from June 20...  31626507   \n",
       "71253  [CS1 maint: url-status, Articles with wikipuff...  61814373   \n",
       "\n",
       "                                                template  bad_img  \\\n",
       "65671  [Template:Short description, Template:Pagetype...    False   \n",
       "5028   [Template:Unreferenced, Template:Ambox, Templa...    False   \n",
       "62669  [Template:Short description, Template:Pagetype...    False   \n",
       "34627  [Template:Multiple issues, Template:Ambox, Tem...    False   \n",
       "71253  [Template:Puffery, Template:Ambox, Template:In...    False   \n",
       "\n",
       "       controversial  contentious  sanctions  objectionable  \n",
       "65671           True         True      False          False  \n",
       "5028            True        False      False          False  \n",
       "62669           True        False      False          False  \n",
       "34627           True        False      False          False  \n",
       "71253           True        False      False          False  \n",
       "\n",
       "[5 rows x 11 columns]"
      ]
     },
     "execution_count": 217,
     "metadata": {},
     "output_type": "execute_result"
    }
   ],
   "source": [
    "df_cont.sample(5)"
   ]
  },
  {
   "cell_type": "code",
   "execution_count": 224,
   "id": "2d4bae52-483b-42b2-bdae-de7a8be8b5f7",
   "metadata": {},
   "outputs": [
    {
     "data": {
      "text/html": [
       "<div>\n",
       "<style scoped>\n",
       "    .dataframe tbody tr th:only-of-type {\n",
       "        vertical-align: middle;\n",
       "    }\n",
       "\n",
       "    .dataframe tbody tr th {\n",
       "        vertical-align: top;\n",
       "    }\n",
       "\n",
       "    .dataframe thead th {\n",
       "        text-align: right;\n",
       "    }\n",
       "</style>\n",
       "<table border=\"1\" class=\"dataframe\">\n",
       "  <thead>\n",
       "    <tr style=\"text-align: right;\">\n",
       "      <th></th>\n",
       "      <th></th>\n",
       "      <th></th>\n",
       "      <th></th>\n",
       "      <th></th>\n",
       "      <th>count</th>\n",
       "    </tr>\n",
       "    <tr>\n",
       "      <th>controversial</th>\n",
       "      <th>contentious</th>\n",
       "      <th>sanctions</th>\n",
       "      <th>objectionable</th>\n",
       "      <th>bad_img</th>\n",
       "      <th></th>\n",
       "    </tr>\n",
       "  </thead>\n",
       "  <tbody>\n",
       "    <tr>\n",
       "      <th>False</th>\n",
       "      <th>False</th>\n",
       "      <th>False</th>\n",
       "      <th>False</th>\n",
       "      <th>True</th>\n",
       "      <td>196</td>\n",
       "    </tr>\n",
       "    <tr>\n",
       "      <th rowspan=\"13\" valign=\"top\">True</th>\n",
       "      <th rowspan=\"6\" valign=\"top\">False</th>\n",
       "      <th rowspan=\"4\" valign=\"top\">False</th>\n",
       "      <th rowspan=\"2\" valign=\"top\">False</th>\n",
       "      <th>False</th>\n",
       "      <td>75530</td>\n",
       "    </tr>\n",
       "    <tr>\n",
       "      <th>True</th>\n",
       "      <td>7</td>\n",
       "    </tr>\n",
       "    <tr>\n",
       "      <th rowspan=\"2\" valign=\"top\">True</th>\n",
       "      <th>False</th>\n",
       "      <td>465</td>\n",
       "    </tr>\n",
       "    <tr>\n",
       "      <th>True</th>\n",
       "      <td>76</td>\n",
       "    </tr>\n",
       "    <tr>\n",
       "      <th rowspan=\"2\" valign=\"top\">True</th>\n",
       "      <th>False</th>\n",
       "      <th>False</th>\n",
       "      <td>790</td>\n",
       "    </tr>\n",
       "    <tr>\n",
       "      <th>True</th>\n",
       "      <th>False</th>\n",
       "      <td>20</td>\n",
       "    </tr>\n",
       "    <tr>\n",
       "      <th rowspan=\"7\" valign=\"top\">True</th>\n",
       "      <th rowspan=\"4\" valign=\"top\">False</th>\n",
       "      <th rowspan=\"2\" valign=\"top\">False</th>\n",
       "      <th>False</th>\n",
       "      <td>8546</td>\n",
       "    </tr>\n",
       "    <tr>\n",
       "      <th>True</th>\n",
       "      <td>1</td>\n",
       "    </tr>\n",
       "    <tr>\n",
       "      <th rowspan=\"2\" valign=\"top\">True</th>\n",
       "      <th>False</th>\n",
       "      <td>21</td>\n",
       "    </tr>\n",
       "    <tr>\n",
       "      <th>True</th>\n",
       "      <td>1</td>\n",
       "    </tr>\n",
       "    <tr>\n",
       "      <th rowspan=\"3\" valign=\"top\">True</th>\n",
       "      <th rowspan=\"2\" valign=\"top\">False</th>\n",
       "      <th>False</th>\n",
       "      <td>85</td>\n",
       "    </tr>\n",
       "    <tr>\n",
       "      <th>True</th>\n",
       "      <td>1</td>\n",
       "    </tr>\n",
       "    <tr>\n",
       "      <th>True</th>\n",
       "      <th>False</th>\n",
       "      <td>1</td>\n",
       "    </tr>\n",
       "  </tbody>\n",
       "</table>\n",
       "<p>14 rows × 1 columns</p>\n",
       "</div>"
      ],
      "text/plain": [
       "                                                           count\n",
       "controversial contentious sanctions objectionable bad_img       \n",
       "False         False       False     False         True       196\n",
       "True          False       False     False         False    75530\n",
       "                                                  True         7\n",
       "                                    True          False      465\n",
       "                                                  True        76\n",
       "                          True      False         False      790\n",
       "                                    True          False       20\n",
       "              True        False     False         False     8546\n",
       "                                                  True         1\n",
       "                                    True          False       21\n",
       "                                                  True         1\n",
       "                          True      False         False       85\n",
       "                                                  True         1\n",
       "                                    True          False        1\n",
       "\n",
       "[14 rows x 1 columns]"
      ]
     },
     "execution_count": 224,
     "metadata": {},
     "output_type": "execute_result"
    }
   ],
   "source": [
    "(\n",
    "    df_cont\n",
    "    .groupby([\"controversial\", \"contentious\", \"sanctions\", \"objectionable\", \"bad_img\"])\n",
    "    .size()\n",
    "    .to_frame(name=\"count\")\n",
    ")"
   ]
  },
  {
   "cell_type": "code",
   "execution_count": 226,
   "id": "777f051b-d1ca-4a64-9440-365dd2bebf31",
   "metadata": {},
   "outputs": [
    {
     "name": "stdout",
     "output_type": "stream",
     "text": [
      "controversial count: 85,544\n",
      "contentious count: 8,656\n",
      "sanctions count: 897\n",
      "objectionable count: 584\n",
      "bad_img count: 282\n"
     ]
    }
   ],
   "source": [
    "for c in [\"controversial\", \"contentious\", \"sanctions\", \"objectionable\", \"bad_img\"]:\n",
    "    print(f\"{c} count: {df_cont[c].sum():,}\")"
   ]
  },
  {
   "cell_type": "markdown",
   "id": "f49389d7-bfc3-493c-8e4b-4359ab616eb9",
   "metadata": {},
   "source": [
    "Writes ~410 MB."
   ]
  },
  {
   "cell_type": "code",
   "execution_count": 227,
   "id": "7b1c1dad-49b8-4011-ae99-f1ffec974bd9",
   "metadata": {},
   "outputs": [],
   "source": [
    "df_cont.to_pickle(CONTROVERSIAL_DF_PKL)"
   ]
  },
  {
   "cell_type": "markdown",
   "id": "1ee68723-5cc8-4334-87c3-fbbb4dfa5405",
   "metadata": {},
   "source": [
    "### Pages about objectionable topics or containing a bad image\n",
    "\n",
    "These pages are candidates for being blocked outright, as many contain graphic sexual or violent content."
   ]
  },
  {
   "cell_type": "code",
   "execution_count": 228,
   "id": "afdd0266-7cdf-496a-8278-0cbd89dbeb98",
   "metadata": {},
   "outputs": [],
   "source": [
    "df_obj = df_cont.query(\"objectionable or bad_img\")"
   ]
  },
  {
   "cell_type": "code",
   "execution_count": 229,
   "id": "9f4bb14c-4e81-4b13-85dd-18695d197b96",
   "metadata": {},
   "outputs": [
    {
     "data": {
      "text/plain": [
       "789"
      ]
     },
     "execution_count": 229,
     "metadata": {},
     "output_type": "execute_result"
    }
   ],
   "source": [
    "len(df_obj)"
   ]
  },
  {
   "cell_type": "markdown",
   "id": "7c84a203-dcae-475d-99b9-f84c6f90b319",
   "metadata": {},
   "source": [
    "Take a look at the top (visible) categories these pages belong to.\n",
    "\n",
    "- Majority are related to sexuality"
   ]
  },
  {
   "cell_type": "code",
   "execution_count": 254,
   "id": "2753d094-e762-40c0-a89c-eaf4fb240b1b",
   "metadata": {},
   "outputs": [],
   "source": [
    "obj_cats = (\n",
    "    df_obj[\"category\"].explode()\n",
    "    .value_counts()\n",
    "    .reset_index(name=\"count\")\n",
    "    .rename(columns={\"index\": \"name\"})\n",
    "    .assign(prop=lambda d: d[\"count\"] / len(df_obj))\n",
    "    .merge(df_cats, on=\"name\", how=\"left\")\n",
    ")"
   ]
  },
  {
   "cell_type": "code",
   "execution_count": 256,
   "id": "b5814b76-ef64-4cb9-b996-35aae9ed1ea9",
   "metadata": {},
   "outputs": [],
   "source": [
    "# All categories are in the full category list\n",
    "assert obj_cats[\"hidden\"].isna().sum() == 0"
   ]
  },
  {
   "cell_type": "markdown",
   "id": "73cc3392-9e6d-4195-bbdf-0421bd4ac3b1",
   "metadata": {},
   "source": [
    "How many unique visible categories are there?"
   ]
  },
  {
   "cell_type": "code",
   "execution_count": 269,
   "id": "72905abc-7e8e-4a03-b829-3d45cb213d2f",
   "metadata": {},
   "outputs": [
    {
     "data": {
      "text/plain": [
       "6157"
      ]
     },
     "execution_count": 269,
     "metadata": {},
     "output_type": "execute_result"
    }
   ],
   "source": [
    "len(obj_cats)"
   ]
  },
  {
   "cell_type": "code",
   "execution_count": 310,
   "id": "77abbfc4-3de3-4ac2-8724-a8f12b3a967f",
   "metadata": {},
   "outputs": [
    {
     "data": {
      "text/html": [
       "<div>\n",
       "<style scoped>\n",
       "    .dataframe tbody tr th:only-of-type {\n",
       "        vertical-align: middle;\n",
       "    }\n",
       "\n",
       "    .dataframe tbody tr th {\n",
       "        vertical-align: top;\n",
       "    }\n",
       "\n",
       "    .dataframe thead th {\n",
       "        text-align: right;\n",
       "    }\n",
       "</style>\n",
       "<table border=\"1\" class=\"dataframe\">\n",
       "  <thead>\n",
       "    <tr style=\"text-align: right;\">\n",
       "      <th></th>\n",
       "      <th>name</th>\n",
       "      <th>count</th>\n",
       "      <th>prop</th>\n",
       "    </tr>\n",
       "  </thead>\n",
       "  <tbody>\n",
       "    <tr>\n",
       "      <th>35</th>\n",
       "      <td>Sexual acts</td>\n",
       "      <td>40</td>\n",
       "      <td>0.050697</td>\n",
       "    </tr>\n",
       "    <tr>\n",
       "      <th>56</th>\n",
       "      <td>Living people</td>\n",
       "      <td>25</td>\n",
       "      <td>0.031686</td>\n",
       "    </tr>\n",
       "    <tr>\n",
       "      <th>77</th>\n",
       "      <td>Sex positions</td>\n",
       "      <td>20</td>\n",
       "      <td>0.025349</td>\n",
       "    </tr>\n",
       "    <tr>\n",
       "      <th>93</th>\n",
       "      <td>English profanity</td>\n",
       "      <td>16</td>\n",
       "      <td>0.020279</td>\n",
       "    </tr>\n",
       "    <tr>\n",
       "      <th>102</th>\n",
       "      <td>English words</td>\n",
       "      <td>14</td>\n",
       "      <td>0.017744</td>\n",
       "    </tr>\n",
       "    <tr>\n",
       "      <th>105</th>\n",
       "      <td>Penis</td>\n",
       "      <td>13</td>\n",
       "      <td>0.016477</td>\n",
       "    </tr>\n",
       "    <tr>\n",
       "      <th>107</th>\n",
       "      <td>Sexual fetishism</td>\n",
       "      <td>13</td>\n",
       "      <td>0.016477</td>\n",
       "    </tr>\n",
       "    <tr>\n",
       "      <th>111</th>\n",
       "      <td>Sexual slang</td>\n",
       "      <td>12</td>\n",
       "      <td>0.015209</td>\n",
       "    </tr>\n",
       "    <tr>\n",
       "      <th>118</th>\n",
       "      <td>Pornography terminology</td>\n",
       "      <td>12</td>\n",
       "      <td>0.015209</td>\n",
       "    </tr>\n",
       "    <tr>\n",
       "      <th>126</th>\n",
       "      <td>Human sexuality</td>\n",
       "      <td>11</td>\n",
       "      <td>0.013942</td>\n",
       "    </tr>\n",
       "    <tr>\n",
       "      <th>129</th>\n",
       "      <td>Censored Eleven</td>\n",
       "      <td>11</td>\n",
       "      <td>0.013942</td>\n",
       "    </tr>\n",
       "    <tr>\n",
       "      <th>130</th>\n",
       "      <td>Paraphilias</td>\n",
       "      <td>11</td>\n",
       "      <td>0.013942</td>\n",
       "    </tr>\n",
       "    <tr>\n",
       "      <th>134</th>\n",
       "      <td>Vulva</td>\n",
       "      <td>10</td>\n",
       "      <td>0.012674</td>\n",
       "    </tr>\n",
       "    <tr>\n",
       "      <th>136</th>\n",
       "      <td>Racially motivated violence against African Americans</td>\n",
       "      <td>10</td>\n",
       "      <td>0.012674</td>\n",
       "    </tr>\n",
       "    <tr>\n",
       "      <th>137</th>\n",
       "      <td>Anal eroticism</td>\n",
       "      <td>10</td>\n",
       "      <td>0.012674</td>\n",
       "    </tr>\n",
       "    <tr>\n",
       "      <th>139</th>\n",
       "      <td>Nudity</td>\n",
       "      <td>10</td>\n",
       "      <td>0.012674</td>\n",
       "    </tr>\n",
       "    <tr>\n",
       "      <th>140</th>\n",
       "      <td>Breast</td>\n",
       "      <td>10</td>\n",
       "      <td>0.012674</td>\n",
       "    </tr>\n",
       "    <tr>\n",
       "      <th>143</th>\n",
       "      <td>Pornography</td>\n",
       "      <td>10</td>\n",
       "      <td>0.012674</td>\n",
       "    </tr>\n",
       "    <tr>\n",
       "      <th>145</th>\n",
       "      <td>Merrie Melodies short films</td>\n",
       "      <td>10</td>\n",
       "      <td>0.012674</td>\n",
       "    </tr>\n",
       "    <tr>\n",
       "      <th>151</th>\n",
       "      <td>Oral eroticism</td>\n",
       "      <td>9</td>\n",
       "      <td>0.011407</td>\n",
       "    </tr>\n",
       "  </tbody>\n",
       "</table>\n",
       "<p>20 rows × 3 columns</p>\n",
       "</div>"
      ],
      "text/plain": [
       "                                                      name  count      prop\n",
       "35                                             Sexual acts     40  0.050697\n",
       "56                                           Living people     25  0.031686\n",
       "77                                           Sex positions     20  0.025349\n",
       "93                                       English profanity     16  0.020279\n",
       "102                                          English words     14  0.017744\n",
       "105                                                  Penis     13  0.016477\n",
       "107                                       Sexual fetishism     13  0.016477\n",
       "111                                           Sexual slang     12  0.015209\n",
       "118                                Pornography terminology     12  0.015209\n",
       "126                                        Human sexuality     11  0.013942\n",
       "129                                        Censored Eleven     11  0.013942\n",
       "130                                            Paraphilias     11  0.013942\n",
       "134                                                  Vulva     10  0.012674\n",
       "136  Racially motivated violence against African Americans     10  0.012674\n",
       "137                                         Anal eroticism     10  0.012674\n",
       "139                                                 Nudity     10  0.012674\n",
       "140                                                 Breast     10  0.012674\n",
       "143                                            Pornography     10  0.012674\n",
       "145                            Merrie Melodies short films     10  0.012674\n",
       "151                                         Oral eroticism      9  0.011407\n",
       "\n",
       "[20 rows x 3 columns]"
      ]
     },
     "metadata": {},
     "output_type": "display_data"
    }
   ],
   "source": [
    "display_pd(obj_cats.query(\"~hidden\")[[\"name\", \"count\", \"prop\"]].head(20))"
   ]
  },
  {
   "cell_type": "markdown",
   "id": "03886d6d-d03c-4537-83a0-f32b93ce34bd",
   "metadata": {},
   "source": [
    "For all these categories, find the visible parent categories they belong to.\n",
    "Look at that distribution for a higher-level view.\n",
    "\n",
    "- Along with sexuality, we see some categories related to political ideology and violence."
   ]
  },
  {
   "cell_type": "code",
   "execution_count": 276,
   "id": "591648a3-9951-4c88-b8d3-388649b12d5d",
   "metadata": {},
   "outputs": [
    {
     "data": {
      "text/html": [
       "<div>\n",
       "<style scoped>\n",
       "    .dataframe tbody tr th:only-of-type {\n",
       "        vertical-align: middle;\n",
       "    }\n",
       "\n",
       "    .dataframe tbody tr th {\n",
       "        vertical-align: top;\n",
       "    }\n",
       "\n",
       "    .dataframe thead th {\n",
       "        text-align: right;\n",
       "    }\n",
       "</style>\n",
       "<table border=\"1\" class=\"dataframe\">\n",
       "  <thead>\n",
       "    <tr style=\"text-align: right;\">\n",
       "      <th></th>\n",
       "      <th>name</th>\n",
       "      <th>count</th>\n",
       "      <th>prop</th>\n",
       "    </tr>\n",
       "  </thead>\n",
       "  <tbody>\n",
       "    <tr>\n",
       "      <th>0</th>\n",
       "      <td>Articles with authority control information</td>\n",
       "      <td>62</td>\n",
       "      <td>0.078580</td>\n",
       "    </tr>\n",
       "    <tr>\n",
       "      <th>1</th>\n",
       "      <td>Births by year</td>\n",
       "      <td>58</td>\n",
       "      <td>0.073511</td>\n",
       "    </tr>\n",
       "    <tr>\n",
       "      <th>2</th>\n",
       "      <td>Stub categories</td>\n",
       "      <td>44</td>\n",
       "      <td>0.055767</td>\n",
       "    </tr>\n",
       "    <tr>\n",
       "      <th>3</th>\n",
       "      <td>Deaths by year</td>\n",
       "      <td>42</td>\n",
       "      <td>0.053232</td>\n",
       "    </tr>\n",
       "    <tr>\n",
       "      <th>4</th>\n",
       "      <td>Human sexuality</td>\n",
       "      <td>26</td>\n",
       "      <td>0.032953</td>\n",
       "    </tr>\n",
       "    <tr>\n",
       "      <th>5</th>\n",
       "      <td>Organizations designated as terrorist by designator</td>\n",
       "      <td>24</td>\n",
       "      <td>0.030418</td>\n",
       "    </tr>\n",
       "    <tr>\n",
       "      <th>6</th>\n",
       "      <td>Sexuality and society</td>\n",
       "      <td>23</td>\n",
       "      <td>0.029151</td>\n",
       "    </tr>\n",
       "    <tr>\n",
       "      <th>7</th>\n",
       "      <td>Films by year</td>\n",
       "      <td>22</td>\n",
       "      <td>0.027883</td>\n",
       "    </tr>\n",
       "    <tr>\n",
       "      <th>8</th>\n",
       "      <td>Songs by songwriter</td>\n",
       "      <td>21</td>\n",
       "      <td>0.026616</td>\n",
       "    </tr>\n",
       "    <tr>\n",
       "      <th>9</th>\n",
       "      <td>Songs by artist</td>\n",
       "      <td>17</td>\n",
       "      <td>0.021546</td>\n",
       "    </tr>\n",
       "    <tr>\n",
       "      <th>10</th>\n",
       "      <td>Sexual ethics</td>\n",
       "      <td>16</td>\n",
       "      <td>0.020279</td>\n",
       "    </tr>\n",
       "    <tr>\n",
       "      <th>11</th>\n",
       "      <td>Philosophers by field</td>\n",
       "      <td>15</td>\n",
       "      <td>0.019011</td>\n",
       "    </tr>\n",
       "    <tr>\n",
       "      <th>12</th>\n",
       "      <td>Albums by artist</td>\n",
       "      <td>15</td>\n",
       "      <td>0.019011</td>\n",
       "    </tr>\n",
       "    <tr>\n",
       "      <th>13</th>\n",
       "      <td>Political ideologies</td>\n",
       "      <td>14</td>\n",
       "      <td>0.017744</td>\n",
       "    </tr>\n",
       "    <tr>\n",
       "      <th>14</th>\n",
       "      <td>Obscenity controversies</td>\n",
       "      <td>13</td>\n",
       "      <td>0.016477</td>\n",
       "    </tr>\n",
       "    <tr>\n",
       "      <th>15</th>\n",
       "      <td>Human rights abuses</td>\n",
       "      <td>13</td>\n",
       "      <td>0.016477</td>\n",
       "    </tr>\n",
       "    <tr>\n",
       "      <th>16</th>\n",
       "      <td>Mass murder by year</td>\n",
       "      <td>12</td>\n",
       "      <td>0.015209</td>\n",
       "    </tr>\n",
       "    <tr>\n",
       "      <th>17</th>\n",
       "      <td>Crimes</td>\n",
       "      <td>12</td>\n",
       "      <td>0.015209</td>\n",
       "    </tr>\n",
       "    <tr>\n",
       "      <th>18</th>\n",
       "      <td>Human reproduction</td>\n",
       "      <td>12</td>\n",
       "      <td>0.015209</td>\n",
       "    </tr>\n",
       "    <tr>\n",
       "      <th>19</th>\n",
       "      <td>Songs by year</td>\n",
       "      <td>12</td>\n",
       "      <td>0.015209</td>\n",
       "    </tr>\n",
       "    <tr>\n",
       "      <th>20</th>\n",
       "      <td>Number-one singles</td>\n",
       "      <td>11</td>\n",
       "      <td>0.013942</td>\n",
       "    </tr>\n",
       "    <tr>\n",
       "      <th>21</th>\n",
       "      <td>Sexual acts</td>\n",
       "      <td>11</td>\n",
       "      <td>0.013942</td>\n",
       "    </tr>\n",
       "    <tr>\n",
       "      <th>22</th>\n",
       "      <td>Subcultures</td>\n",
       "      <td>11</td>\n",
       "      <td>0.013942</td>\n",
       "    </tr>\n",
       "    <tr>\n",
       "      <th>23</th>\n",
       "      <td>Anti-national sentiment</td>\n",
       "      <td>11</td>\n",
       "      <td>0.013942</td>\n",
       "    </tr>\n",
       "    <tr>\n",
       "      <th>24</th>\n",
       "      <td>Medical specialties</td>\n",
       "      <td>10</td>\n",
       "      <td>0.012674</td>\n",
       "    </tr>\n",
       "    <tr>\n",
       "      <th>25</th>\n",
       "      <td>Albums by year</td>\n",
       "      <td>10</td>\n",
       "      <td>0.012674</td>\n",
       "    </tr>\n",
       "    <tr>\n",
       "      <th>26</th>\n",
       "      <td>Internet properties by year of establishment</td>\n",
       "      <td>10</td>\n",
       "      <td>0.012674</td>\n",
       "    </tr>\n",
       "    <tr>\n",
       "      <th>27</th>\n",
       "      <td>Albums by record label</td>\n",
       "      <td>10</td>\n",
       "      <td>0.012674</td>\n",
       "    </tr>\n",
       "    <tr>\n",
       "      <th>28</th>\n",
       "      <td>Books by publisher</td>\n",
       "      <td>10</td>\n",
       "      <td>0.012674</td>\n",
       "    </tr>\n",
       "    <tr>\n",
       "      <th>29</th>\n",
       "      <td>Films by director</td>\n",
       "      <td>10</td>\n",
       "      <td>0.012674</td>\n",
       "    </tr>\n",
       "  </tbody>\n",
       "</table>\n",
       "<p>30 rows × 3 columns</p>\n",
       "</div>"
      ],
      "text/plain": [
       "                                                   name  count      prop\n",
       "0           Articles with authority control information     62  0.078580\n",
       "1                                        Births by year     58  0.073511\n",
       "2                                       Stub categories     44  0.055767\n",
       "3                                        Deaths by year     42  0.053232\n",
       "4                                       Human sexuality     26  0.032953\n",
       "5   Organizations designated as terrorist by designator     24  0.030418\n",
       "6                                 Sexuality and society     23  0.029151\n",
       "7                                         Films by year     22  0.027883\n",
       "8                                   Songs by songwriter     21  0.026616\n",
       "9                                       Songs by artist     17  0.021546\n",
       "10                                        Sexual ethics     16  0.020279\n",
       "11                                Philosophers by field     15  0.019011\n",
       "12                                     Albums by artist     15  0.019011\n",
       "13                                 Political ideologies     14  0.017744\n",
       "14                              Obscenity controversies     13  0.016477\n",
       "15                                  Human rights abuses     13  0.016477\n",
       "16                                  Mass murder by year     12  0.015209\n",
       "17                                               Crimes     12  0.015209\n",
       "18                                   Human reproduction     12  0.015209\n",
       "19                                        Songs by year     12  0.015209\n",
       "20                                   Number-one singles     11  0.013942\n",
       "21                                          Sexual acts     11  0.013942\n",
       "22                                          Subcultures     11  0.013942\n",
       "23                              Anti-national sentiment     11  0.013942\n",
       "24                                  Medical specialties     10  0.012674\n",
       "25                                       Albums by year     10  0.012674\n",
       "26         Internet properties by year of establishment     10  0.012674\n",
       "27                               Albums by record label     10  0.012674\n",
       "28                                   Books by publisher     10  0.012674\n",
       "29                                    Films by director     10  0.012674\n",
       "\n",
       "[30 rows x 3 columns]"
      ]
     },
     "metadata": {},
     "output_type": "display_data"
    }
   ],
   "source": [
    "display_pd(\n",
    "    obj_cats[\"parents_visible\"].explode()\n",
    "    .value_counts()\n",
    "    .reset_index(name=\"count\")\n",
    "    .rename(columns={\"index\": \"name\"})\n",
    "    .assign(prop=lambda d: d[\"count\"] / len(df_obj))\n",
    "    .head(30)\n",
    ")"
   ]
  },
  {
   "cell_type": "markdown",
   "id": "435275e2-24cc-4712-9165-bde56a56a493",
   "metadata": {},
   "source": [
    "What does the distribution of templates look like?\n",
    "\n",
    "- Looking across the full list of templates, these look less informative in helping us identify objectionable content."
   ]
  },
  {
   "cell_type": "code",
   "execution_count": 312,
   "id": "2c818a32-13f2-4764-9af2-980c57ac74fe",
   "metadata": {},
   "outputs": [
    {
     "data": {
      "text/plain": [
       "3399"
      ]
     },
     "execution_count": 312,
     "metadata": {},
     "output_type": "execute_result"
    }
   ],
   "source": [
    "df_obj[\"template\"].explode().nunique()"
   ]
  },
  {
   "cell_type": "code",
   "execution_count": 311,
   "id": "f29b18be-7ae1-41ee-b80e-dff2280e023d",
   "metadata": {},
   "outputs": [
    {
     "data": {
      "text/html": [
       "<div>\n",
       "<style scoped>\n",
       "    .dataframe tbody tr th:only-of-type {\n",
       "        vertical-align: middle;\n",
       "    }\n",
       "\n",
       "    .dataframe tbody tr th {\n",
       "        vertical-align: top;\n",
       "    }\n",
       "\n",
       "    .dataframe thead th {\n",
       "        text-align: right;\n",
       "    }\n",
       "</style>\n",
       "<table border=\"1\" class=\"dataframe\">\n",
       "  <thead>\n",
       "    <tr style=\"text-align: right;\">\n",
       "      <th></th>\n",
       "      <th>name</th>\n",
       "      <th>count</th>\n",
       "      <th>prop</th>\n",
       "    </tr>\n",
       "  </thead>\n",
       "  <tbody>\n",
       "    <tr>\n",
       "      <th>0</th>\n",
       "      <td>Template:Main other</td>\n",
       "      <td>788</td>\n",
       "      <td>0.998733</td>\n",
       "    </tr>\n",
       "    <tr>\n",
       "      <th>1</th>\n",
       "      <td>Template:Reflist/styles.css</td>\n",
       "      <td>762</td>\n",
       "      <td>0.965779</td>\n",
       "    </tr>\n",
       "    <tr>\n",
       "      <th>2</th>\n",
       "      <td>Template:Reflist</td>\n",
       "      <td>762</td>\n",
       "      <td>0.965779</td>\n",
       "    </tr>\n",
       "    <tr>\n",
       "      <th>3</th>\n",
       "      <td>Template:Short description</td>\n",
       "      <td>715</td>\n",
       "      <td>0.906210</td>\n",
       "    </tr>\n",
       "    <tr>\n",
       "      <th>4</th>\n",
       "      <td>Template:Short description/lowercasecheck</td>\n",
       "      <td>715</td>\n",
       "      <td>0.906210</td>\n",
       "    </tr>\n",
       "    <tr>\n",
       "      <th>5</th>\n",
       "      <td>Template:SDcat</td>\n",
       "      <td>715</td>\n",
       "      <td>0.906210</td>\n",
       "    </tr>\n",
       "    <tr>\n",
       "      <th>6</th>\n",
       "      <td>Template:Pagetype</td>\n",
       "      <td>710</td>\n",
       "      <td>0.899873</td>\n",
       "    </tr>\n",
       "    <tr>\n",
       "      <th>7</th>\n",
       "      <td>Template:Cite web</td>\n",
       "      <td>675</td>\n",
       "      <td>0.855513</td>\n",
       "    </tr>\n",
       "    <tr>\n",
       "      <th>8</th>\n",
       "      <td>Template:Hlist/styles.css</td>\n",
       "      <td>658</td>\n",
       "      <td>0.833967</td>\n",
       "    </tr>\n",
       "    <tr>\n",
       "      <th>9</th>\n",
       "      <td>Template:Navbox</td>\n",
       "      <td>571</td>\n",
       "      <td>0.723701</td>\n",
       "    </tr>\n",
       "    <tr>\n",
       "      <th>10</th>\n",
       "      <td>Template:Cite book</td>\n",
       "      <td>551</td>\n",
       "      <td>0.698352</td>\n",
       "    </tr>\n",
       "    <tr>\n",
       "      <th>11</th>\n",
       "      <td>Template:Cite news</td>\n",
       "      <td>492</td>\n",
       "      <td>0.623574</td>\n",
       "    </tr>\n",
       "    <tr>\n",
       "      <th>12</th>\n",
       "      <td>Template:Category handler</td>\n",
       "      <td>468</td>\n",
       "      <td>0.593156</td>\n",
       "    </tr>\n",
       "    <tr>\n",
       "      <th>13</th>\n",
       "      <td>Template:Plainlist/styles.css</td>\n",
       "      <td>447</td>\n",
       "      <td>0.566540</td>\n",
       "    </tr>\n",
       "    <tr>\n",
       "      <th>14</th>\n",
       "      <td>Template:Cite journal</td>\n",
       "      <td>438</td>\n",
       "      <td>0.555133</td>\n",
       "    </tr>\n",
       "    <tr>\n",
       "      <th>15</th>\n",
       "      <td>Template:Delink</td>\n",
       "      <td>427</td>\n",
       "      <td>0.541191</td>\n",
       "    </tr>\n",
       "    <tr>\n",
       "      <th>16</th>\n",
       "      <td>Template:Fix/category</td>\n",
       "      <td>402</td>\n",
       "      <td>0.509506</td>\n",
       "    </tr>\n",
       "    <tr>\n",
       "      <th>17</th>\n",
       "      <td>Template:Dated maintenance category</td>\n",
       "      <td>398</td>\n",
       "      <td>0.504436</td>\n",
       "    </tr>\n",
       "    <tr>\n",
       "      <th>18</th>\n",
       "      <td>Template:DMCA</td>\n",
       "      <td>398</td>\n",
       "      <td>0.504436</td>\n",
       "    </tr>\n",
       "    <tr>\n",
       "      <th>19</th>\n",
       "      <td>Template:FULLROOTPAGENAME</td>\n",
       "      <td>398</td>\n",
       "      <td>0.504436</td>\n",
       "    </tr>\n",
       "  </tbody>\n",
       "</table>\n",
       "<p>20 rows × 3 columns</p>\n",
       "</div>"
      ],
      "text/plain": [
       "                                         name  count      prop\n",
       "0                         Template:Main other    788  0.998733\n",
       "1                 Template:Reflist/styles.css    762  0.965779\n",
       "2                            Template:Reflist    762  0.965779\n",
       "3                  Template:Short description    715  0.906210\n",
       "4   Template:Short description/lowercasecheck    715  0.906210\n",
       "5                              Template:SDcat    715  0.906210\n",
       "6                           Template:Pagetype    710  0.899873\n",
       "7                           Template:Cite web    675  0.855513\n",
       "8                   Template:Hlist/styles.css    658  0.833967\n",
       "9                             Template:Navbox    571  0.723701\n",
       "10                         Template:Cite book    551  0.698352\n",
       "11                         Template:Cite news    492  0.623574\n",
       "12                  Template:Category handler    468  0.593156\n",
       "13              Template:Plainlist/styles.css    447  0.566540\n",
       "14                      Template:Cite journal    438  0.555133\n",
       "15                            Template:Delink    427  0.541191\n",
       "16                      Template:Fix/category    402  0.509506\n",
       "17        Template:Dated maintenance category    398  0.504436\n",
       "18                              Template:DMCA    398  0.504436\n",
       "19                  Template:FULLROOTPAGENAME    398  0.504436\n",
       "\n",
       "[20 rows x 3 columns]"
      ]
     },
     "metadata": {},
     "output_type": "display_data"
    }
   ],
   "source": [
    "display_pd(\n",
    "    df_obj[\"template\"].explode()\n",
    "    .value_counts()\n",
    "    .reset_index(name=\"count\")\n",
    "    .rename(columns={\"index\": \"name\"})\n",
    "    .assign(prop=lambda d: d[\"count\"] / len(df_obj))\n",
    "    .head(20)\n",
    ")"
   ]
  },
  {
   "cell_type": "markdown",
   "id": "6aa8115d-c1b4-42e8-b058-cc02fe9d013c",
   "metadata": {},
   "source": [
    "### Pages about contentious topics\n",
    "\n",
    "These pages are subject to disruptive editing and stricter editorial rules or restrictions.\n",
    "\n",
    "- The set of topics is broad, making it difficult to select representative categories."
   ]
  },
  {
   "cell_type": "code",
   "execution_count": 262,
   "id": "9ff63a7a-4084-49a0-8683-a84565a99f01",
   "metadata": {},
   "outputs": [],
   "source": [
    "df_contentious = df_cont.query(\"contentious\")"
   ]
  },
  {
   "cell_type": "code",
   "execution_count": 263,
   "id": "4885ed88-19d3-4f7e-915f-f3d065fb7329",
   "metadata": {},
   "outputs": [
    {
     "data": {
      "text/plain": [
       "8656"
      ]
     },
     "execution_count": 263,
     "metadata": {},
     "output_type": "execute_result"
    }
   ],
   "source": [
    "len(df_contentious)"
   ]
  },
  {
   "cell_type": "markdown",
   "id": "62056c8b-2b8c-41d3-a791-12f5cd5e710f",
   "metadata": {},
   "source": [
    "Take a look at the top (visible) categories these pages belong to."
   ]
  },
  {
   "cell_type": "code",
   "execution_count": 264,
   "id": "6f17772f-b58d-48d5-9123-9a2173eb16d6",
   "metadata": {},
   "outputs": [],
   "source": [
    "contentious_cats = (\n",
    "    df_contentious[\"category\"].explode()\n",
    "    .value_counts()\n",
    "    .reset_index(name=\"count\")\n",
    "    .rename(columns={\"index\": \"name\"})\n",
    "    .assign(prop=lambda d: d[\"count\"] / len(df_obj))\n",
    "    .merge(df_cats, on=\"name\", how=\"left\")\n",
    ")"
   ]
  },
  {
   "cell_type": "code",
   "execution_count": 270,
   "id": "a2989044-9a1f-42e2-ae99-b5ad6cf76e3a",
   "metadata": {},
   "outputs": [
    {
     "data": {
      "text/plain": [
       "41064"
      ]
     },
     "execution_count": 270,
     "metadata": {},
     "output_type": "execute_result"
    }
   ],
   "source": [
    "len(contentious_cats)"
   ]
  },
  {
   "cell_type": "markdown",
   "id": "6338d2a6-753e-4e89-8528-677eeccb3c8c",
   "metadata": {},
   "source": [
    "There are a few categories not appearing in the full category list. Just consider these to be visible categories."
   ]
  },
  {
   "cell_type": "code",
   "execution_count": 271,
   "id": "80b42ff4-c380-4931-9049-1dd74337ce85",
   "metadata": {},
   "outputs": [
    {
     "name": "stdout",
     "output_type": "stream",
     "text": [
      "Unknown category: 15\n"
     ]
    }
   ],
   "source": [
    "print(f\"Unknown category: {contentious_cats['hidden'].isna().sum()}\")"
   ]
  },
  {
   "cell_type": "code",
   "execution_count": null,
   "id": "12dd30ab-a95d-4cc8-8234-1bdb186346ec",
   "metadata": {},
   "outputs": [],
   "source": [
    "# contentious_cats.query(\"hidden.isna()\")[[\"name\", \"count\"]]"
   ]
  },
  {
   "cell_type": "code",
   "execution_count": 272,
   "id": "5c1f12a5-83f0-466a-9225-9eed406e3cc2",
   "metadata": {},
   "outputs": [],
   "source": [
    "contentious_cats[\"hidden\"] = contentious_cats[\"hidden\"].fillna(False).astype(bool)"
   ]
  },
  {
   "cell_type": "markdown",
   "id": "a7f611e3-0bcc-44c2-b6b9-126138c9b320",
   "metadata": {},
   "source": [
    "Topics that emerge are:\n",
    "    \n",
    "- Conflicts, especially in the Middle East\n",
    "- COVID-19\n",
    "- Influential figures, such as politicians & writers\n",
    "- Members of the LGBTQ community"
   ]
  },
  {
   "cell_type": "code",
   "execution_count": 314,
   "id": "e6038dde-6445-470a-a432-19a721b513c1",
   "metadata": {},
   "outputs": [
    {
     "data": {
      "text/html": [
       "<div>\n",
       "<style scoped>\n",
       "    .dataframe tbody tr th:only-of-type {\n",
       "        vertical-align: middle;\n",
       "    }\n",
       "\n",
       "    .dataframe tbody tr th {\n",
       "        vertical-align: top;\n",
       "    }\n",
       "\n",
       "    .dataframe thead th {\n",
       "        text-align: right;\n",
       "    }\n",
       "</style>\n",
       "<table border=\"1\" class=\"dataframe\">\n",
       "  <thead>\n",
       "    <tr style=\"text-align: right;\">\n",
       "      <th></th>\n",
       "      <th>name</th>\n",
       "      <th>count</th>\n",
       "      <th>prop</th>\n",
       "    </tr>\n",
       "  </thead>\n",
       "  <tbody>\n",
       "    <tr>\n",
       "      <th>9</th>\n",
       "      <td>Living people</td>\n",
       "      <td>1616</td>\n",
       "      <td>2.048162</td>\n",
       "    </tr>\n",
       "    <tr>\n",
       "      <th>45</th>\n",
       "      <td>Municipalities of the State of Palestine</td>\n",
       "      <td>377</td>\n",
       "      <td>0.477820</td>\n",
       "    </tr>\n",
       "    <tr>\n",
       "      <th>47</th>\n",
       "      <td>Arab villages depopulated during the 1948 Arab–Israeli War</td>\n",
       "      <td>342</td>\n",
       "      <td>0.433460</td>\n",
       "    </tr>\n",
       "    <tr>\n",
       "      <th>56</th>\n",
       "      <td>Villages in the West Bank</td>\n",
       "      <td>278</td>\n",
       "      <td>0.352345</td>\n",
       "    </tr>\n",
       "    <tr>\n",
       "      <th>71</th>\n",
       "      <td>COVID-19 pandemic by country</td>\n",
       "      <td>213</td>\n",
       "      <td>0.269962</td>\n",
       "    </tr>\n",
       "    <tr>\n",
       "      <th>72</th>\n",
       "      <td>Transgender women</td>\n",
       "      <td>213</td>\n",
       "      <td>0.269962</td>\n",
       "    </tr>\n",
       "    <tr>\n",
       "      <th>78</th>\n",
       "      <td>21st-century American politicians</td>\n",
       "      <td>197</td>\n",
       "      <td>0.249683</td>\n",
       "    </tr>\n",
       "    <tr>\n",
       "      <th>93</th>\n",
       "      <td>21st-century LGBT people</td>\n",
       "      <td>164</td>\n",
       "      <td>0.207858</td>\n",
       "    </tr>\n",
       "    <tr>\n",
       "      <th>126</th>\n",
       "      <td>Israeli settlements in the West Bank</td>\n",
       "      <td>100</td>\n",
       "      <td>0.126743</td>\n",
       "    </tr>\n",
       "    <tr>\n",
       "      <th>138</th>\n",
       "      <td>American conspiracy theorists</td>\n",
       "      <td>95</td>\n",
       "      <td>0.120406</td>\n",
       "    </tr>\n",
       "    <tr>\n",
       "      <th>142</th>\n",
       "      <td>Transgender writers</td>\n",
       "      <td>91</td>\n",
       "      <td>0.115336</td>\n",
       "    </tr>\n",
       "    <tr>\n",
       "      <th>150</th>\n",
       "      <td>Transgender rights activists</td>\n",
       "      <td>87</td>\n",
       "      <td>0.110266</td>\n",
       "    </tr>\n",
       "    <tr>\n",
       "      <th>151</th>\n",
       "      <td>Palestinian terrorism</td>\n",
       "      <td>87</td>\n",
       "      <td>0.110266</td>\n",
       "    </tr>\n",
       "    <tr>\n",
       "      <th>153</th>\n",
       "      <td>21st-century American non-fiction writers</td>\n",
       "      <td>87</td>\n",
       "      <td>0.110266</td>\n",
       "    </tr>\n",
       "    <tr>\n",
       "      <th>161</th>\n",
       "      <td>American LGBT rights activists</td>\n",
       "      <td>82</td>\n",
       "      <td>0.103929</td>\n",
       "    </tr>\n",
       "    <tr>\n",
       "      <th>162</th>\n",
       "      <td>21st-century American Jews</td>\n",
       "      <td>82</td>\n",
       "      <td>0.103929</td>\n",
       "    </tr>\n",
       "    <tr>\n",
       "      <th>164</th>\n",
       "      <td>Arab localities in Israel</td>\n",
       "      <td>82</td>\n",
       "      <td>0.103929</td>\n",
       "    </tr>\n",
       "    <tr>\n",
       "      <th>166</th>\n",
       "      <td>American male non-fiction writers</td>\n",
       "      <td>81</td>\n",
       "      <td>0.102662</td>\n",
       "    </tr>\n",
       "    <tr>\n",
       "      <th>169</th>\n",
       "      <td>Ramallah and al-Bireh Governorate</td>\n",
       "      <td>80</td>\n",
       "      <td>0.101394</td>\n",
       "    </tr>\n",
       "    <tr>\n",
       "      <th>170</th>\n",
       "      <td>Race and intelligence controversy</td>\n",
       "      <td>80</td>\n",
       "      <td>0.101394</td>\n",
       "    </tr>\n",
       "  </tbody>\n",
       "</table>\n",
       "<p>20 rows × 3 columns</p>\n",
       "</div>"
      ],
      "text/plain": [
       "                                                           name  count  \\\n",
       "9                                                 Living people   1616   \n",
       "45                     Municipalities of the State of Palestine    377   \n",
       "47   Arab villages depopulated during the 1948 Arab–Israeli War    342   \n",
       "56                                    Villages in the West Bank    278   \n",
       "71                                 COVID-19 pandemic by country    213   \n",
       "72                                            Transgender women    213   \n",
       "78                            21st-century American politicians    197   \n",
       "93                                     21st-century LGBT people    164   \n",
       "126                        Israeli settlements in the West Bank    100   \n",
       "138                               American conspiracy theorists     95   \n",
       "142                                         Transgender writers     91   \n",
       "150                                Transgender rights activists     87   \n",
       "151                                       Palestinian terrorism     87   \n",
       "153                   21st-century American non-fiction writers     87   \n",
       "161                              American LGBT rights activists     82   \n",
       "162                                  21st-century American Jews     82   \n",
       "164                                   Arab localities in Israel     82   \n",
       "166                           American male non-fiction writers     81   \n",
       "169                           Ramallah and al-Bireh Governorate     80   \n",
       "170                           Race and intelligence controversy     80   \n",
       "\n",
       "         prop  \n",
       "9    2.048162  \n",
       "45   0.477820  \n",
       "47   0.433460  \n",
       "56   0.352345  \n",
       "71   0.269962  \n",
       "72   0.269962  \n",
       "78   0.249683  \n",
       "93   0.207858  \n",
       "126  0.126743  \n",
       "138  0.120406  \n",
       "142  0.115336  \n",
       "150  0.110266  \n",
       "151  0.110266  \n",
       "153  0.110266  \n",
       "161  0.103929  \n",
       "162  0.103929  \n",
       "164  0.103929  \n",
       "166  0.102662  \n",
       "169  0.101394  \n",
       "170  0.101394  \n",
       "\n",
       "[20 rows x 3 columns]"
      ]
     },
     "metadata": {},
     "output_type": "display_data"
    }
   ],
   "source": [
    "display_pd(contentious_cats.query(\"~hidden\")[[\"name\", \"count\", \"prop\"]].head(20))"
   ]
  },
  {
   "cell_type": "markdown",
   "id": "cc128d17-c30f-4be1-ad4b-7068da5d70b6",
   "metadata": {},
   "source": [
    "For all these categories, find the visible parent categories they belong to.\n",
    "Look at that distribution for a higher-level view."
   ]
  },
  {
   "cell_type": "code",
   "execution_count": 278,
   "id": "26149607-17f6-4a5e-ba5b-c83765cacac8",
   "metadata": {},
   "outputs": [
    {
     "data": {
      "text/html": [
       "<div>\n",
       "<style scoped>\n",
       "    .dataframe tbody tr th:only-of-type {\n",
       "        vertical-align: middle;\n",
       "    }\n",
       "\n",
       "    .dataframe tbody tr th {\n",
       "        vertical-align: top;\n",
       "    }\n",
       "\n",
       "    .dataframe thead th {\n",
       "        text-align: right;\n",
       "    }\n",
       "</style>\n",
       "<table border=\"1\" class=\"dataframe\">\n",
       "  <thead>\n",
       "    <tr style=\"text-align: right;\">\n",
       "      <th></th>\n",
       "      <th>name</th>\n",
       "      <th>count</th>\n",
       "      <th>prop</th>\n",
       "    </tr>\n",
       "  </thead>\n",
       "  <tbody>\n",
       "    <tr>\n",
       "      <th>0</th>\n",
       "      <td>Stub categories</td>\n",
       "      <td>267</td>\n",
       "      <td>0.338403</td>\n",
       "    </tr>\n",
       "    <tr>\n",
       "      <th>1</th>\n",
       "      <td>2020 by country</td>\n",
       "      <td>242</td>\n",
       "      <td>0.306717</td>\n",
       "    </tr>\n",
       "    <tr>\n",
       "      <th>2</th>\n",
       "      <td>2021 by country</td>\n",
       "      <td>235</td>\n",
       "      <td>0.297845</td>\n",
       "    </tr>\n",
       "    <tr>\n",
       "      <th>3</th>\n",
       "      <td>Treaties by country</td>\n",
       "      <td>199</td>\n",
       "      <td>0.252218</td>\n",
       "    </tr>\n",
       "    <tr>\n",
       "      <th>4</th>\n",
       "      <td>Births by year</td>\n",
       "      <td>194</td>\n",
       "      <td>0.245881</td>\n",
       "    </tr>\n",
       "    <tr>\n",
       "      <th>5</th>\n",
       "      <td>COVID-19 pandemic by country</td>\n",
       "      <td>189</td>\n",
       "      <td>0.239544</td>\n",
       "    </tr>\n",
       "    <tr>\n",
       "      <th>6</th>\n",
       "      <td>Disease outbreaks by country</td>\n",
       "      <td>160</td>\n",
       "      <td>0.202788</td>\n",
       "    </tr>\n",
       "    <tr>\n",
       "      <th>7</th>\n",
       "      <td>Deaths by year</td>\n",
       "      <td>149</td>\n",
       "      <td>0.188847</td>\n",
       "    </tr>\n",
       "    <tr>\n",
       "      <th>8</th>\n",
       "      <td>Wars by country</td>\n",
       "      <td>88</td>\n",
       "      <td>0.111534</td>\n",
       "    </tr>\n",
       "    <tr>\n",
       "      <th>9</th>\n",
       "      <td>2022 by country</td>\n",
       "      <td>88</td>\n",
       "      <td>0.111534</td>\n",
       "    </tr>\n",
       "    <tr>\n",
       "      <th>10</th>\n",
       "      <td>Articles with authority control information</td>\n",
       "      <td>81</td>\n",
       "      <td>0.102662</td>\n",
       "    </tr>\n",
       "    <tr>\n",
       "      <th>11</th>\n",
       "      <td>People by city or town in England</td>\n",
       "      <td>79</td>\n",
       "      <td>0.100127</td>\n",
       "    </tr>\n",
       "    <tr>\n",
       "      <th>12</th>\n",
       "      <td>Populated places by year of establishment</td>\n",
       "      <td>78</td>\n",
       "      <td>0.098859</td>\n",
       "    </tr>\n",
       "    <tr>\n",
       "      <th>13</th>\n",
       "      <td>Organizations by year of establishment</td>\n",
       "      <td>74</td>\n",
       "      <td>0.093790</td>\n",
       "    </tr>\n",
       "    <tr>\n",
       "      <th>14</th>\n",
       "      <td>2020 in Europe</td>\n",
       "      <td>67</td>\n",
       "      <td>0.084918</td>\n",
       "    </tr>\n",
       "    <tr>\n",
       "      <th>15</th>\n",
       "      <td>2021 in Europe</td>\n",
       "      <td>66</td>\n",
       "      <td>0.083650</td>\n",
       "    </tr>\n",
       "    <tr>\n",
       "      <th>16</th>\n",
       "      <td>Mass murder by year</td>\n",
       "      <td>64</td>\n",
       "      <td>0.081115</td>\n",
       "    </tr>\n",
       "    <tr>\n",
       "      <th>17</th>\n",
       "      <td>2020 disasters by country</td>\n",
       "      <td>63</td>\n",
       "      <td>0.079848</td>\n",
       "    </tr>\n",
       "    <tr>\n",
       "      <th>18</th>\n",
       "      <td>2021 disasters by country</td>\n",
       "      <td>62</td>\n",
       "      <td>0.078580</td>\n",
       "    </tr>\n",
       "    <tr>\n",
       "      <th>19</th>\n",
       "      <td>American writers by city</td>\n",
       "      <td>61</td>\n",
       "      <td>0.077313</td>\n",
       "    </tr>\n",
       "    <tr>\n",
       "      <th>20</th>\n",
       "      <td>Alumni by law school in the United States</td>\n",
       "      <td>60</td>\n",
       "      <td>0.076046</td>\n",
       "    </tr>\n",
       "    <tr>\n",
       "      <th>21</th>\n",
       "      <td>People by company in the United States</td>\n",
       "      <td>57</td>\n",
       "      <td>0.072243</td>\n",
       "    </tr>\n",
       "    <tr>\n",
       "      <th>22</th>\n",
       "      <td>Recording artists by label</td>\n",
       "      <td>56</td>\n",
       "      <td>0.070976</td>\n",
       "    </tr>\n",
       "    <tr>\n",
       "      <th>23</th>\n",
       "      <td>2020 in Africa</td>\n",
       "      <td>55</td>\n",
       "      <td>0.069708</td>\n",
       "    </tr>\n",
       "    <tr>\n",
       "      <th>24</th>\n",
       "      <td>States and territories by year of establishment</td>\n",
       "      <td>55</td>\n",
       "      <td>0.069708</td>\n",
       "    </tr>\n",
       "    <tr>\n",
       "      <th>25</th>\n",
       "      <td>20th-century conflicts by year</td>\n",
       "      <td>54</td>\n",
       "      <td>0.068441</td>\n",
       "    </tr>\n",
       "    <tr>\n",
       "      <th>26</th>\n",
       "      <td>2021 in Africa</td>\n",
       "      <td>54</td>\n",
       "      <td>0.068441</td>\n",
       "    </tr>\n",
       "    <tr>\n",
       "      <th>27</th>\n",
       "      <td>COVID-19 pandemic in Europe</td>\n",
       "      <td>53</td>\n",
       "      <td>0.067174</td>\n",
       "    </tr>\n",
       "    <tr>\n",
       "      <th>28</th>\n",
       "      <td>2020 elections in the United States by state</td>\n",
       "      <td>52</td>\n",
       "      <td>0.065906</td>\n",
       "    </tr>\n",
       "    <tr>\n",
       "      <th>29</th>\n",
       "      <td>United States presidential elections by state or territory</td>\n",
       "      <td>51</td>\n",
       "      <td>0.064639</td>\n",
       "    </tr>\n",
       "  </tbody>\n",
       "</table>\n",
       "<p>30 rows × 3 columns</p>\n",
       "</div>"
      ],
      "text/plain": [
       "                                                          name  count  \\\n",
       "0                                              Stub categories    267   \n",
       "1                                              2020 by country    242   \n",
       "2                                              2021 by country    235   \n",
       "3                                          Treaties by country    199   \n",
       "4                                               Births by year    194   \n",
       "5                                 COVID-19 pandemic by country    189   \n",
       "6                                 Disease outbreaks by country    160   \n",
       "7                                               Deaths by year    149   \n",
       "8                                              Wars by country     88   \n",
       "9                                              2022 by country     88   \n",
       "10                 Articles with authority control information     81   \n",
       "11                           People by city or town in England     79   \n",
       "12                   Populated places by year of establishment     78   \n",
       "13                      Organizations by year of establishment     74   \n",
       "14                                              2020 in Europe     67   \n",
       "15                                              2021 in Europe     66   \n",
       "16                                         Mass murder by year     64   \n",
       "17                                   2020 disasters by country     63   \n",
       "18                                   2021 disasters by country     62   \n",
       "19                                    American writers by city     61   \n",
       "20                   Alumni by law school in the United States     60   \n",
       "21                      People by company in the United States     57   \n",
       "22                                  Recording artists by label     56   \n",
       "23                                              2020 in Africa     55   \n",
       "24             States and territories by year of establishment     55   \n",
       "25                              20th-century conflicts by year     54   \n",
       "26                                              2021 in Africa     54   \n",
       "27                                 COVID-19 pandemic in Europe     53   \n",
       "28                2020 elections in the United States by state     52   \n",
       "29  United States presidential elections by state or territory     51   \n",
       "\n",
       "        prop  \n",
       "0   0.338403  \n",
       "1   0.306717  \n",
       "2   0.297845  \n",
       "3   0.252218  \n",
       "4   0.245881  \n",
       "5   0.239544  \n",
       "6   0.202788  \n",
       "7   0.188847  \n",
       "8   0.111534  \n",
       "9   0.111534  \n",
       "10  0.102662  \n",
       "11  0.100127  \n",
       "12  0.098859  \n",
       "13  0.093790  \n",
       "14  0.084918  \n",
       "15  0.083650  \n",
       "16  0.081115  \n",
       "17  0.079848  \n",
       "18  0.078580  \n",
       "19  0.077313  \n",
       "20  0.076046  \n",
       "21  0.072243  \n",
       "22  0.070976  \n",
       "23  0.069708  \n",
       "24  0.069708  \n",
       "25  0.068441  \n",
       "26  0.068441  \n",
       "27  0.067174  \n",
       "28  0.065906  \n",
       "29  0.064639  \n",
       "\n",
       "[30 rows x 3 columns]"
      ]
     },
     "metadata": {},
     "output_type": "display_data"
    }
   ],
   "source": [
    "display_pd(\n",
    "    contentious_cats[\"parents_visible\"].explode()\n",
    "    .value_counts()\n",
    "    .reset_index(name=\"count\")\n",
    "    .rename(columns={\"index\": \"name\"})\n",
    "    .assign(prop=lambda d: d[\"count\"] / len(df_obj))\n",
    "    .head(30)\n",
    ")"
   ]
  },
  {
   "cell_type": "markdown",
   "id": "25960d06-90ee-42c5-b68a-f3c6d958a507",
   "metadata": {},
   "source": [
    "Similarly, the distribution of templates is not very informative for our purposes."
   ]
  },
  {
   "cell_type": "code",
   "execution_count": 315,
   "id": "a6638ed8-8ae4-48b4-a896-25e0e9015ba2",
   "metadata": {},
   "outputs": [
    {
     "data": {
      "text/plain": [
       "13698"
      ]
     },
     "execution_count": 315,
     "metadata": {},
     "output_type": "execute_result"
    }
   ],
   "source": [
    "df_contentious[\"template\"].explode().nunique()"
   ]
  },
  {
   "cell_type": "code",
   "execution_count": 281,
   "id": "64728682-fc7c-46b0-8b53-49c5cbb18ee0",
   "metadata": {},
   "outputs": [
    {
     "data": {
      "text/plain": [
       "Template:Main other                          8639\n",
       "Template:Reflist                             8422\n",
       "Template:Reflist/styles.css                  8422\n",
       "Template:Short description                   7703\n",
       "Template:Short description/lowercasecheck    7703\n",
       "Template:SDcat                               7703\n",
       "Template:Pagetype                            7652\n",
       "Template:Cite web                            7463\n",
       "Template:Hlist/styles.css                    7409\n",
       "Template:Cite news                           6430\n",
       "Template:Navbox                              4961\n",
       "Template:Ns has subpages                     4923\n",
       "Template:FULLROOTPAGENAME                    4923\n",
       "Template:Dated maintenance category          4923\n",
       "Template:DMCA                                4917\n",
       "Template:Cite book                           4689\n",
       "Template:Yesno                               4579\n",
       "Template:Template other                      4112\n",
       "Template:Category handler                    4072\n",
       "Template:Plainlist/styles.css                4048\n",
       "Name: template, Length: 20, dtype: int64"
      ]
     },
     "metadata": {},
     "output_type": "display_data"
    }
   ],
   "source": [
    "display_pd(df_contentious[\"template\"].explode().value_counts()[:20])"
   ]
  },
  {
   "cell_type": "markdown",
   "id": "e7436b1e-5f12-46c6-82fa-df735f44eb3f",
   "metadata": {},
   "source": [
    "Take a look at top-level categories in the list."
   ]
  },
  {
   "cell_type": "code",
   "execution_count": 381,
   "id": "8a64a7b9-8565-4c01-832b-1fe8af9a6186",
   "metadata": {},
   "outputs": [],
   "source": [
    "contentious_cats_info = find_matching_categories(catlist=contentious_cats[\"name\"], nonempty=True)"
   ]
  },
  {
   "cell_type": "code",
   "execution_count": 391,
   "id": "ec266f86-3e13-46d9-8703-a644ccc97739",
   "metadata": {},
   "outputs": [
    {
     "data": {
      "text/html": [
       "<div>\n",
       "<style scoped>\n",
       "    .dataframe tbody tr th:only-of-type {\n",
       "        vertical-align: middle;\n",
       "    }\n",
       "\n",
       "    .dataframe tbody tr th {\n",
       "        vertical-align: top;\n",
       "    }\n",
       "\n",
       "    .dataframe thead th {\n",
       "        text-align: right;\n",
       "    }\n",
       "</style>\n",
       "<table border=\"1\" class=\"dataframe\">\n",
       "  <thead>\n",
       "    <tr style=\"text-align: right;\">\n",
       "      <th></th>\n",
       "      <th>name</th>\n",
       "      <th>subcats_visible</th>\n",
       "    </tr>\n",
       "  </thead>\n",
       "  <tbody>\n",
       "    <tr>\n",
       "      <th>0</th>\n",
       "      <td>Cuyahoga Community College alumni</td>\n",
       "      <td>[Tri-C Triceratops baseball players]</td>\n",
       "    </tr>\n",
       "    <tr>\n",
       "      <th>1</th>\n",
       "      <td>Nicki Minaj</td>\n",
       "      <td>[Nicki Minaj album covers, Nicki Minaj albums, Nicki Minaj audio samples, Nicki Minaj concert tours, Nicki Minaj songs, Songs written by Nicki Minaj]</td>\n",
       "    </tr>\n",
       "    <tr>\n",
       "      <th>2</th>\n",
       "      <td>Universiade gold medalists in athletics (track and field)</td>\n",
       "      <td>[]</td>\n",
       "    </tr>\n",
       "    <tr>\n",
       "      <th>3</th>\n",
       "      <td>Opposition Platform — For Life politicians</td>\n",
       "      <td>[]</td>\n",
       "    </tr>\n",
       "    <tr>\n",
       "      <th>4</th>\n",
       "      <td>21st century in Rochester, New York</td>\n",
       "      <td>[]</td>\n",
       "    </tr>\n",
       "    <tr>\n",
       "      <th>5</th>\n",
       "      <td>Canadian social commentators</td>\n",
       "      <td>[]</td>\n",
       "    </tr>\n",
       "    <tr>\n",
       "      <th>6</th>\n",
       "      <td>2020 in North Dakota</td>\n",
       "      <td>[2020 North Dakota elections, 2020 disestablishments in North Dakota, 2020 in sports in North Dakota]</td>\n",
       "    </tr>\n",
       "    <tr>\n",
       "      <th>7</th>\n",
       "      <td>Colorado law</td>\n",
       "      <td>[Cannabis law in Colorado, Capital punishment in Colorado, Colorado General Assembly, Colorado ballot measures, Colorado state case law, Colorado state courts, Colorado statutes, Constitution of Colorado, Courthouses in Colorado, Crime in Colorado, Criminals from Colorado, LGBT rights in Colorado, Law enforcement in Colorado, Law firms based in Colorado, Law schools in Colorado, Legal history of Colorado]</td>\n",
       "    </tr>\n",
       "    <tr>\n",
       "      <th>8</th>\n",
       "      <td>Argentine television personalities</td>\n",
       "      <td>[Argentine television chefs, Argentine television journalists, Argentine television presenters, Argentine television talk show hosts, Participants in Argentine reality television series]</td>\n",
       "    </tr>\n",
       "    <tr>\n",
       "      <th>9</th>\n",
       "      <td>Members of the Assembly of Experts</td>\n",
       "      <td>[Speakers of the Assembly of Experts]</td>\n",
       "    </tr>\n",
       "    <tr>\n",
       "      <th>10</th>\n",
       "      <td>Recipients of the Order of Fath</td>\n",
       "      <td>[]</td>\n",
       "    </tr>\n",
       "    <tr>\n",
       "      <th>11</th>\n",
       "      <td>Presidents of the Workers' Party (Brazil)</td>\n",
       "      <td>[]</td>\n",
       "    </tr>\n",
       "    <tr>\n",
       "      <th>12</th>\n",
       "      <td>American cheerleaders</td>\n",
       "      <td>[American cheerleading organizations, American college cheerleading squads, National Basketball Association cheerleaders, National Football League cheerleaders, Navarro College cheer alumni, Professional wrestling dancers]</td>\n",
       "    </tr>\n",
       "    <tr>\n",
       "      <th>13</th>\n",
       "      <td>2020s in Karachi</td>\n",
       "      <td>[]</td>\n",
       "    </tr>\n",
       "    <tr>\n",
       "      <th>14</th>\n",
       "      <td>1961 establishments in Virginia</td>\n",
       "      <td>[Norfolk Tides, Virginia Wesleyan University]</td>\n",
       "    </tr>\n",
       "    <tr>\n",
       "      <th>15</th>\n",
       "      <td>Belarus–Lithuania relations</td>\n",
       "      <td>[Ambassadors of Lithuania to Belarus, Belarus–Lithuania border, Belarusian expatriates in Lithuania, Belarusian people of Lithuanian descent, Lithuanian expatriates in Belarus, Lithuanian people of Belarusian descent]</td>\n",
       "    </tr>\n",
       "    <tr>\n",
       "      <th>16</th>\n",
       "      <td>Israel education-related lists</td>\n",
       "      <td>[]</td>\n",
       "    </tr>\n",
       "    <tr>\n",
       "      <th>17</th>\n",
       "      <td>January 2019 events in Australia</td>\n",
       "      <td>[January 2019 sports events in Australia]</td>\n",
       "    </tr>\n",
       "    <tr>\n",
       "      <th>18</th>\n",
       "      <td>Companies listed on Nasdaq Stockholm</td>\n",
       "      <td>[Companies formerly listed on Nasdaq Stockholm]</td>\n",
       "    </tr>\n",
       "    <tr>\n",
       "      <th>19</th>\n",
       "      <td>Hunting dogs</td>\n",
       "      <td>[Catch dogs, Curs, Hounds, Retrievers, Spaniels, Terriers]</td>\n",
       "    </tr>\n",
       "  </tbody>\n",
       "</table>\n",
       "<p>20 rows × 2 columns</p>\n",
       "</div>"
      ],
      "text/plain": [
       "                                                         name  \\\n",
       "0                           Cuyahoga Community College alumni   \n",
       "1                                                 Nicki Minaj   \n",
       "2   Universiade gold medalists in athletics (track and field)   \n",
       "3                  Opposition Platform — For Life politicians   \n",
       "4                         21st century in Rochester, New York   \n",
       "5                                Canadian social commentators   \n",
       "6                                        2020 in North Dakota   \n",
       "7                                                Colorado law   \n",
       "8                          Argentine television personalities   \n",
       "9                          Members of the Assembly of Experts   \n",
       "10                            Recipients of the Order of Fath   \n",
       "11                  Presidents of the Workers' Party (Brazil)   \n",
       "12                                      American cheerleaders   \n",
       "13                                           2020s in Karachi   \n",
       "14                            1961 establishments in Virginia   \n",
       "15                                Belarus–Lithuania relations   \n",
       "16                             Israel education-related lists   \n",
       "17                           January 2019 events in Australia   \n",
       "18                       Companies listed on Nasdaq Stockholm   \n",
       "19                                               Hunting dogs   \n",
       "\n",
       "                                                                                                                                                                                                                                                                                                                                                                                                             subcats_visible  \n",
       "0                                                                                                                                                                                                                                                                                                                                                                                       [Tri-C Triceratops baseball players]  \n",
       "1                                                                                                                                                                                                                                                                      [Nicki Minaj album covers, Nicki Minaj albums, Nicki Minaj audio samples, Nicki Minaj concert tours, Nicki Minaj songs, Songs written by Nicki Minaj]  \n",
       "2                                                                                                                                                                                                                                                                                                                                                                                                                         []  \n",
       "3                                                                                                                                                                                                                                                                                                                                                                                                                         []  \n",
       "4                                                                                                                                                                                                                                                                                                                                                                                                                         []  \n",
       "5                                                                                                                                                                                                                                                                                                                                                                                                                         []  \n",
       "6                                                                                                                                                                                                                                                                                                                      [2020 North Dakota elections, 2020 disestablishments in North Dakota, 2020 in sports in North Dakota]  \n",
       "7   [Cannabis law in Colorado, Capital punishment in Colorado, Colorado General Assembly, Colorado ballot measures, Colorado state case law, Colorado state courts, Colorado statutes, Constitution of Colorado, Courthouses in Colorado, Crime in Colorado, Criminals from Colorado, LGBT rights in Colorado, Law enforcement in Colorado, Law firms based in Colorado, Law schools in Colorado, Legal history of Colorado]  \n",
       "8                                                                                                                                                                                                                                 [Argentine television chefs, Argentine television journalists, Argentine television presenters, Argentine television talk show hosts, Participants in Argentine reality television series]  \n",
       "9                                                                                                                                                                                                                                                                                                                                                                                      [Speakers of the Assembly of Experts]  \n",
       "10                                                                                                                                                                                                                                                                                                                                                                                                                        []  \n",
       "11                                                                                                                                                                                                                                                                                                                                                                                                                        []  \n",
       "12                                                                                                                                                                                            [American cheerleading organizations, American college cheerleading squads, National Basketball Association cheerleaders, National Football League cheerleaders, Navarro College cheer alumni, Professional wrestling dancers]  \n",
       "13                                                                                                                                                                                                                                                                                                                                                                                                                        []  \n",
       "14                                                                                                                                                                                                                                                                                                                                                                             [Norfolk Tides, Virginia Wesleyan University]  \n",
       "15                                                                                                                                                                                                 [Ambassadors of Lithuania to Belarus, Belarus–Lithuania border, Belarusian expatriates in Lithuania, Belarusian people of Lithuanian descent, Lithuanian expatriates in Belarus, Lithuanian people of Belarusian descent]  \n",
       "16                                                                                                                                                                                                                                                                                                                                                                                                                        []  \n",
       "17                                                                                                                                                                                                                                                                                                                                                                                 [January 2019 sports events in Australia]  \n",
       "18                                                                                                                                                                                                                                                                                                                                                                           [Companies formerly listed on Nasdaq Stockholm]  \n",
       "19                                                                                                                                                                                                                                                                                                                                                                [Catch dogs, Curs, Hounds, Retrievers, Spaniels, Terriers]  \n",
       "\n",
       "[20 rows x 2 columns]"
      ]
     },
     "metadata": {},
     "output_type": "display_data"
    }
   ],
   "source": [
    "display_pd(\n",
    "    contentious_cats_info.query(\"~parent_matches\").sample(20)\n",
    "    .reset_index(drop=True)[[\"name\", \"subcats_visible\"]]\n",
    ")"
   ]
  },
  {
   "cell_type": "markdown",
   "id": "ba041471-146b-4be8-81ee-cd696122ff5b",
   "metadata": {},
   "source": [
    "## Develop list of categories to block\n",
    "\n",
    "Here we put together a list of categories to block by inspecting the categories associated with objectionable pages.\n",
    "\n",
    "Looking through the categories, we observe some high-level topics emerging.\n",
    "For these categories, we explored subcategories and parent categories to get an idea of the level of generality to target.\n",
    "\n",
    "Based on these observations, we identify the following topics to consider blocking.\n",
    "For each topic, we build a list of Wikipedia categories, and we plan to block pages that belong to any of these categories.\n",
    "\n",
    "In order to make the category listing comprehensive and reproducible, the list is built as follows.\n",
    "For each topic, we identify a collection of seed terms.\n",
    "The list will contain all categories which match the seed terms, as well as all of their subcategories, subject to possible exclusions described below. (In some cases, we may cut off subcategories at a certain depth, to avoid branching off into related topics which maybe should not be blocked).\n",
    "\n",
    "The seed terms and exclusions were identified by experimenting with different search terms in `find_matching_categories()` and `category_bfs()`.\n",
    "\n",
    "__Topics to consider blocking:__\n",
    "\n",
    "- Sexuality\n",
    "    * sex acts, crime or violence-related\n",
    "    * not health-related or societal\n",
    "- Pornography/erotica\n",
    "    * not anti-pornography\n",
    "- Profanity\n",
    "- Pejoratives & slurs\n",
    "- Cruelty\n",
    "    * torture, child abuse\n",
    "    * not anti-abuse, works of fiction\n",
    "- Hateful ideology\n",
    "\n",
    "The following topics may also be considered objectionable, but may not be good candidates for blocking due to their breadth or historical context. We can consider downweighting them instead:\n",
    "\n",
    "- Prejudice/discrimination\n",
    "- Violence\n",
    "    * including terrorism, genocide, mass shootings, targeted\n",
    "- Abuse\n",
    "    * including bullying, harassment"
   ]
  },
  {
   "cell_type": "code",
   "execution_count": 619,
   "id": "eff34f64-11ce-4407-b0bc-2857f656d4de",
   "metadata": {},
   "outputs": [],
   "source": [
    "BLOCKLIST_CSV = \"blocklist_cats.csv\""
   ]
  },
  {
   "cell_type": "code",
   "execution_count": 536,
   "id": "189c65e8-1958-427e-9157-ed50b9a9f9b8",
   "metadata": {},
   "outputs": [],
   "source": [
    "seed_categories = [\n",
    "    \"Profanity\",\n",
    "    # Cruelty:\n",
    "    \"Torture\",\n",
    "    \"Child abuse\",\n",
    "    # Sexuality:\n",
    "    \"Sex manuals\",\n",
    "    \"Incest\",\n",
    "    \"Sexual emotions\",\n",
    "    \"Prostitution\",\n",
    "    \"Sexuality-related lists\",\n",
    "    \"Machine sex\",\n",
    "    \"Orgasm\",\n",
    "    \"Sexual fetishism\",\n",
    "    \"Pornography\",\n",
    "    \"Paraphilias\",\n",
    "    \"Sexual slang\",\n",
    "    \"Personal lubricants\",\n",
    "    \"Sexual fantasies\",\n",
    "    \"Sex toys\",\n",
    "    \"Sexual violence\",\n",
    "    \"Sexual acts\",\n",
    "]\n",
    "\n",
    "seed_categories_level_restricted = {\n",
    "    # Stop searching after level 4\n",
    "    4: [\"White nationalism\"],\n",
    "}\n",
    "\n",
    "category_matching_regexes = [\n",
    "    # regex to catch separate categories for different groups\n",
    "    \"\\\\bslurs\",\n",
    "    # regex to catch separate categories for different groups\n",
    "    \"\\\\bpejorative\",\n",
    "    \"\\\\bpornograph\",\n",
    "    \"\\\\berotic\",\n",
    "]\n",
    "\n",
    "cat_match_re = \"|\".join(category_matching_regexes)\n",
    "\n",
    "exclude_categories = [\n",
    "    # Profanity exclusions:\n",
    "    # mainly TV shows and movies\n",
    "    \"Works about profanity\",\n",
    "    # Torture exclusions:\n",
    "    # mainly historical\n",
    "    \"Castrated people\",\n",
    "    \"Crucifixion\",\n",
    "    # people, prosthetics, sports\n",
    "    \"Amputations\",\n",
    "    \"Fictional torturers\",\n",
    "    \"Works about torture\",\n",
    "    # Child abuse exclusions:\n",
    "    \"Child abuse law\",\n",
    "    \"Child abuse-related organizations\",\n",
    "    \"Child labour\",\n",
    "    \"School bullying\",\n",
    "    \"Displacement of indigenous children\",\n",
    "    \"Works about child abuse\",\n",
    "    \"Anti-pedophile activism\",\n",
    "    \"Feral children\",\n",
    "    \"Fiction about child murder\",\n",
    "    \"Filicides\",\n",
    "    \"QAnon\",\n",
    "    \"Fictional murderers of children\",\n",
    "    # mainly historical/mythological\n",
    "    \"Child sacrifice\",\n",
    "    # Slurs/Pejorative exclusions:\n",
    "    # cultural/historical\n",
    "    \"Barbarians\",\n",
    "    # White nationalism exclusions:\n",
    "    \"Works about apartheid\",\n",
    "    # Erotica exclusions:\n",
    "    \"One Thousand and One Nights\",\n",
    "    \"Erotic Liquid Culture members\",\n",
    "    \"Swedish Erotica members\",\n",
    "    # Sexuality exclusions:\n",
    "    \"Aphrodite\",\n",
    "    \"Game of Thrones\",\n",
    "]\n",
    "\n",
    "exclude_regexes = [\n",
    "    # Torture exclusions:\n",
    "    \"\\\\banti-torture\\\\b\",\n",
    "    \"\\\\btorture victims?\\\\b\",\n",
    "    # Slurs/Pejorative exclusions:\n",
    "    # cultural/historical\n",
    "    \"\\\\beskimo\",\n",
    "    # Pornography exclusions:\n",
    "    \"\\\\bNew Pornographers\\\\b\",\n",
    "    \"\\\\banti\\W(child )?porn\",\n",
    "    \"\\\\blaw.+\\\\bporn\",\n",
    "    \"\\\\bporn.+\\\\blaw\",\n",
    "    # non-porn\n",
    "    \"\\\\bsex comedy\\\\b\",\n",
    "    # Sexuality exclusions:\n",
    "    \"\\\\blaw.+\\\\bprostitut\",\n",
    "    \"\\\\bprostitut.+\\\\blaw\",\n",
    "    # \"\\\\bfiction\",\n",
    "    # \"\\\\blitera\",\n",
    "    \"\\\\banti\\Wprostitut\",\n",
    "    \"\\\\bmytholog\",\n",
    "]\n",
    "\n",
    "exclude_re = \"|\".join(exclude_regexes)"
   ]
  },
  {
   "cell_type": "markdown",
   "id": "09f6838d-2801-4725-9519-0f85138692ff",
   "metadata": {},
   "source": [
    "Given this seed list, what is the full list of categories that would be blocked?"
   ]
  },
  {
   "cell_type": "code",
   "execution_count": 546,
   "id": "7f1a10a8-2565-42f5-ab76-341ae74e4f97",
   "metadata": {},
   "outputs": [],
   "source": [
    "def build_blocklist(seed_cats, seed_re, exclude_cats, exclude_re, seed_cats_level):\n",
    "    bl_rows = category_bfs(\n",
    "        seed_cats=seed_cats,\n",
    "        seed_re=seed_re,\n",
    "        exclude_cats=exclude_cats,\n",
    "        exclude_re=exclude_re,\n",
    "    )\n",
    "    \n",
    "    bl_rows_level = pd.DataFrame()\n",
    "    for max_level, cats in seed_cats_level.items():\n",
    "        result = category_bfs(seed_cats=cats, exclude_cats=exclude_cats, exclude_re=exclude_re, max_level=max_level)\n",
    "        result[\"max_level\"] = max_level\n",
    "        bl_rows_level = pd.concat([bl_rows_level, result], ignore_index=True)\n",
    "        bl_rows_level = bl_rows_level.drop_duplicates(subset=\"name\")\n",
    "    \n",
    "    bl_final = pd.concat([bl_rows, bl_rows_level], ignore_index=True)\n",
    "    bl_final = bl_final.drop_duplicates(subset=\"name\")\n",
    "    \n",
    "    assert bl_final[\"name\"].value_counts().unique() == 1\n",
    "    \n",
    "    return bl_final"
   ]
  },
  {
   "cell_type": "markdown",
   "id": "807a29ff-21d3-4003-9174-5219c00f5ebe",
   "metadata": {},
   "source": [
    "Took ~15 sec."
   ]
  },
  {
   "cell_type": "code",
   "execution_count": 547,
   "id": "25f156f8-c539-467d-bd3f-e85899f31563",
   "metadata": {},
   "outputs": [
    {
     "name": "stdout",
     "output_type": "stream",
     "text": [
      "CPU times: user 12.2 s, sys: 1.29 s, total: 13.5 s\n",
      "Wall time: 13.9 s\n"
     ]
    }
   ],
   "source": [
    "%%time\n",
    "\n",
    "blocklist_final = build_blocklist(\n",
    "    seed_cats=seed_categories,\n",
    "    seed_re=cat_match_re,\n",
    "    exclude_cats=exclude_categories,\n",
    "    exclude_re=exclude_re,\n",
    "    seed_cats_level=seed_categories_level_restricted,\n",
    ")"
   ]
  },
  {
   "cell_type": "code",
   "execution_count": 548,
   "id": "bcce4e4f-d094-4d00-ba96-773fbdcd742e",
   "metadata": {},
   "outputs": [
    {
     "data": {
      "text/plain": [
       "3385"
      ]
     },
     "execution_count": 548,
     "metadata": {},
     "output_type": "execute_result"
    }
   ],
   "source": [
    "len(blocklist_final)"
   ]
  },
  {
   "cell_type": "code",
   "execution_count": 550,
   "id": "ae6d1a64-0b51-4f05-8e65-894bde69c30b",
   "metadata": {},
   "outputs": [
    {
     "data": {
      "text/plain": [
       "Erotic                     1058\n",
       "Prostitution                548\n",
       "Sexual violence             539\n",
       "Child abuse                 391\n",
       "White nationalism           298\n",
       "Torture                     219\n",
       "Pornograph                   74\n",
       "Paraphilias                  67\n",
       "Sexual acts                  40\n",
       "Pejorative                   33\n",
       "Sexual slang                 31\n",
       "pornograph                   24\n",
       "Sex toys                     14\n",
       "Profanity                    11\n",
       "Sexual emotions              10\n",
       "Sexuality-related lists       9\n",
       "Orgasm                        5\n",
       "erotic                        4\n",
       "slurs                         4\n",
       "Sex manuals                   3\n",
       "Personal lubricants           2\n",
       "Slurs                         1\n",
       "Name: seed, Length: 22, dtype: int64"
      ]
     },
     "execution_count": 550,
     "metadata": {},
     "output_type": "execute_result"
    }
   ],
   "source": [
    "blocklist_final.seed.value_counts()"
   ]
  },
  {
   "cell_type": "code",
   "execution_count": 618,
   "id": "38e2c07d-788f-4521-a059-7d294e49a2d4",
   "metadata": {},
   "outputs": [],
   "source": [
    "blocklist_final.to_csv(BLOCKLIST_CSV, index=False)"
   ]
  },
  {
   "cell_type": "markdown",
   "id": "ffc6d03a-2fa1-4b9e-a23f-19ebeec7b957",
   "metadata": {},
   "source": [
    "How many articles are covered by this blocklist?\n",
    "This counts articles belonging to each subcategory. Since pages can belong to multiple categories, this will be an overestimate.\n",
    "\n",
    "* at most 64,000 pages (~1% of English Wikipedia)"
   ]
  },
  {
   "cell_type": "code",
   "execution_count": 563,
   "id": "ae1a61c5-5740-4926-bbcb-2b4c81e95801",
   "metadata": {},
   "outputs": [],
   "source": [
    "blocklist_cat_info = df_cats.merge(blocklist_final, on=\"name\", how=\"inner\")"
   ]
  },
  {
   "cell_type": "code",
   "execution_count": 564,
   "id": "1b9bd355-319b-4453-ac8e-ccac11f1d663",
   "metadata": {},
   "outputs": [
    {
     "name": "stdout",
     "output_type": "stream",
     "text": [
      "Num pages: 64,334\n"
     ]
    }
   ],
   "source": [
    "print(f\"Num pages: {blocklist_cat_info['num_pages'].sum():,}\")"
   ]
  },
  {
   "cell_type": "markdown",
   "id": "cee56e79-4e6b-4355-971c-65b9e3c3dc59",
   "metadata": {},
   "source": [
    "How many categories are non-empty?"
   ]
  },
  {
   "cell_type": "code",
   "execution_count": 565,
   "id": "db02a55a-2518-4923-aa84-6a97d56af435",
   "metadata": {
    "tags": []
   },
   "outputs": [
    {
     "data": {
      "text/plain": [
       "3312"
      ]
     },
     "execution_count": 565,
     "metadata": {},
     "output_type": "execute_result"
    }
   ],
   "source": [
    "len(blocklist_cat_info.query(\"num_pages + num_subcats > 0\"))"
   ]
  },
  {
   "cell_type": "code",
   "execution_count": 567,
   "id": "e6421b93-a2a1-4825-b0d0-b0a633c03661",
   "metadata": {},
   "outputs": [
    {
     "data": {
      "text/html": [
       "<div>\n",
       "<style scoped>\n",
       "    .dataframe tbody tr th:only-of-type {\n",
       "        vertical-align: middle;\n",
       "    }\n",
       "\n",
       "    .dataframe tbody tr th {\n",
       "        vertical-align: top;\n",
       "    }\n",
       "\n",
       "    .dataframe thead th {\n",
       "        text-align: right;\n",
       "    }\n",
       "</style>\n",
       "<table border=\"1\" class=\"dataframe\">\n",
       "  <thead>\n",
       "    <tr style=\"text-align: right;\">\n",
       "      <th></th>\n",
       "      <th>name</th>\n",
       "      <th>seed</th>\n",
       "      <th>parent</th>\n",
       "      <th>level</th>\n",
       "      <th>max_level</th>\n",
       "    </tr>\n",
       "  </thead>\n",
       "  <tbody>\n",
       "    <tr>\n",
       "      <th>966</th>\n",
       "      <td>Alt porn</td>\n",
       "      <td>Erotic</td>\n",
       "      <td>Pornography by genre</td>\n",
       "      <td>3</td>\n",
       "      <td>NaN</td>\n",
       "    </tr>\n",
       "    <tr>\n",
       "      <th>1546</th>\n",
       "      <td>Egyptian erotic artists</td>\n",
       "      <td>Erotic</td>\n",
       "      <td>Erotic artists by nationality</td>\n",
       "      <td>4</td>\n",
       "      <td>NaN</td>\n",
       "    </tr>\n",
       "    <tr>\n",
       "      <th>1912</th>\n",
       "      <td>Hentai creators</td>\n",
       "      <td>Erotic</td>\n",
       "      <td>Hentai</td>\n",
       "      <td>4</td>\n",
       "      <td>NaN</td>\n",
       "    </tr>\n",
       "    <tr>\n",
       "      <th>115</th>\n",
       "      <td>Prostitution by country</td>\n",
       "      <td>Prostitution</td>\n",
       "      <td>Prostitution</td>\n",
       "      <td>1</td>\n",
       "      <td>NaN</td>\n",
       "    </tr>\n",
       "    <tr>\n",
       "      <th>1746</th>\n",
       "      <td>Actors in gay pornographic films</td>\n",
       "      <td>Erotic</td>\n",
       "      <td>Gay male pornography</td>\n",
       "      <td>4</td>\n",
       "      <td>NaN</td>\n",
       "    </tr>\n",
       "    <tr>\n",
       "      <th>3090</th>\n",
       "      <td>Boer nationalism</td>\n",
       "      <td>White nationalism</td>\n",
       "      <td>White nationalism</td>\n",
       "      <td>1</td>\n",
       "      <td>4.0</td>\n",
       "    </tr>\n",
       "    <tr>\n",
       "      <th>66</th>\n",
       "      <td>Child abandonment</td>\n",
       "      <td>Child abuse</td>\n",
       "      <td>Child abuse</td>\n",
       "      <td>1</td>\n",
       "      <td>NaN</td>\n",
       "    </tr>\n",
       "    <tr>\n",
       "      <th>596</th>\n",
       "      <td>Torture in Syria</td>\n",
       "      <td>Torture</td>\n",
       "      <td>Torture by country</td>\n",
       "      <td>2</td>\n",
       "      <td>NaN</td>\n",
       "    </tr>\n",
       "    <tr>\n",
       "      <th>1428</th>\n",
       "      <td>Filicides in the United Kingdom</td>\n",
       "      <td>Child abuse</td>\n",
       "      <td>British murderers of children</td>\n",
       "      <td>4</td>\n",
       "      <td>NaN</td>\n",
       "    </tr>\n",
       "    <tr>\n",
       "      <th>1243</th>\n",
       "      <td>Rape in Bangladesh</td>\n",
       "      <td>Sexual violence</td>\n",
       "      <td>Rape by country</td>\n",
       "      <td>3</td>\n",
       "      <td>NaN</td>\n",
       "    </tr>\n",
       "    <tr>\n",
       "      <th>2214</th>\n",
       "      <td>Films about scandalous teacher–student relatio...</td>\n",
       "      <td>Sexual violence</td>\n",
       "      <td>Films about sex crimes</td>\n",
       "      <td>4</td>\n",
       "      <td>NaN</td>\n",
       "    </tr>\n",
       "    <tr>\n",
       "      <th>1387</th>\n",
       "      <td>Instruments of torture by period</td>\n",
       "      <td>Torture</td>\n",
       "      <td>Instruments of torture</td>\n",
       "      <td>3</td>\n",
       "      <td>NaN</td>\n",
       "    </tr>\n",
       "    <tr>\n",
       "      <th>271</th>\n",
       "      <td>Gay pornographic films</td>\n",
       "      <td>Erotic</td>\n",
       "      <td>LGBT erotica</td>\n",
       "      <td>2</td>\n",
       "      <td>NaN</td>\n",
       "    </tr>\n",
       "    <tr>\n",
       "      <th>727</th>\n",
       "      <td>Murdered European children</td>\n",
       "      <td>Child abuse</td>\n",
       "      <td>Murdered children</td>\n",
       "      <td>3</td>\n",
       "      <td>NaN</td>\n",
       "    </tr>\n",
       "    <tr>\n",
       "      <th>2900</th>\n",
       "      <td>Behavioral Analysis Unit</td>\n",
       "      <td>Prostitution</td>\n",
       "      <td>Offender profiling</td>\n",
       "      <td>6</td>\n",
       "      <td>NaN</td>\n",
       "    </tr>\n",
       "    <tr>\n",
       "      <th>1094</th>\n",
       "      <td>Prostitution in Malaysia</td>\n",
       "      <td>Prostitution</td>\n",
       "      <td>Prostitution in Asia</td>\n",
       "      <td>3</td>\n",
       "      <td>NaN</td>\n",
       "    </tr>\n",
       "    <tr>\n",
       "      <th>1791</th>\n",
       "      <td>Russian adult models</td>\n",
       "      <td>Erotic</td>\n",
       "      <td>Adult models by nationality</td>\n",
       "      <td>4</td>\n",
       "      <td>NaN</td>\n",
       "    </tr>\n",
       "    <tr>\n",
       "      <th>1931</th>\n",
       "      <td>British pornographic film actors of Indian des...</td>\n",
       "      <td>Paraphilias</td>\n",
       "      <td>Pornographic film actors by ethnicity</td>\n",
       "      <td>4</td>\n",
       "      <td>NaN</td>\n",
       "    </tr>\n",
       "    <tr>\n",
       "      <th>645</th>\n",
       "      <td>American murderers of children</td>\n",
       "      <td>Child abuse</td>\n",
       "      <td>Child abuse in the United States</td>\n",
       "      <td>3</td>\n",
       "      <td>NaN</td>\n",
       "    </tr>\n",
       "    <tr>\n",
       "      <th>2286</th>\n",
       "      <td>C-Class Low-importance Pornography articles</td>\n",
       "      <td>Pornograph</td>\n",
       "      <td>Low-importance Pornography articles</td>\n",
       "      <td>4</td>\n",
       "      <td>NaN</td>\n",
       "    </tr>\n",
       "    <tr>\n",
       "      <th>1513</th>\n",
       "      <td>Television episodes about pedophilia</td>\n",
       "      <td>Child abuse</td>\n",
       "      <td>Television episodes about child sexual abuse</td>\n",
       "      <td>4</td>\n",
       "      <td>NaN</td>\n",
       "    </tr>\n",
       "    <tr>\n",
       "      <th>3357</th>\n",
       "      <td>Members of Nasjonal Samling</td>\n",
       "      <td>White nationalism</td>\n",
       "      <td>Nazi politicians</td>\n",
       "      <td>4</td>\n",
       "      <td>4.0</td>\n",
       "    </tr>\n",
       "    <tr>\n",
       "      <th>1784</th>\n",
       "      <td>Hungarian adult models</td>\n",
       "      <td>Erotic</td>\n",
       "      <td>Adult models by nationality</td>\n",
       "      <td>4</td>\n",
       "      <td>NaN</td>\n",
       "    </tr>\n",
       "    <tr>\n",
       "      <th>1100</th>\n",
       "      <td>Sex worker organizations in Australia</td>\n",
       "      <td>Prostitution</td>\n",
       "      <td>Prostitution in Australia</td>\n",
       "      <td>3</td>\n",
       "      <td>NaN</td>\n",
       "    </tr>\n",
       "    <tr>\n",
       "      <th>528</th>\n",
       "      <td>Rape trials</td>\n",
       "      <td>Sexual violence</td>\n",
       "      <td>Rape</td>\n",
       "      <td>2</td>\n",
       "      <td>NaN</td>\n",
       "    </tr>\n",
       "    <tr>\n",
       "      <th>3329</th>\n",
       "      <td>Neo-Nazism in Russia</td>\n",
       "      <td>White nationalism</td>\n",
       "      <td>Neo-Nazism by country</td>\n",
       "      <td>4</td>\n",
       "      <td>4.0</td>\n",
       "    </tr>\n",
       "    <tr>\n",
       "      <th>222</th>\n",
       "      <td>Sexual abuse cover-ups</td>\n",
       "      <td>Child abuse</td>\n",
       "      <td>Child sexual abuse</td>\n",
       "      <td>2</td>\n",
       "      <td>NaN</td>\n",
       "    </tr>\n",
       "    <tr>\n",
       "      <th>2501</th>\n",
       "      <td>1920s pornographic films</td>\n",
       "      <td>Erotic</td>\n",
       "      <td>Pornographic films by decade</td>\n",
       "      <td>5</td>\n",
       "      <td>NaN</td>\n",
       "    </tr>\n",
       "    <tr>\n",
       "      <th>1812</th>\n",
       "      <td>Women pornographic film directors</td>\n",
       "      <td>Erotic</td>\n",
       "      <td>Pornographic film directors</td>\n",
       "      <td>4</td>\n",
       "      <td>NaN</td>\n",
       "    </tr>\n",
       "    <tr>\n",
       "      <th>2466</th>\n",
       "      <td>German female adult models</td>\n",
       "      <td>Erotic</td>\n",
       "      <td>Female adult models by nationality</td>\n",
       "      <td>5</td>\n",
       "      <td>NaN</td>\n",
       "    </tr>\n",
       "  </tbody>\n",
       "</table>\n",
       "<p>30 rows × 5 columns</p>\n",
       "</div>"
      ],
      "text/plain": [
       "                                                   name               seed  \\\n",
       "966                                            Alt porn             Erotic   \n",
       "1546                            Egyptian erotic artists             Erotic   \n",
       "1912                                    Hentai creators             Erotic   \n",
       "115                             Prostitution by country       Prostitution   \n",
       "1746                   Actors in gay pornographic films             Erotic   \n",
       "3090                                   Boer nationalism  White nationalism   \n",
       "66                                    Child abandonment        Child abuse   \n",
       "596                                    Torture in Syria            Torture   \n",
       "1428                    Filicides in the United Kingdom        Child abuse   \n",
       "1243                                 Rape in Bangladesh    Sexual violence   \n",
       "2214  Films about scandalous teacher–student relatio...    Sexual violence   \n",
       "1387                   Instruments of torture by period            Torture   \n",
       "271                              Gay pornographic films             Erotic   \n",
       "727                          Murdered European children        Child abuse   \n",
       "2900                           Behavioral Analysis Unit       Prostitution   \n",
       "1094                           Prostitution in Malaysia       Prostitution   \n",
       "1791                               Russian adult models             Erotic   \n",
       "1931  British pornographic film actors of Indian des...        Paraphilias   \n",
       "645                      American murderers of children        Child abuse   \n",
       "2286        C-Class Low-importance Pornography articles         Pornograph   \n",
       "1513               Television episodes about pedophilia        Child abuse   \n",
       "3357                        Members of Nasjonal Samling  White nationalism   \n",
       "1784                             Hungarian adult models             Erotic   \n",
       "1100              Sex worker organizations in Australia       Prostitution   \n",
       "528                                         Rape trials    Sexual violence   \n",
       "3329                               Neo-Nazism in Russia  White nationalism   \n",
       "222                              Sexual abuse cover-ups        Child abuse   \n",
       "2501                           1920s pornographic films             Erotic   \n",
       "1812                  Women pornographic film directors             Erotic   \n",
       "2466                         German female adult models             Erotic   \n",
       "\n",
       "                                            parent  level  max_level  \n",
       "966                           Pornography by genre      3        NaN  \n",
       "1546                 Erotic artists by nationality      4        NaN  \n",
       "1912                                        Hentai      4        NaN  \n",
       "115                                   Prostitution      1        NaN  \n",
       "1746                          Gay male pornography      4        NaN  \n",
       "3090                             White nationalism      1        4.0  \n",
       "66                                     Child abuse      1        NaN  \n",
       "596                             Torture by country      2        NaN  \n",
       "1428                 British murderers of children      4        NaN  \n",
       "1243                               Rape by country      3        NaN  \n",
       "2214                        Films about sex crimes      4        NaN  \n",
       "1387                        Instruments of torture      3        NaN  \n",
       "271                                   LGBT erotica      2        NaN  \n",
       "727                              Murdered children      3        NaN  \n",
       "2900                            Offender profiling      6        NaN  \n",
       "1094                          Prostitution in Asia      3        NaN  \n",
       "1791                   Adult models by nationality      4        NaN  \n",
       "1931         Pornographic film actors by ethnicity      4        NaN  \n",
       "645               Child abuse in the United States      3        NaN  \n",
       "2286           Low-importance Pornography articles      4        NaN  \n",
       "1513  Television episodes about child sexual abuse      4        NaN  \n",
       "3357                              Nazi politicians      4        4.0  \n",
       "1784                   Adult models by nationality      4        NaN  \n",
       "1100                     Prostitution in Australia      3        NaN  \n",
       "528                                           Rape      2        NaN  \n",
       "3329                         Neo-Nazism by country      4        4.0  \n",
       "222                             Child sexual abuse      2        NaN  \n",
       "2501                  Pornographic films by decade      5        NaN  \n",
       "1812                   Pornographic film directors      4        NaN  \n",
       "2466            Female adult models by nationality      5        NaN  \n",
       "\n",
       "[30 rows x 5 columns]"
      ]
     },
     "execution_count": 567,
     "metadata": {},
     "output_type": "execute_result"
    }
   ],
   "source": [
    "blocklist_final.sample(30)"
   ]
  },
  {
   "cell_type": "markdown",
   "id": "cf8b2034-6f70-410f-8399-a45548126f49",
   "metadata": {},
   "source": [
    "## Pull records matching against the blocklist"
   ]
  },
  {
   "cell_type": "code",
   "execution_count": 568,
   "id": "acd174ea-877b-41ef-9304-2618e2ef6fcb",
   "metadata": {},
   "outputs": [],
   "source": [
    "BLOCKED_PAGES_INDEX = OUTPUT_DIR / \"cirrussearch-content-blocked.json.gz\""
   ]
  },
  {
   "cell_type": "code",
   "execution_count": 576,
   "id": "6af48f36-1b7e-4b39-892b-b551afb3a730",
   "metadata": {},
   "outputs": [],
   "source": [
    "class BlockedIndexing(IndexStream):\n",
    "    def __init__(self, blocked_cats):\n",
    "        self.blocked_cats = pd.Series(blocked_cats)\n",
    "\n",
    "    def _process_record(self, line, i):\n",
    "        j = json.loads(line)\n",
    "        if self.blocked_cats.isin(j[\"category\"]).any():\n",
    "            self._write_to_output(line)"
   ]
  },
  {
   "cell_type": "markdown",
   "id": "2bf2204d-116f-4fe3-a154-66b0bbd76ccd",
   "metadata": {},
   "source": [
    "Took ~30 min."
   ]
  },
  {
   "cell_type": "code",
   "execution_count": 577,
   "id": "71d873bb-c84f-49e6-968f-35b5aba14625",
   "metadata": {},
   "outputs": [
    {
     "name": "stderr",
     "output_type": "stream",
     "text": [
      "13220896it [31:54, 6905.67it/s]                                                                                                                          "
     ]
    },
    {
     "name": "stdout",
     "output_type": "stream",
     "text": [
      "CPU times: user 30min 19s, sys: 34.1 s, total: 30min 53s\n",
      "Wall time: 31min 54s\n"
     ]
    },
    {
     "name": "stderr",
     "output_type": "stream",
     "text": [
      "\n"
     ]
    }
   ],
   "source": [
    "%%time\n",
    "\n",
    "bi = BlockedIndexing(blocklist_final[\"name\"])\n",
    "bi.run_with_output_file(BLOCKED_PAGES_INDEX)"
   ]
  },
  {
   "cell_type": "code",
   "execution_count": 578,
   "id": "bcff1dda-63a3-445b-a9a3-80d48ada9c5a",
   "metadata": {},
   "outputs": [
    {
     "name": "stdout",
     "output_type": "stream",
     "text": [
      "Records kept: 30,798\n"
     ]
    }
   ],
   "source": [
    "print(f\"Records kept: {bi.n_kept:,}\")"
   ]
  },
  {
   "cell_type": "code",
   "execution_count": 782,
   "id": "503b34d2-2d31-489a-a954-3662dd5ce120",
   "metadata": {},
   "outputs": [],
   "source": [
    "df_bl = pd.read_json(BLOCKED_PAGES_INDEX, lines=True)"
   ]
  },
  {
   "cell_type": "markdown",
   "id": "d1d72380-31b5-43bf-b69c-9b929b97b975",
   "metadata": {},
   "source": [
    "# Appendix"
   ]
  },
  {
   "cell_type": "markdown",
   "id": "ee6b7d78-ae92-4460-8f47-ad5077f05fac",
   "metadata": {
    "tags": []
   },
   "source": [
    "## Generate a sample from the full index\n",
    "\n",
    "Pull a 1% sample that is more manageable for exploratory analysis, ignoring the initial `index` objects for each entry."
   ]
  },
  {
   "cell_type": "code",
   "execution_count": 582,
   "id": "66ef020b-b2ce-4651-9fd5-b59c851263ef",
   "metadata": {},
   "outputs": [],
   "source": [
    "SAMPLE_INDEX = OUTPUT_DIR / \"enwiki-20230123-cirrussearch-sample.json.gz\""
   ]
  },
  {
   "cell_type": "code",
   "execution_count": 586,
   "id": "99e53331-c22e-4b47-aa0e-86cbd03c344a",
   "metadata": {},
   "outputs": [],
   "source": [
    "class IndexSampler(IndexStream):\n",
    "    def _process_record(self, line, i):\n",
    "        if random.random() < 0.01:\n",
    "            self._write_to_output(line)"
   ]
  },
  {
   "cell_type": "markdown",
   "id": "5483d298-a143-428f-adb4-82b86b3c361f",
   "metadata": {},
   "source": [
    "Took ~10 min. Wrote a gzipped JSON of 400 MB."
   ]
  },
  {
   "cell_type": "code",
   "execution_count": 587,
   "id": "88c37e23-75db-4a6d-b5b6-568477ae7e83",
   "metadata": {},
   "outputs": [
    {
     "name": "stderr",
     "output_type": "stream",
     "text": [
      "100%|████████████████████████████████████████████████████████████████████████████████████████████████████▊| 13220896/13250000 [09:11<00:01, 23953.17it/s]"
     ]
    },
    {
     "name": "stdout",
     "output_type": "stream",
     "text": [
      "CPU times: user 8min 23s, sys: 19.6 s, total: 8min 42s\n",
      "Wall time: 9min 11s\n"
     ]
    },
    {
     "name": "stderr",
     "output_type": "stream",
     "text": [
      "\n"
     ]
    }
   ],
   "source": [
    "%%time\n",
    "\n",
    "idxs = IndexSampler()\n",
    "idxs.run_with_output_file(SAMPLE_INDEX)"
   ]
  },
  {
   "cell_type": "code",
   "execution_count": 588,
   "id": "f9e4e981-7fc0-4417-bb40-6cfb18e1c908",
   "metadata": {},
   "outputs": [
    {
     "name": "stdout",
     "output_type": "stream",
     "text": [
      "Records kept: 66,621\n"
     ]
    }
   ],
   "source": [
    "print(f\"Records kept: {idxs.n_kept:,}\")"
   ]
  },
  {
   "cell_type": "markdown",
   "id": "17453a16-eaeb-4c03-9452-aa1400df5484",
   "metadata": {},
   "source": [
    "## Download bad word lists to consider for filtering"
   ]
  },
  {
   "cell_type": "markdown",
   "id": "98764478-dcfa-4e81-b5ae-fa0de5a5d789",
   "metadata": {},
   "source": [
    "We will try out using some lists of \"bad words\" to detect objectionable Wikipedia content.\n",
    "\n",
    "These lists are quite broad and contain a number of terms that are either generally not \"bad\" or whose \"badness\" either depends on context. If we use this approach, we would need to curate a much more targeted list."
   ]
  },
  {
   "cell_type": "code",
   "execution_count": 589,
   "id": "0a80a558-ad8b-4306-878c-b35bde242a1d",
   "metadata": {},
   "outputs": [],
   "source": [
    "WORDLISTS_JSON = OUTPUT_DIR / \"word_lists.json\"\n",
    "\n",
    "# Older word list, pretty widly used for filtering online comments\n",
    "LDNOOBW_LIST_SRC = \"https://raw.githubusercontent.com/LDNOOBW/List-of-Dirty-Naughty-Obscene-and-Otherwise-Bad-Words/master/en\"\n",
    "# Word list from CMU research\n",
    "CMU_LIST_SRC = \"https://www.cs.cmu.edu/~biglou/resources/bad-words.txt\"\n",
    "# Word list used by Github Copilot\n",
    "COPILOT_LIST_SRC = \"https://moyix.net/~moyix/copilot_slurs_rot13.txt\""
   ]
  },
  {
   "cell_type": "code",
   "execution_count": 590,
   "id": "8879947f-c253-4fcd-94f5-31de6d88b5f8",
   "metadata": {},
   "outputs": [],
   "source": [
    "ldnoobw_list = requests.get(LDNOOBW_LIST_SRC).text.splitlines()"
   ]
  },
  {
   "cell_type": "code",
   "execution_count": 591,
   "id": "c5740708-6013-4e5a-9e4c-a872c3e8c83d",
   "metadata": {},
   "outputs": [],
   "source": [
    "cmu_list = requests.get(CMU_LIST_SRC).text.strip().splitlines()"
   ]
  },
  {
   "cell_type": "code",
   "execution_count": 607,
   "id": "8c78a769-95b7-42b1-873c-15c120b505ea",
   "metadata": {},
   "outputs": [],
   "source": [
    "copilot_list = requests.get(COPILOT_LIST_SRC).text.split(\"===\")[0]\n",
    "copilot_list = codecs.decode(copilot_list, \"rot_13\").splitlines()\n",
    "copilot_list = [x for x in sorted(copilot_list) if not x.startswith(\"<\")]"
   ]
  },
  {
   "cell_type": "code",
   "execution_count": 608,
   "id": "d6feb4d9-ec46-42f8-b1db-09dcb4f32bfd",
   "metadata": {},
   "outputs": [],
   "source": [
    "wordlists = {\n",
    "    \"ldnoobw\": ldnoobw_list,\n",
    "    \"cmu\": cmu_list,\n",
    "    \"copilot\": copilot_list,\n",
    "}"
   ]
  },
  {
   "cell_type": "code",
   "execution_count": 609,
   "id": "6cfe14d3-169b-4782-906c-2fb6ed653a17",
   "metadata": {},
   "outputs": [],
   "source": [
    "with open(WORDLISTS_JSON, \"w\") as f:\n",
    "    json.dump(wordlists, f)"
   ]
  },
  {
   "cell_type": "code",
   "execution_count": 610,
   "id": "6b4b4269-261b-47d1-99f9-8996550a1af3",
   "metadata": {},
   "outputs": [
    {
     "data": {
      "text/plain": [
       "{'ldnoobw': 403, 'cmu': 1383, 'copilot': 1023}"
      ]
     },
     "execution_count": 610,
     "metadata": {},
     "output_type": "execute_result"
    }
   ],
   "source": [
    "{k: len(v) for k, v in wordlists.items()}"
   ]
  },
  {
   "cell_type": "markdown",
   "id": "d2db58de-1cd2-4c85-a2e8-365b85644640",
   "metadata": {},
   "source": [
    "Intersection & union sizes:"
   ]
  },
  {
   "cell_type": "code",
   "execution_count": 611,
   "id": "84e42a95-6d32-44f4-8b95-9725554a19a9",
   "metadata": {},
   "outputs": [
    {
     "data": {
      "text/plain": [
       "50"
      ]
     },
     "execution_count": 611,
     "metadata": {},
     "output_type": "execute_result"
    }
   ],
   "source": [
    "len(set(wordlists[\"ldnoobw\"]) & set(wordlists[\"cmu\"]) & set(wordlists[\"copilot\"]))"
   ]
  },
  {
   "cell_type": "code",
   "execution_count": 612,
   "id": "85cafea2-b2f3-4982-9310-d6396a265fe4",
   "metadata": {},
   "outputs": [
    {
     "name": "stdout",
     "output_type": "stream",
     "text": [
      "133\n",
      "66\n",
      "383\n"
     ]
    }
   ],
   "source": [
    "print(len(set(wordlists[\"ldnoobw\"]) & set(wordlists[\"cmu\"])))\n",
    "print(len(set(wordlists[\"ldnoobw\"]) & set(wordlists[\"copilot\"])))\n",
    "print(len(set(wordlists[\"cmu\"]) & set(wordlists[\"copilot\"])))"
   ]
  },
  {
   "cell_type": "code",
   "execution_count": 613,
   "id": "eaf6cd6c-c46f-473f-a4b1-c047899907e6",
   "metadata": {},
   "outputs": [
    {
     "data": {
      "text/plain": [
       "2277"
      ]
     },
     "execution_count": 613,
     "metadata": {},
     "output_type": "execute_result"
    }
   ],
   "source": [
    "len(set(wordlists[\"ldnoobw\"]) | set(wordlists[\"cmu\"]) | set(wordlists[\"copilot\"]))"
   ]
  },
  {
   "cell_type": "code",
   "execution_count": 614,
   "id": "1f6528db-6857-493c-aef0-5db1bbdc7305",
   "metadata": {},
   "outputs": [],
   "source": [
    "ALL_BADWORDS = set(wordlists[\"ldnoobw\"]) | set(wordlists[\"cmu\"]) | set(wordlists[\"copilot\"])"
   ]
  },
  {
   "cell_type": "code",
   "execution_count": 615,
   "id": "f14bb302-5d19-422a-98ba-485836c2641a",
   "metadata": {},
   "outputs": [],
   "source": [
    "ALL_BADWORDS_RE = re.compile(\"(\" + \"|\".join([fr\"\\b{re.escape(w)}\\b\" for w in ALL_BADWORDS]) + \")\")"
   ]
  }
 ],
 "metadata": {
  "kernelspec": {
   "display_name": "Python [conda env:wikipedia]",
   "language": "python",
   "name": "conda-env-wikipedia-py"
  },
  "language_info": {
   "codemirror_mode": {
    "name": "ipython",
    "version": 3
   },
   "file_extension": ".py",
   "mimetype": "text/x-python",
   "name": "python",
   "nbconvert_exporter": "python",
   "pygments_lexer": "ipython3",
   "version": "3.10.8"
  }
 },
 "nbformat": 4,
 "nbformat_minor": 5
}
